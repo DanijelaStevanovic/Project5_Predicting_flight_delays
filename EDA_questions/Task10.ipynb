{
 "cells": [
  {
   "cell_type": "code",
   "execution_count": null,
   "id": "7ecdc93b-5606-4ddb-8759-9cfa30e48dbf",
   "metadata": {},
   "outputs": [],
   "source": [
    "import numpy as np\n",
    "import pandas as pd\n",
    "import matplotlib.pyplot as plt"
   ]
  },
  {
   "cell_type": "code",
   "execution_count": null,
   "id": "32eac23d-2740-4f48-89d0-4ceabbcd8c87",
   "metadata": {},
   "outputs": [],
   "source": [
    "passengers1 = pd.read_csv('data/passenger2016_2017.csv')\n",
    "passengers2 = pd.read_csv('data/passenger_2018.csv')\n",
    "fuel_con = pd.read_csv('data/Fuel_consumption.csv')"
   ]
  },
  {
   "cell_type": "code",
   "execution_count": null,
   "id": "d71e439e-7768-4e15-946a-1a27d21862dd",
   "metadata": {},
   "outputs": [],
   "source": [
    "#passengers by air carrier\n",
    "passengers_bycarrier = passengers[passengers['year']>2017][['carrier','passengers']].groupby('carrier').sum().sort_values('passengers',ascending=False)"
   ]
  },
  {
   "cell_type": "code",
   "execution_count": null,
   "id": "c6bb58af-ee29-4c0d-8f60-35dc9b730070",
   "metadata": {},
   "outputs": [],
   "source": [
    "#total fuel consumption per air carrier\n",
    "fuel_con_bycarrier = fuel_con[fuel_con['year']>2017][['carrier','total_gallons']].groupby('carrier').sum().sort_values('total_gallons',ascending=False)"
   ]
  },
  {
   "cell_type": "code",
   "execution_count": null,
   "id": "f470f309-2272-46d8-947d-78b4e6c8dcac",
   "metadata": {},
   "outputs": [],
   "source": [
    "df = pd.read_csv('data/model_df_version_1.csv')"
   ]
  },
  {
   "cell_type": "code",
   "execution_count": null,
   "id": "5ac49ccc-85b8-4341-a7b3-a8ed5ec1c704",
   "metadata": {},
   "outputs": [],
   "source": [
    "df['month'] = pd.DatetimeIndex(df['fl_date']).month\n",
    "df['weekday'] = pd.DatetimeIndex(df['fl_date']).weekday\n",
    "df['year'] = pd.DatetimeIndex(df['fl_date']).year"
   ]
  },
  {
   "cell_type": "code",
   "execution_count": null,
   "id": "f426a0f2-6634-4960-8775-bf795791ccba",
   "metadata": {},
   "outputs": [],
   "source": [
    "flights_by_carriermonth = df[['mkt_unique_carrier','month','year','distance','dep_delay']].groupby(['mkt_unique_carrier','month','year']).sum()"
   ]
  },
  {
   "cell_type": "code",
   "execution_count": null,
   "id": "49d9139f-1f91-4a81-bb28-ebeab054f826",
   "metadata": {},
   "outputs": [],
   "source": [
    "average_by_carrier = flights_by_carriermonth[['distance','dep_delay']].groupby('mkt_unique_carrier').mean()"
   ]
  },
  {
   "cell_type": "code",
   "execution_count": null,
   "id": "d5147bcc-6b4d-4517-8475-26076580a391",
   "metadata": {},
   "outputs": [],
   "source": [
    "qtendf = average_by_carrier.merge(fuel_con_bycarrier,how = 'left', left_index = True, right_index=True)\n",
    "qtendf = qtendf.merge(passengers_bycarrier,how = 'left', left_index = True, right_index=True)"
   ]
  },
  {
   "cell_type": "code",
   "execution_count": null,
   "id": "25d38d32-7d8d-40ac-ae45-4e52f1d9d823",
   "metadata": {},
   "outputs": [],
   "source": [
    "qtendf.head()"
   ]
  },
  {
   "cell_type": "code",
   "execution_count": null,
   "id": "5da67353-92cc-4275-9b10-51dc20eed89c",
   "metadata": {},
   "outputs": [],
   "source": [
    "median_gallon = qtendf[qtendf['total_gallons']>0]['total_gallons'].median()"
   ]
  },
  {
   "cell_type": "code",
   "execution_count": null,
   "id": "1109db86-fc71-4715-977a-f5d3e6c845be",
   "metadata": {},
   "outputs": [],
   "source": [
    "qtendf['passengers'] = qtendf['passengers']/24"
   ]
  },
  {
   "cell_type": "code",
   "execution_count": null,
   "id": "d20c9f27-3317-4f26-937b-73563fec85cd",
   "metadata": {},
   "outputs": [],
   "source": [
    "qtendf['total_gallons'] = qtendf['total_gallons'].where(qtendf['total_gallons']>0,avg_gallon)\n",
    "qtendf['monthly_distance_per_passenger'] = (qtendf['passengers']/qtendf['distance'])\n",
    "qtendf['avgfuel_percustomer_perdistance'] = qtendf['total_gallons']/qtendf['monthly_distance_per_passenger']\n",
    "qtendf['delay_ratio'] = qtendf['dep_delay']/qtendf['avgfuel_percustomer_perdistance']*10000"
   ]
  },
  {
   "cell_type": "code",
   "execution_count": null,
   "id": "6d9319fc-2dd0-492b-8879-7f003f4d4142",
   "metadata": {},
   "outputs": [],
   "source": [
    "qtendf[qtendf['total_gallons']>0][['dep_delay','delay_ratio','avgfuel_percustomer_perdistance']].sort_values(by='dep_delay',ascending=False)"
   ]
  },
  {
   "cell_type": "code",
   "execution_count": null,
   "id": "7ec54bdc-906e-4116-916a-1dc1aca7f35e",
   "metadata": {},
   "outputs": [],
   "source": [
    "plt.scatter(qtendf['dep_delay'], qtendf['avgfuel_percustomer_perdistance'])"
   ]
  },
  {
   "cell_type": "code",
   "execution_count": null,
   "id": "e68a5217-f614-478f-bb61-81be6eb322ac",
   "metadata": {},
   "outputs": [],
   "source": [
    "qtendf = qtendf.rename(columns={'distance':'avg_distance_per_month_by_carrier','dep_delay':'avg_dep_delay_by_carrier','passengers':'passengers_by_carrier_per_month'})"
   ]
  },
  {
   "cell_type": "code",
   "execution_count": null,
   "id": "296f2d50-714a-4243-bc4b-e803019f10d6",
   "metadata": {},
   "outputs": [],
   "source": [
    "plt.scatter(qtendf['avg_dep_delay_by_carrier'],qtendf['passengers_by_carrier_per_month'])"
   ]
  },
  {
   "cell_type": "code",
   "execution_count": null,
   "id": "ce2b5693-8623-4582-8e88-2bf66fdce8fd",
   "metadata": {},
   "outputs": [],
   "source": [
    "plt.scatter(qtendf['avg_dep_delay_by_carrier'],qtendf['total_gallons'])"
   ]
  },
  {
   "cell_type": "code",
   "execution_count": null,
   "id": "b708e7af-c4ed-441f-b07b-7d799bd24afa",
   "metadata": {},
   "outputs": [],
   "source": [
    "qtendf = qtendf.drop(columns='delay_ratio')"
   ]
  }
 ],
 "metadata": {
  "kernelspec": {
   "display_name": "LHL_env",
   "language": "python",
   "name": "lhl_env"
  },
  "language_info": {
   "codemirror_mode": {
    "name": "ipython",
    "version": 3
   },
   "file_extension": ".py",
   "mimetype": "text/x-python",
   "name": "python",
   "nbconvert_exporter": "python",
   "pygments_lexer": "ipython3",
   "version": "3.10.9"
  }
 },
 "nbformat": 4,
 "nbformat_minor": 5
}
