{
 "cells": [
  {
   "cell_type": "code",
   "execution_count": null,
   "id": "25d4d50f-011e-42e5-bc2c-3d9c88820085",
   "metadata": {},
   "outputs": [],
   "source": [
    "import numpy as np\n",
    "import pandas as pd\n",
    "import matplotlib.pyplot as plt"
   ]
  },
  {
   "cell_type": "code",
   "execution_count": null,
   "id": "fadab087-1c58-4e4d-905c-23876beb705c",
   "metadata": {},
   "outputs": [],
   "source": [
    "passengers1 = pd.read_csv('data/passenger2016_2017.csv')\n",
    "passengers2 = pd.read_csv('data/passenger_2018.csv')\n",
    "fuel_con = pd.read_csv('data/Fuel_consumption.csv')"
   ]
  },
  {
   "cell_type": "code",
   "execution_count": null,
   "id": "1a239e83-671e-436f-9a59-3f6dc21c81f0",
   "metadata": {},
   "outputs": [],
   "source": [
    "passengers = pd.concat([passengers1,passengers2])"
   ]
  },
  {
   "cell_type": "code",
   "execution_count": null,
   "id": "adc836bf-1581-45ef-917e-150e099e1c48",
   "metadata": {},
   "outputs": [],
   "source": [
    "passengers.columns"
   ]
  },
  {
   "cell_type": "code",
   "execution_count": null,
   "id": "4ca95f40-40a7-4909-847f-66f3ac23e797",
   "metadata": {},
   "outputs": [],
   "source": [
    "passengers.describe()"
   ]
  },
  {
   "cell_type": "code",
   "execution_count": null,
   "id": "fed6cf9f-1e7d-4d2e-8746-48a541e3d677",
   "metadata": {},
   "outputs": [],
   "source": [
    "departures = passengers[['origin_city_name','origin','departures_performed','passengers']].groupby(['origin','origin_city_name']).sum()\n",
    "\n",
    "#dividing by 5 to make it a yearly sum\n",
    "departures['departures_performed'] = departures['departures_performed']/5\n",
    "departures['passengers'] = departures['passengers']/5\n",
    "\n",
    "departures.sort_values('departures_performed',ascending=False)\n",
    "departures = departures.rename(columns={'departures_performed':'yearly_departures_per_ap','passengers':'yearly_passengers_per_ap'})\n",
    "\n",
    "departures.to_csv('data/departures_by_airport.csv')"
   ]
  },
  {
   "cell_type": "code",
   "execution_count": null,
   "id": "fe0dc4b7-ddce-4eaa-bc0f-aa42e7f60782",
   "metadata": {},
   "outputs": [],
   "source": [
    "departures.sort_values('yearly_departures_per_ap',ascending=False).head(10)"
   ]
  },
  {
   "cell_type": "code",
   "execution_count": null,
   "id": "34882a7a-d8e9-42c3-9b6d-23a7168d1294",
   "metadata": {},
   "outputs": [],
   "source": [
    "departures.sort_values('yearly_passengers_per_ap',ascending=False).head(10)"
   ]
  },
  {
   "cell_type": "code",
   "execution_count": null,
   "id": "6939fc77-c400-4d7c-9282-b394458bfe76",
   "metadata": {},
   "outputs": [],
   "source": [
    "plt.scatter(departures['yearly_departures_per_ap'],departures['yearly_passengers_per_ap'])"
   ]
  }
 ],
 "metadata": {
  "kernelspec": {
   "display_name": "LHL_env",
   "language": "python",
   "name": "lhl_env"
  },
  "language_info": {
   "codemirror_mode": {
    "name": "ipython",
    "version": 3
   },
   "file_extension": ".py",
   "mimetype": "text/x-python",
   "name": "python",
   "nbconvert_exporter": "python",
   "pygments_lexer": "ipython3",
   "version": "3.10.9"
  }
 },
 "nbformat": 4,
 "nbformat_minor": 5
}
