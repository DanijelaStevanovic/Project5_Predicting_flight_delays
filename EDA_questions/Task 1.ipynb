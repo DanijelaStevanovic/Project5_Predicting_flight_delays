{
 "cells": [
  {
   "cell_type": "markdown",
   "id": "2855c102",
   "metadata": {},
   "source": [
    "# Test the hypothesis that the delay is from Normal distribution. and that mean of the delay is 0. "
   ]
  },
  {
   "cell_type": "markdown",
   "id": "c105e8f5",
   "metadata": {},
   "source": [
    "* This task is asking for 2 hypothesis tests:\n",
    "1. A Normality test for normal distribution\n",
    "2. A Ttest to compare the sample mean with a mean of 0."
   ]
  },
  {
   "cell_type": "code",
   "execution_count": 3,
   "id": "22c0e2d1",
   "metadata": {},
   "outputs": [],
   "source": [
    "import pandas as pd\n",
    "import numpy as np\n",
    "import matplotlib.pyplot as plt"
   ]
  },
  {
   "cell_type": "code",
   "execution_count": 147,
   "id": "005ecea1",
   "metadata": {},
   "outputs": [],
   "source": [
    "## 1. read the big flights_csv file in chunks of 1 million rows at a time\n",
    "chunk = pd.read_csv('flights.csv', chunksize=1000000, low_memory=False)\n",
    "df = pd.concat(chunk)\n",
    "\n",
    "\n",
    "## OR 2. read the flights_sample csv\n",
    "# df = pd.read_csv('flights_sample.csv')"
   ]
  },
  {
   "cell_type": "code",
   "execution_count": 162,
   "id": "a129ee60",
   "metadata": {},
   "outputs": [
    {
     "name": "stdout",
     "output_type": "stream",
     "text": [
      "<class 'pandas.core.frame.DataFrame'>\n",
      "RangeIndex: 15927485 entries, 0 to 15927484\n",
      "Data columns (total 3 columns):\n",
      " #   Column        Dtype  \n",
      "---  ------        -----  \n",
      " 0   arr_delay     float64\n",
      " 1   crs_arr_time  int64  \n",
      " 2   arr_time      float64\n",
      "dtypes: float64(2), int64(1)\n",
      "memory usage: 364.6 MB\n"
     ]
    }
   ],
   "source": [
    "# take only the relevant columns and remove Null values\n",
    "\n",
    "tmp = df[['arr_delay', 'crs_arr_time', 'arr_time']]\n",
    "tmp.info()"
   ]
  },
  {
   "cell_type": "code",
   "execution_count": 163,
   "id": "ec87c5d9",
   "metadata": {},
   "outputs": [
    {
     "name": "stdout",
     "output_type": "stream",
     "text": [
      "<class 'pandas.core.frame.DataFrame'>\n",
      "RangeIndex: 15927485 entries, 0 to 15927484\n",
      "Data columns (total 3 columns):\n",
      " #   Column        Dtype  \n",
      "---  ------        -----  \n",
      " 0   arr_delay     float64\n",
      " 1   crs_arr_time  int64  \n",
      " 2   arr_time      float64\n",
      "dtypes: float64(2), int64(1)\n",
      "memory usage: 364.6 MB\n"
     ]
    },
    {
     "data": {
      "text/html": [
       "<div>\n",
       "<style scoped>\n",
       "    .dataframe tbody tr th:only-of-type {\n",
       "        vertical-align: middle;\n",
       "    }\n",
       "\n",
       "    .dataframe tbody tr th {\n",
       "        vertical-align: top;\n",
       "    }\n",
       "\n",
       "    .dataframe thead th {\n",
       "        text-align: right;\n",
       "    }\n",
       "</style>\n",
       "<table border=\"1\" class=\"dataframe\">\n",
       "  <thead>\n",
       "    <tr style=\"text-align: right;\">\n",
       "      <th></th>\n",
       "      <th>arr_delay</th>\n",
       "      <th>crs_arr_time</th>\n",
       "      <th>arr_time</th>\n",
       "    </tr>\n",
       "  </thead>\n",
       "  <tbody>\n",
       "    <tr>\n",
       "      <th>4100</th>\n",
       "      <td>NaN</td>\n",
       "      <td>1835</td>\n",
       "      <td>1835.0</td>\n",
       "    </tr>\n",
       "    <tr>\n",
       "      <th>4135</th>\n",
       "      <td>NaN</td>\n",
       "      <td>1418</td>\n",
       "      <td>1418.0</td>\n",
       "    </tr>\n",
       "    <tr>\n",
       "      <th>4157</th>\n",
       "      <td>NaN</td>\n",
       "      <td>1035</td>\n",
       "      <td>1035.0</td>\n",
       "    </tr>\n",
       "    <tr>\n",
       "      <th>4235</th>\n",
       "      <td>NaN</td>\n",
       "      <td>1129</td>\n",
       "      <td>1129.0</td>\n",
       "    </tr>\n",
       "    <tr>\n",
       "      <th>4250</th>\n",
       "      <td>NaN</td>\n",
       "      <td>725</td>\n",
       "      <td>725.0</td>\n",
       "    </tr>\n",
       "  </tbody>\n",
       "</table>\n",
       "</div>"
      ],
      "text/plain": [
       "      arr_delay  crs_arr_time  arr_time\n",
       "4100        NaN          1835    1835.0\n",
       "4135        NaN          1418    1418.0\n",
       "4157        NaN          1035    1035.0\n",
       "4235        NaN          1129    1129.0\n",
       "4250        NaN           725     725.0"
      ]
     },
     "execution_count": 163,
     "metadata": {},
     "output_type": "execute_result"
    }
   ],
   "source": [
    "tmp.info()\n",
    "\n",
    "# check for records where dep_delay is NAN because there was no delay\n",
    "\n",
    "filter1 = tmp['arr_delay'].isna()\n",
    "filter2 = tmp['crs_arr_time'] == tmp['arr_time']\n",
    "tmp[(filter1) & (filter2)].head()"
   ]
  },
  {
   "cell_type": "code",
   "execution_count": 164,
   "id": "4edebec1",
   "metadata": {},
   "outputs": [
    {
     "data": {
      "text/plain": [
       "2600"
      ]
     },
     "execution_count": 164,
     "metadata": {},
     "output_type": "execute_result"
    }
   ],
   "source": [
    "len(tmp[(filter1) & (filter2)]) # count the records to confirm if they're deleted later"
   ]
  },
  {
   "cell_type": "code",
   "execution_count": 165,
   "id": "3c0a2297",
   "metadata": {},
   "outputs": [],
   "source": [
    "# loop through all those records and set arr_delay to 0\n",
    "indices = tmp[(filter1) & (filter2)].index.to_list()\n",
    "\n",
    "for idx in indices:\n",
    "    tmp.loc[idx, 'arr_delay'] = 0"
   ]
  },
  {
   "cell_type": "code",
   "execution_count": 166,
   "id": "fb3433fc",
   "metadata": {},
   "outputs": [
    {
     "data": {
      "text/plain": [
       "0"
      ]
     },
     "execution_count": 166,
     "metadata": {},
     "output_type": "execute_result"
    }
   ],
   "source": [
    "# filter and repeat the count\n",
    "filter1 = tmp['arr_delay'].isna()\n",
    "filter2 = tmp['crs_arr_time'] == tmp['arr_time']\n",
    "len(tmp[(filter1) & (filter2)])"
   ]
  },
  {
   "cell_type": "code",
   "execution_count": null,
   "id": "50a7a916",
   "metadata": {},
   "outputs": [],
   "source": [
    "# remove the extra columns and Null values of arr_delay\n",
    "delay = tmp['arr_delay'].copy()\n",
    "delay.dropna(inplace=True)\n",
    "del tmp"
   ]
  },
  {
   "cell_type": "code",
   "execution_count": 189,
   "id": "4b28c7f6",
   "metadata": {},
   "outputs": [
    {
     "name": "stdout",
     "output_type": "stream",
     "text": [
      "p is 0.0\n",
      "The distribution is not Gaussian.\n"
     ]
    }
   ],
   "source": [
    "## Running the Normality test with shapiro\n",
    "\n",
    "from scipy.stats import shapiro\n",
    "\n",
    "delay_sample = delay.sample(n=2000)\n",
    "stat, p = shapiro(delay_sample.values)\n",
    "\n",
    "print(f'p is {p}')\n",
    "print('The distribution is', \n",
    "      'not Gaussian.' if p < 0.05 else 'probably Gaussian.')"
   ]
  },
  {
   "cell_type": "code",
   "execution_count": 173,
   "id": "913280a6",
   "metadata": {},
   "outputs": [
    {
     "name": "stdout",
     "output_type": "stream",
     "text": [
      "p is 1.8910294069573526e-05\n",
      "The mean of the distribution is  not equal to 0.\n"
     ]
    }
   ],
   "source": [
    "## Running the Ttest and comparing to a mean of 0\n",
    "\n",
    "delay_sample = delay.sample(n=2000)\n",
    "\n",
    "from scipy.stats import ttest_1samp\n",
    "stats, p = ttest_1samp(delay_sample.values, popmean=0)\n",
    "\n",
    "print(f'p is {p}')\n",
    "print('The mean of the distribution is', \n",
    "      (' not' if p < 0.05 else ' probably'),\n",
    "     'equal to 0.')"
   ]
  },
  {
   "cell_type": "markdown",
   "id": "d0b4b50e",
   "metadata": {},
   "source": [
    "## Checking the population..."
   ]
  },
  {
   "cell_type": "code",
   "execution_count": 175,
   "id": "d7a939a4",
   "metadata": {},
   "outputs": [
    {
     "data": {
      "text/plain": [
       "count    1.561834e+07\n",
       "mean     5.475021e+00\n",
       "std      4.986990e+01\n",
       "min     -1.290000e+03\n",
       "25%     -1.500000e+01\n",
       "50%     -6.000000e+00\n",
       "75%      8.000000e+00\n",
       "max      2.973000e+03\n",
       "Name: arr_delay, dtype: float64"
      ]
     },
     "execution_count": 175,
     "metadata": {},
     "output_type": "execute_result"
    }
   ],
   "source": [
    "delay.describe()"
   ]
  },
  {
   "cell_type": "markdown",
   "id": "b4926307",
   "metadata": {},
   "source": [
    "**Observation**: the mean of the dataset is not 0."
   ]
  },
  {
   "cell_type": "code",
   "execution_count": 178,
   "id": "2090f9a6",
   "metadata": {},
   "outputs": [
    {
     "data": {
      "image/png": "[encoded data removed]",
      "text/plain": [
       "<Figure size 640x480 with 1 Axes>"
      ]
     },
     "metadata": {},
     "output_type": "display_data"
    }
   ],
   "source": [
    "plt.hist(delay, bins=200);"
   ]
  },
  {
   "cell_type": "code",
   "execution_count": 185,
   "id": "7c1290a6",
   "metadata": {},
   "outputs": [
    {
     "data": {
      "image/png": "[encoded data removed]",
      "text/plain": [
       "<Figure size 640x480 with 1 Axes>"
      ]
     },
     "metadata": {},
     "output_type": "display_data"
    }
   ],
   "source": [
    "plt.boxplot(delay)\n",
    "plt.yticks(np.arange(-1200,3200,step=200))\n",
    "plt.grid(which='both')"
   ]
  },
  {
   "cell_type": "markdown",
   "id": "42b0d14d",
   "metadata": {},
   "source": [
    "## Removing Outliers\n",
    "\n",
    "It's obvious from the visualizations that this distribution is neither normal or has a mean of 0... But we will remove the outliers and run the tests again."
   ]
  },
  {
   "cell_type": "code",
   "execution_count": 186,
   "id": "55d411fa",
   "metadata": {},
   "outputs": [],
   "source": [
    "delay_minus_outliers = delay.copy()\n",
    "for idx in delay_minus_outliers.index:\n",
    "    if delay_minus_outliers[idx] > 2200:\n",
    "        delay_minus_outliers[idx] = 2200\n",
    "    elif delay_minus_outliers[idx] < -400:\n",
    "        delay_minus_outliers[idx] = -400\n",
    "    "
   ]
  },
  {
   "cell_type": "code",
   "execution_count": 187,
   "id": "24ef728b",
   "metadata": {},
   "outputs": [
    {
     "data": {
      "image/png": "[encoded data removed]",
      "text/plain": [
       "<Figure size 640x480 with 1 Axes>"
      ]
     },
     "metadata": {},
     "output_type": "display_data"
    }
   ],
   "source": [
    "plt.boxplot(delay_minus_outliers)\n",
    "plt.yticks(np.arange(-1200,3200,step=200))\n",
    "plt.grid(which='both')"
   ]
  },
  {
   "cell_type": "code",
   "execution_count": 188,
   "id": "8e0f2f33",
   "metadata": {},
   "outputs": [
    {
     "data": {
      "image/png": "[encoded data removed]",
      "text/plain": [
       "<Figure size 640x480 with 1 Axes>"
      ]
     },
     "metadata": {},
     "output_type": "display_data"
    }
   ],
   "source": [
    "plt.hist(delay_minus_outliers, bins=200);"
   ]
  },
  {
   "cell_type": "code",
   "execution_count": null,
   "id": "ad7b9907",
   "metadata": {},
   "outputs": [],
   "source": []
  },
  {
   "cell_type": "code",
   "execution_count": 190,
   "id": "a658e7c9",
   "metadata": {},
   "outputs": [
    {
     "name": "stdout",
     "output_type": "stream",
     "text": [
      "p is 0.0\n",
      "The distribution is not Gaussian.\n"
     ]
    }
   ],
   "source": [
    "## Running the Normality test with shapiro\n",
    "\n",
    "from scipy.stats import shapiro\n",
    "\n",
    "delay_sample = delay_minus_outliers.sample(n=2000)\n",
    "stat, p = shapiro(delay_sample.values)\n",
    "\n",
    "print(f'p is {p}')\n",
    "print('The distribution is', \n",
    "      'not Gaussian.' if p < 0.05 else 'probably Gaussian.')"
   ]
  },
  {
   "cell_type": "code",
   "execution_count": 191,
   "id": "42edc25c",
   "metadata": {},
   "outputs": [
    {
     "name": "stdout",
     "output_type": "stream",
     "text": [
      "p is 1.0094760695264722e-07\n",
      "The mean of the distribution is  not equal to 0.\n"
     ]
    }
   ],
   "source": [
    "## Running the Ttest and comparing to a mean of 0\n",
    "\n",
    "delay_sample = delay_minus_outliers.sample(n=2000)\n",
    "\n",
    "from scipy.stats import ttest_1samp\n",
    "stats, p = ttest_1samp(delay_sample.values, popmean=0)\n",
    "\n",
    "print(f'p is {p}')\n",
    "print('The mean of the distribution is', \n",
    "      (' not' if p < 0.05 else ' probably'),\n",
    "     'equal to 0.')"
   ]
  },
  {
   "cell_type": "markdown",
   "id": "9862a145",
   "metadata": {},
   "source": [
    "## Summary \n",
    "    \n",
    "1. Test for Hypothesis that the distribution is a normal distribution. \n",
    "- **Result**: The distribution is probably not a normal distribution.\n",
    "   \n",
    " \n",
    "\n",
    "2. Testing the Hypothesis that the distribution has a mean of zero.\n",
    "- **Result**: The distribution probably does not have a mean of zero."
   ]
  },
  {
   "cell_type": "code",
   "execution_count": null,
   "id": "03092ed9",
   "metadata": {},
   "outputs": [],
   "source": []
  }
 ],
 "metadata": {
  "kernelspec": {
   "display_name": "Python 3 (ipykernel)",
   "language": "python",
   "name": "python3"
  },
  "language_info": {
   "codemirror_mode": {
    "name": "ipython",
    "version": 3
   },
   "file_extension": ".py",
   "mimetype": "text/x-python",
   "name": "python",
   "nbconvert_exporter": "python",
   "pygments_lexer": "ipython3",
   "version": "3.8.16"
  }
 },
 "nbformat": 4,
 "nbformat_minor": 5
}
