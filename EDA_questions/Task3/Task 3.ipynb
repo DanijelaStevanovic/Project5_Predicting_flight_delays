{
 "cells": [
  {
   "attachments": {},
   "cell_type": "markdown",
   "id": "98419189",
   "metadata": {},
   "source": [
    "# Does the weather affect the delay?\n",
    "\n",
    "Use the API to pull the weather information for flights. There is no need to get weather for ALL flights. We can choose the right representative sample. Let's focus on four weather types:\n",
    "\n",
    "- sunny\n",
    "- cloudy\n",
    "- rainy\n",
    "- snow.\n",
    "\n",
    "Test the hypothesis that these 4 delays are from the same distribution. If they are not, which ones are significantly different?\n",
    "\n",
    "\n",
    "Weather data retrieved from worldweatheronline.com. See [Task 3 - Weather Prepwork](Task%203%20-%20Weather%20Prepwork.ipynb) for the details on working with the API and preparing the sample dataset."
   ]
  },
  {
   "cell_type": "code",
   "execution_count": 17,
   "id": "c4604c86",
   "metadata": {},
   "outputs": [],
   "source": [
    "import numpy as np\n",
    "import pandas as pd\n",
    "import matplotlib.pyplot as plt\n",
    "import seaborn as sns\n",
    "\n",
    "import scipy.stats as stats\n"
   ]
  },
  {
   "cell_type": "code",
   "execution_count": 88,
   "id": "5b6ca88a",
   "metadata": {},
   "outputs": [
    {
     "data": {
      "text/html": [
       "<div>\n",
       "<style scoped>\n",
       "    .dataframe tbody tr th:only-of-type {\n",
       "        vertical-align: middle;\n",
       "    }\n",
       "\n",
       "    .dataframe tbody tr th {\n",
       "        vertical-align: top;\n",
       "    }\n",
       "\n",
       "    .dataframe thead th {\n",
       "        text-align: right;\n",
       "    }\n",
       "</style>\n",
       "<table border=\"1\" class=\"dataframe\">\n",
       "  <thead>\n",
       "    <tr style=\"text-align: right;\">\n",
       "      <th></th>\n",
       "      <th>fl_date</th>\n",
       "      <th>origin_city_name</th>\n",
       "      <th>dest_city_name</th>\n",
       "      <th>crs_dep_time</th>\n",
       "      <th>delay</th>\n",
       "      <th>crs_arr_time</th>\n",
       "      <th>weather_delay</th>\n",
       "      <th>dep_hour</th>\n",
       "      <th>arr_hour</th>\n",
       "      <th>weather</th>\n",
       "    </tr>\n",
       "  </thead>\n",
       "  <tbody>\n",
       "    <tr>\n",
       "      <th>0</th>\n",
       "      <td>2018-07-14</td>\n",
       "      <td>Atlanta, GA</td>\n",
       "      <td>Austin, TX</td>\n",
       "      <td>1730</td>\n",
       "      <td>92.0</td>\n",
       "      <td>1850</td>\n",
       "      <td>56.0</td>\n",
       "      <td>17</td>\n",
       "      <td>18</td>\n",
       "      <td>Rainy</td>\n",
       "    </tr>\n",
       "    <tr>\n",
       "      <th>1</th>\n",
       "      <td>2018-07-14</td>\n",
       "      <td>Atlanta, GA</td>\n",
       "      <td>Jacksonville, FL</td>\n",
       "      <td>1710</td>\n",
       "      <td>72.0</td>\n",
       "      <td>1825</td>\n",
       "      <td>57.0</td>\n",
       "      <td>17</td>\n",
       "      <td>18</td>\n",
       "      <td>Rainy</td>\n",
       "    </tr>\n",
       "    <tr>\n",
       "      <th>2</th>\n",
       "      <td>2018-07-14</td>\n",
       "      <td>Atlanta, GA</td>\n",
       "      <td>Las Vegas, NV</td>\n",
       "      <td>1740</td>\n",
       "      <td>39.0</td>\n",
       "      <td>1855</td>\n",
       "      <td>37.0</td>\n",
       "      <td>17</td>\n",
       "      <td>19</td>\n",
       "      <td>Rainy</td>\n",
       "    </tr>\n",
       "    <tr>\n",
       "      <th>3</th>\n",
       "      <td>2018-07-14</td>\n",
       "      <td>Atlanta, GA</td>\n",
       "      <td>Tampa, FL</td>\n",
       "      <td>1715</td>\n",
       "      <td>73.0</td>\n",
       "      <td>1845</td>\n",
       "      <td>69.0</td>\n",
       "      <td>17</td>\n",
       "      <td>18</td>\n",
       "      <td>Rainy</td>\n",
       "    </tr>\n",
       "    <tr>\n",
       "      <th>4</th>\n",
       "      <td>2018-07-14</td>\n",
       "      <td>Atlanta, GA</td>\n",
       "      <td>Phoenix, AZ</td>\n",
       "      <td>1802</td>\n",
       "      <td>80.0</td>\n",
       "      <td>1902</td>\n",
       "      <td>5.0</td>\n",
       "      <td>18</td>\n",
       "      <td>19</td>\n",
       "      <td>Rainy</td>\n",
       "    </tr>\n",
       "  </tbody>\n",
       "</table>\n",
       "</div>"
      ],
      "text/plain": [
       "      fl_date origin_city_name    dest_city_name  crs_dep_time  delay  \\\n",
       "0  2018-07-14      Atlanta, GA        Austin, TX          1730   92.0   \n",
       "1  2018-07-14      Atlanta, GA  Jacksonville, FL          1710   72.0   \n",
       "2  2018-07-14      Atlanta, GA     Las Vegas, NV          1740   39.0   \n",
       "3  2018-07-14      Atlanta, GA         Tampa, FL          1715   73.0   \n",
       "4  2018-07-14      Atlanta, GA       Phoenix, AZ          1802   80.0   \n",
       "\n",
       "   crs_arr_time  weather_delay  dep_hour  arr_hour weather  \n",
       "0          1850           56.0        17        18   Rainy  \n",
       "1          1825           57.0        17        18   Rainy  \n",
       "2          1855           37.0        17        19   Rainy  \n",
       "3          1845           69.0        17        18   Rainy  \n",
       "4          1902            5.0        18        19   Rainy  "
      ]
     },
     "execution_count": 88,
     "metadata": {},
     "output_type": "execute_result"
    }
   ],
   "source": [
    "# retrieving sample dataset\n",
    "\n",
    "df = pd.read_csv('task3_weather_df.csv')\n",
    "df.head()"
   ]
  },
  {
   "cell_type": "code",
   "execution_count": 89,
   "id": "ce44d920",
   "metadata": {},
   "outputs": [
    {
     "data": {
      "text/plain": [
       "Rainy     23471\n",
       "Cloudy    13974\n",
       "Sunny     10052\n",
       "Snow       1532\n",
       "Name: weather, dtype: int64"
      ]
     },
     "execution_count": 89,
     "metadata": {},
     "output_type": "execute_result"
    }
   ],
   "source": [
    "df['weather'].value_counts()"
   ]
  },
  {
   "cell_type": "code",
   "execution_count": 85,
   "id": "74aea17c",
   "metadata": {},
   "outputs": [],
   "source": [
    "sunny_df = df[df['weather'] =='Sunny']['delay']\n",
    "cloudy_df = df[df['weather'] =='Cloudy']['delay']\n",
    "rainy_df = df[df['weather'] =='Rainy']['delay']\n",
    "snow_df = df[df['weather'] =='Snow']['delay']"
   ]
  },
  {
   "cell_type": "code",
   "execution_count": 71,
   "id": "425955ce",
   "metadata": {},
   "outputs": [
    {
     "data": {
      "text/plain": [
       "299       27.0\n",
       "300       32.0\n",
       "301       35.0\n",
       "302        3.0\n",
       "303       37.0\n",
       "         ...  \n",
       "48863      7.0\n",
       "48864    161.0\n",
       "48865    134.0\n",
       "48866     22.0\n",
       "48867      2.0\n",
       "Name: weather_delay, Length: 10052, dtype: float64"
      ]
     },
     "execution_count": 71,
     "metadata": {},
     "output_type": "execute_result"
    }
   ],
   "source": [
    "sunny_df"
   ]
  },
  {
   "attachments": {},
   "cell_type": "markdown",
   "id": "1fb82b33",
   "metadata": {},
   "source": [
    "## Visualizing the distributions"
   ]
  },
  {
   "cell_type": "code",
   "execution_count": 41,
   "id": "7c4faca7",
   "metadata": {},
   "outputs": [
    {
     "data": {
      "image/png": "[encoded data removed]",
      "text/plain": [
       "<Figure size 640x480 with 1 Axes>"
      ]
     },
     "metadata": {},
     "output_type": "display_data"
    }
   ],
   "source": [
    "ax = sns.barplot([sunny_df, cloudy_df, rainy_df, snow_df], label = ['Sunny', 'Cloudy', 'Rainy', 'Snow'])\n",
    "plt.legend(loc='upper center')\n",
    "plt.show()\n"
   ]
  },
  {
   "attachments": {},
   "cell_type": "markdown",
   "id": "a45830a7",
   "metadata": {},
   "source": [
    "## Running the statistics tests"
   ]
  },
  {
   "attachments": {},
   "cell_type": "markdown",
   "id": "d2f67789",
   "metadata": {},
   "source": [
    "To test if they are from the same distribution, we will check if they have equal means and variances. \n",
    "\n",
    "The Ttest has the following hypotheses:\n",
    "- H<sub>0</sub>: means are equal\n",
    "- H<sub>a</sub>: means are probably not equal\n",
    "\n",
    "The Levene's test has the following hypotheses:\n",
    "- H<sub>0</sub>: variances are equal\n",
    "- H<sub>a</sub>: variances are probably not equal"
   ]
  },
  {
   "cell_type": "code",
   "execution_count": null,
   "id": "cefc1cf8",
   "metadata": {},
   "outputs": [],
   "source": []
  },
  {
   "cell_type": "code",
   "execution_count": 78,
   "id": "1d98cc91",
   "metadata": {},
   "outputs": [],
   "source": [
    "def stats_tests(df1, df2):\n",
    "\n",
    "    # Levene's test for equal variances\n",
    "    stat, p = stats.levene(df1, df2)\n",
    "    print ('The variances are probably',\n",
    "           'equal.' if p>0.05 else 'not equal.')\n",
    "\n",
    "    stat, p = stats.ttest_ind(df1, df2, equal_var=False)\n",
    "    print ('The means are probably',\n",
    "           'equal.' if p>0.05 else 'not equal.')"
   ]
  },
  {
   "cell_type": "code",
   "execution_count": 79,
   "id": "49974e26",
   "metadata": {},
   "outputs": [
    {
     "name": "stdout",
     "output_type": "stream",
     "text": [
      "The variances are probably equal.\n",
      "The means are probably equal.\n"
     ]
    }
   ],
   "source": [
    "stats_tests(sunny_df, cloudy_df)"
   ]
  },
  {
   "cell_type": "code",
   "execution_count": 80,
   "id": "2ab635c1",
   "metadata": {},
   "outputs": [
    {
     "name": "stdout",
     "output_type": "stream",
     "text": [
      "The variances are probably not equal.\n",
      "The means are probably not equal.\n"
     ]
    }
   ],
   "source": [
    "stats_tests(sunny_df, snow_df)"
   ]
  },
  {
   "cell_type": "code",
   "execution_count": 81,
   "id": "9e0852dc",
   "metadata": {},
   "outputs": [
    {
     "name": "stdout",
     "output_type": "stream",
     "text": [
      "The variances are probably not equal.\n",
      "The means are probably not equal.\n"
     ]
    }
   ],
   "source": [
    "stats_tests(sunny_df, rainy_df)"
   ]
  },
  {
   "cell_type": "code",
   "execution_count": 82,
   "id": "1d9b0aa1",
   "metadata": {},
   "outputs": [
    {
     "name": "stdout",
     "output_type": "stream",
     "text": [
      "The variances are probably not equal.\n",
      "The means are probably not equal.\n"
     ]
    }
   ],
   "source": [
    "stats_tests(cloudy_df, snow_df)"
   ]
  },
  {
   "cell_type": "code",
   "execution_count": 86,
   "id": "9cb6b615",
   "metadata": {},
   "outputs": [
    {
     "name": "stdout",
     "output_type": "stream",
     "text": [
      "The variances are probably not equal.\n",
      "The means are probably not equal.\n"
     ]
    }
   ],
   "source": [
    "stats_tests(cloudy_df, rainy_df)"
   ]
  },
  {
   "cell_type": "code",
   "execution_count": 87,
   "id": "033b859f",
   "metadata": {},
   "outputs": [
    {
     "name": "stdout",
     "output_type": "stream",
     "text": [
      "The variances are probably not equal.\n",
      "The means are probably not equal.\n"
     ]
    }
   ],
   "source": [
    "stats_tests(snow_df, rainy_df)"
   ]
  },
  {
   "attachments": {},
   "cell_type": "markdown",
   "id": "0dd05257",
   "metadata": {},
   "source": [
    "## Conclusion:\n",
    "\n",
    "Based on these results, the **Sunny** and **Cloudy** are probably from the same distribution but the distributions of **Snow** and **Rainy** are significantly different.\""
   ]
  },
  {
   "cell_type": "code",
   "execution_count": null,
   "id": "0ae8f8ee",
   "metadata": {},
   "outputs": [],
   "source": []
  }
 ],
 "metadata": {
  "kernelspec": {
   "display_name": "Python 3 (ipykernel)",
   "language": "python",
   "name": "python3"
  },
  "language_info": {
   "codemirror_mode": {
    "name": "ipython",
    "version": 3
   },
   "file_extension": ".py",
   "mimetype": "text/x-python",
   "name": "python",
   "nbconvert_exporter": "python",
   "pygments_lexer": "ipython3",
   "version": "3.8.16"
  }
 },
 "nbformat": 4,
 "nbformat_minor": 5
}
