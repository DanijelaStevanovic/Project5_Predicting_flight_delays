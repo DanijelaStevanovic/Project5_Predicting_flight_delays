{
 "cells": [
  {
   "cell_type": "markdown",
   "id": "f60153a4",
   "metadata": {},
   "source": [
    "# Test the hypothesis whether planes fly faster when there is the departure delay?\n",
    "\n",
    "This test is asking us to run a Chi2 contingency tests on 2 categorical values. The first is a value of \"Delay\" that is derived from `dep_delay`. It is True when `dep_delay` is positive and False when it's non-positive. The second is a value of Faster_Flight that returns True if the `actual_elapsed_time` for the flight is shorter than the `crs_elapsed_time`, which is the planned time for the flight."
   ]
  },
  {
   "cell_type": "code",
   "execution_count": 1,
   "id": "745831e1",
   "metadata": {},
   "outputs": [],
   "source": [
    "import pandas as pd\n",
    "import numpy as np\n",
    "import matplotlib.pyplot as plt"
   ]
  },
  {
   "cell_type": "code",
   "execution_count": 2,
   "id": "63c33017",
   "metadata": {},
   "outputs": [],
   "source": [
    "## 1. read the big flights_csv file in chunks of 1 million rows at a time\n",
    "chunk = pd.read_csv('flights.csv', chunksize=1000000, low_memory=False)\n",
    "df = pd.concat(chunk)\n",
    "\n",
    "\n",
    "## OR 2. read the flights_sample csv\n",
    "# df = pd.read_csv('flights_sample.csv')"
   ]
  },
  {
   "cell_type": "code",
   "execution_count": 8,
   "id": "e20d7883",
   "metadata": {},
   "outputs": [],
   "source": [
    "# take only the relevant columns because this is a large dataframe\n",
    "columns = ['dep_delay',\n",
    "           'crs_elapsed_time',\n",
    "           'actual_elapsed_time']\n",
    "df = df[columns]\n",
    "df.dropna(inplace=True) # remove Null values"
   ]
  },
  {
   "cell_type": "code",
   "execution_count": 9,
   "id": "ffdc48c4",
   "metadata": {},
   "outputs": [],
   "source": [
    "# if dep_delay is positive, then delay is True\n",
    "delay = df['dep_delay'].apply(lambda x: True if x>0 else False)\n",
    "\n",
    "# get the difference between the actual elapsed time and what was planned\n",
    "change_in_speed = df['crs_elapsed_time'] - df['actual_elapsed_time']\n",
    "# if the actual time is smaller, then the planed flew faster\n",
    "flew_faster = change_in_speed.apply(lambda x: True if x>0 else False)"
   ]
  },
  {
   "cell_type": "code",
   "execution_count": 29,
   "id": "bc6631f3",
   "metadata": {},
   "outputs": [],
   "source": [
    "# join the 2 above into a dataframe\n",
    "df = pd.DataFrame({'Delay': delay,\n",
    "         'Faster_Flight': flew_faster})"
   ]
  },
  {
   "cell_type": "code",
   "execution_count": 42,
   "id": "17106d71",
   "metadata": {},
   "outputs": [
    {
     "data": {
      "text/html": [
       "<div>\n",
       "<style scoped>\n",
       "    .dataframe tbody tr th:only-of-type {\n",
       "        vertical-align: middle;\n",
       "    }\n",
       "\n",
       "    .dataframe tbody tr th {\n",
       "        vertical-align: top;\n",
       "    }\n",
       "\n",
       "    .dataframe thead th {\n",
       "        text-align: right;\n",
       "    }\n",
       "</style>\n",
       "<table border=\"1\" class=\"dataframe\">\n",
       "  <thead>\n",
       "    <tr style=\"text-align: right;\">\n",
       "      <th></th>\n",
       "      <th>Delay</th>\n",
       "      <th>Faster_Flight</th>\n",
       "    </tr>\n",
       "  </thead>\n",
       "  <tbody>\n",
       "    <tr>\n",
       "      <th>0</th>\n",
       "      <td>False</td>\n",
       "      <td>True</td>\n",
       "    </tr>\n",
       "    <tr>\n",
       "      <th>1</th>\n",
       "      <td>True</td>\n",
       "      <td>True</td>\n",
       "    </tr>\n",
       "    <tr>\n",
       "      <th>2</th>\n",
       "      <td>False</td>\n",
       "      <td>True</td>\n",
       "    </tr>\n",
       "    <tr>\n",
       "      <th>3</th>\n",
       "      <td>False</td>\n",
       "      <td>True</td>\n",
       "    </tr>\n",
       "    <tr>\n",
       "      <th>4</th>\n",
       "      <td>False</td>\n",
       "      <td>False</td>\n",
       "    </tr>\n",
       "    <tr>\n",
       "      <th>5</th>\n",
       "      <td>False</td>\n",
       "      <td>True</td>\n",
       "    </tr>\n",
       "    <tr>\n",
       "      <th>6</th>\n",
       "      <td>False</td>\n",
       "      <td>True</td>\n",
       "    </tr>\n",
       "    <tr>\n",
       "      <th>7</th>\n",
       "      <td>False</td>\n",
       "      <td>False</td>\n",
       "    </tr>\n",
       "    <tr>\n",
       "      <th>8</th>\n",
       "      <td>False</td>\n",
       "      <td>True</td>\n",
       "    </tr>\n",
       "    <tr>\n",
       "      <th>9</th>\n",
       "      <td>False</td>\n",
       "      <td>True</td>\n",
       "    </tr>\n",
       "    <tr>\n",
       "      <th>10</th>\n",
       "      <td>False</td>\n",
       "      <td>True</td>\n",
       "    </tr>\n",
       "    <tr>\n",
       "      <th>11</th>\n",
       "      <td>False</td>\n",
       "      <td>True</td>\n",
       "    </tr>\n",
       "    <tr>\n",
       "      <th>12</th>\n",
       "      <td>False</td>\n",
       "      <td>True</td>\n",
       "    </tr>\n",
       "    <tr>\n",
       "      <th>13</th>\n",
       "      <td>True</td>\n",
       "      <td>False</td>\n",
       "    </tr>\n",
       "    <tr>\n",
       "      <th>14</th>\n",
       "      <td>True</td>\n",
       "      <td>True</td>\n",
       "    </tr>\n",
       "    <tr>\n",
       "      <th>15</th>\n",
       "      <td>False</td>\n",
       "      <td>True</td>\n",
       "    </tr>\n",
       "    <tr>\n",
       "      <th>16</th>\n",
       "      <td>False</td>\n",
       "      <td>True</td>\n",
       "    </tr>\n",
       "    <tr>\n",
       "      <th>17</th>\n",
       "      <td>False</td>\n",
       "      <td>True</td>\n",
       "    </tr>\n",
       "    <tr>\n",
       "      <th>18</th>\n",
       "      <td>False</td>\n",
       "      <td>True</td>\n",
       "    </tr>\n",
       "    <tr>\n",
       "      <th>19</th>\n",
       "      <td>False</td>\n",
       "      <td>True</td>\n",
       "    </tr>\n",
       "  </tbody>\n",
       "</table>\n",
       "</div>"
      ],
      "text/plain": [
       "    Delay Faster_Flight\n",
       "0   False          True\n",
       "1    True          True\n",
       "2   False          True\n",
       "3   False          True\n",
       "4   False         False\n",
       "5   False          True\n",
       "6   False          True\n",
       "7   False         False\n",
       "8   False          True\n",
       "9   False          True\n",
       "10  False          True\n",
       "11  False          True\n",
       "12  False          True\n",
       "13   True         False\n",
       "14   True          True\n",
       "15  False          True\n",
       "16  False          True\n",
       "17  False          True\n",
       "18  False          True\n",
       "19  False          True"
      ]
     },
     "execution_count": 42,
     "metadata": {},
     "output_type": "execute_result"
    }
   ],
   "source": [
    "df.head(20) # inspect"
   ]
  },
  {
   "cell_type": "code",
   "execution_count": 31,
   "id": "825bd2e5",
   "metadata": {},
   "outputs": [
    {
     "data": {
      "text/html": [
       "<div>\n",
       "<style scoped>\n",
       "    .dataframe tbody tr th:only-of-type {\n",
       "        vertical-align: middle;\n",
       "    }\n",
       "\n",
       "    .dataframe tbody tr th {\n",
       "        vertical-align: top;\n",
       "    }\n",
       "\n",
       "    .dataframe thead th {\n",
       "        text-align: right;\n",
       "    }\n",
       "</style>\n",
       "<table border=\"1\" class=\"dataframe\">\n",
       "  <thead>\n",
       "    <tr style=\"text-align: right;\">\n",
       "      <th>Faster_Flight</th>\n",
       "      <th>False</th>\n",
       "      <th>True</th>\n",
       "    </tr>\n",
       "    <tr>\n",
       "      <th>Delay</th>\n",
       "      <th></th>\n",
       "      <th></th>\n",
       "    </tr>\n",
       "  </thead>\n",
       "  <tbody>\n",
       "    <tr>\n",
       "      <th>False</th>\n",
       "      <td>2942454</td>\n",
       "      <td>7354788</td>\n",
       "    </tr>\n",
       "    <tr>\n",
       "      <th>True</th>\n",
       "      <td>1581559</td>\n",
       "      <td>3734801</td>\n",
       "    </tr>\n",
       "  </tbody>\n",
       "</table>\n",
       "</div>"
      ],
      "text/plain": [
       "Faster_Flight    False    True \n",
       "Delay                          \n",
       "False          2942454  7354788\n",
       "True           1581559  3734801"
      ]
     },
     "execution_count": 31,
     "metadata": {},
     "output_type": "execute_result"
    }
   ],
   "source": [
    "# calculate the contingency between the 2 categories\n",
    "contingency = pd.crosstab(df['Delay'], df['Faster_Flight'])\n",
    "contingency"
   ]
  },
  {
   "cell_type": "code",
   "execution_count": 26,
   "id": "f8d96741",
   "metadata": {},
   "outputs": [
    {
     "name": "stdout",
     "output_type": "stream",
     "text": [
      "p is 0.0\n",
      "The two are probably  dependent.\n"
     ]
    }
   ],
   "source": [
    "# test with chi2_contingency\n",
    "from scipy.stats import chi2_contingency\n",
    "\n",
    "\n",
    "stat, p, dof, expected = chi2_contingency(contingency)\n",
    "\n",
    "print(f'p is {p}')\n",
    "print('The two are probably', \n",
    "      (' independent.' if p > 0.05 else ' dependent.')\n",
    "     )"
   ]
  },
  {
   "cell_type": "code",
   "execution_count": 41,
   "id": "dee5db60",
   "metadata": {},
   "outputs": [
    {
     "name": "stdout",
     "output_type": "stream",
     "text": [
      "p is 0.0006022316096862148\n",
      "The two are probably  dependent.\n"
     ]
    }
   ],
   "source": [
    "## Testing a sample of the data\n",
    "\n",
    "df_sample = df.sample(n=10000)\n",
    "contingency = pd.crosstab(df_sample['Delay'], df_sample['Faster_Flight'])\n",
    "\n",
    "stat, p, dof, expected = chi2_contingency(contingency)\n",
    "\n",
    "print(f'p is {p}')\n",
    "print('The two are probably', \n",
    "      (' independent.' if p > 0.05 else ' dependent.')\n",
    "     )\n"
   ]
  },
  {
   "cell_type": "markdown",
   "id": "d309660c",
   "metadata": {},
   "source": [
    "## Result\n",
    "\n",
    "Testing the Hypothesis that planes fly faster when there is departure delay\n",
    "\n",
    "**Result**: Planes probably fly faster when there is a departure delay."
   ]
  },
  {
   "cell_type": "code",
   "execution_count": null,
   "id": "928c9bc0",
   "metadata": {},
   "outputs": [],
   "source": []
  }
 ],
 "metadata": {
  "kernelspec": {
   "display_name": "Python 3 (ipykernel)",
   "language": "python",
   "name": "python3"
  },
  "language_info": {
   "codemirror_mode": {
    "name": "ipython",
    "version": 3
   },
   "file_extension": ".py",
   "mimetype": "text/x-python",
   "name": "python",
   "nbconvert_exporter": "python",
   "pygments_lexer": "ipython3",
   "version": "3.8.16"
  }
 },
 "nbformat": 4,
 "nbformat_minor": 5
}
