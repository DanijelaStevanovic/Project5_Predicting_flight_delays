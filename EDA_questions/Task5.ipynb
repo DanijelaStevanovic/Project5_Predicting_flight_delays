{
 "cells": [
  {
   "cell_type": "code",
   "execution_count": 1,
   "id": "e0abf68e-3075-4d1f-b329-e79238376990",
   "metadata": {},
   "outputs": [],
   "source": [
    "#import required libraries\n",
    "import pandas as pd\n",
    "import numpy as np\n",
    "import matplotlib.pyplot as plt\n",
    "import calendar"
   ]
  },
  {
   "cell_type": "code",
   "execution_count": 2,
   "id": "ff7b9afc-b741-4f29-8a8b-cfe76b1f88ea",
   "metadata": {},
   "outputs": [
    {
     "data": {
      "text/html": [
       "<div>\n",
       "<style scoped>\n",
       "    .dataframe tbody tr th:only-of-type {\n",
       "        vertical-align: middle;\n",
       "    }\n",
       "\n",
       "    .dataframe tbody tr th {\n",
       "        vertical-align: top;\n",
       "    }\n",
       "\n",
       "    .dataframe thead th {\n",
       "        text-align: right;\n",
       "    }\n",
       "</style>\n",
       "<table border=\"1\" class=\"dataframe\">\n",
       "  <thead>\n",
       "    <tr style=\"text-align: right;\">\n",
       "      <th></th>\n",
       "      <th>fl_date</th>\n",
       "      <th>mkt_unique_carrier</th>\n",
       "      <th>mkt_carrier_fl_num</th>\n",
       "      <th>op_unique_carrier</th>\n",
       "      <th>tail_num</th>\n",
       "      <th>origin</th>\n",
       "      <th>origin_city_name</th>\n",
       "      <th>dest</th>\n",
       "      <th>dest_city_name</th>\n",
       "      <th>crs_dep_time</th>\n",
       "      <th>crs_arr_time</th>\n",
       "      <th>crs_elapsed_time</th>\n",
       "      <th>distance</th>\n",
       "      <th>dep_delay</th>\n",
       "      <th>carrier_delay</th>\n",
       "      <th>weather_delay</th>\n",
       "      <th>nas_delay</th>\n",
       "      <th>security_delay</th>\n",
       "      <th>late_aircraft_delay</th>\n",
       "      <th>arr_delay</th>\n",
       "    </tr>\n",
       "  </thead>\n",
       "  <tbody>\n",
       "    <tr>\n",
       "      <th>0</th>\n",
       "      <td>2019-02-12</td>\n",
       "      <td>DL</td>\n",
       "      <td>2070</td>\n",
       "      <td>DL</td>\n",
       "      <td>N915DN</td>\n",
       "      <td>GSP</td>\n",
       "      <td>Greer, SC</td>\n",
       "      <td>ATL</td>\n",
       "      <td>Atlanta, GA</td>\n",
       "      <td>1020</td>\n",
       "      <td>1126</td>\n",
       "      <td>66.0</td>\n",
       "      <td>153</td>\n",
       "      <td>-3.0</td>\n",
       "      <td>0.0</td>\n",
       "      <td>0.0</td>\n",
       "      <td>0.0</td>\n",
       "      <td>0.0</td>\n",
       "      <td>0.0</td>\n",
       "      <td>-5.0</td>\n",
       "    </tr>\n",
       "    <tr>\n",
       "      <th>1</th>\n",
       "      <td>2019-05-25</td>\n",
       "      <td>AS</td>\n",
       "      <td>1438</td>\n",
       "      <td>AS</td>\n",
       "      <td>N844VA</td>\n",
       "      <td>LAX</td>\n",
       "      <td>Los Angeles, CA</td>\n",
       "      <td>SJC</td>\n",
       "      <td>San Jose, CA</td>\n",
       "      <td>2005</td>\n",
       "      <td>2130</td>\n",
       "      <td>85.0</td>\n",
       "      <td>308</td>\n",
       "      <td>53.0</td>\n",
       "      <td>16.0</td>\n",
       "      <td>0.0</td>\n",
       "      <td>0.0</td>\n",
       "      <td>0.0</td>\n",
       "      <td>37.0</td>\n",
       "      <td>53.0</td>\n",
       "    </tr>\n",
       "    <tr>\n",
       "      <th>2</th>\n",
       "      <td>2018-01-02</td>\n",
       "      <td>DL</td>\n",
       "      <td>2297</td>\n",
       "      <td>DL</td>\n",
       "      <td>N922DX</td>\n",
       "      <td>JAX</td>\n",
       "      <td>Jacksonville, FL</td>\n",
       "      <td>ATL</td>\n",
       "      <td>Atlanta, GA</td>\n",
       "      <td>1540</td>\n",
       "      <td>1658</td>\n",
       "      <td>78.0</td>\n",
       "      <td>270</td>\n",
       "      <td>-5.0</td>\n",
       "      <td>0.0</td>\n",
       "      <td>0.0</td>\n",
       "      <td>0.0</td>\n",
       "      <td>0.0</td>\n",
       "      <td>0.0</td>\n",
       "      <td>-13.0</td>\n",
       "    </tr>\n",
       "    <tr>\n",
       "      <th>3</th>\n",
       "      <td>2019-11-24</td>\n",
       "      <td>UA</td>\n",
       "      <td>4808</td>\n",
       "      <td>ZW</td>\n",
       "      <td>N419AW</td>\n",
       "      <td>IAD</td>\n",
       "      <td>Washington, DC</td>\n",
       "      <td>ALB</td>\n",
       "      <td>Albany, NY</td>\n",
       "      <td>1715</td>\n",
       "      <td>1854</td>\n",
       "      <td>99.0</td>\n",
       "      <td>325</td>\n",
       "      <td>-11.0</td>\n",
       "      <td>0.0</td>\n",
       "      <td>0.0</td>\n",
       "      <td>0.0</td>\n",
       "      <td>0.0</td>\n",
       "      <td>0.0</td>\n",
       "      <td>-33.0</td>\n",
       "    </tr>\n",
       "    <tr>\n",
       "      <th>4</th>\n",
       "      <td>2018-07-17</td>\n",
       "      <td>AA</td>\n",
       "      <td>1815</td>\n",
       "      <td>AA</td>\n",
       "      <td>N703UW</td>\n",
       "      <td>CLT</td>\n",
       "      <td>Charlotte, NC</td>\n",
       "      <td>DCA</td>\n",
       "      <td>Washington, DC</td>\n",
       "      <td>1310</td>\n",
       "      <td>1437</td>\n",
       "      <td>87.0</td>\n",
       "      <td>331</td>\n",
       "      <td>-4.0</td>\n",
       "      <td>0.0</td>\n",
       "      <td>0.0</td>\n",
       "      <td>0.0</td>\n",
       "      <td>0.0</td>\n",
       "      <td>0.0</td>\n",
       "      <td>-12.0</td>\n",
       "    </tr>\n",
       "  </tbody>\n",
       "</table>\n",
       "</div>"
      ],
      "text/plain": [
       "      fl_date mkt_unique_carrier  mkt_carrier_fl_num op_unique_carrier  \\\n",
       "0  2019-02-12                 DL                2070                DL   \n",
       "1  2019-05-25                 AS                1438                AS   \n",
       "2  2018-01-02                 DL                2297                DL   \n",
       "3  2019-11-24                 UA                4808                ZW   \n",
       "4  2018-07-17                 AA                1815                AA   \n",
       "\n",
       "  tail_num origin  origin_city_name dest  dest_city_name  crs_dep_time  \\\n",
       "0   N915DN    GSP         Greer, SC  ATL     Atlanta, GA          1020   \n",
       "1   N844VA    LAX   Los Angeles, CA  SJC    San Jose, CA          2005   \n",
       "2   N922DX    JAX  Jacksonville, FL  ATL     Atlanta, GA          1540   \n",
       "3   N419AW    IAD    Washington, DC  ALB      Albany, NY          1715   \n",
       "4   N703UW    CLT     Charlotte, NC  DCA  Washington, DC          1310   \n",
       "\n",
       "   crs_arr_time  crs_elapsed_time  distance  dep_delay  carrier_delay  \\\n",
       "0          1126              66.0       153       -3.0            0.0   \n",
       "1          2130              85.0       308       53.0           16.0   \n",
       "2          1658              78.0       270       -5.0            0.0   \n",
       "3          1854              99.0       325      -11.0            0.0   \n",
       "4          1437              87.0       331       -4.0            0.0   \n",
       "\n",
       "   weather_delay  nas_delay  security_delay  late_aircraft_delay  arr_delay  \n",
       "0            0.0        0.0             0.0                  0.0       -5.0  \n",
       "1            0.0        0.0             0.0                 37.0       53.0  \n",
       "2            0.0        0.0             0.0                  0.0      -13.0  \n",
       "3            0.0        0.0             0.0                  0.0      -33.0  \n",
       "4            0.0        0.0             0.0                  0.0      -12.0  "
      ]
     },
     "execution_count": 2,
     "metadata": {},
     "output_type": "execute_result"
    }
   ],
   "source": [
    "#Read the flights\n",
    "df = pd.read_csv('data/EDA_questions.csv')\n",
    "df.head()"
   ]
  },
  {
   "cell_type": "markdown",
   "id": "fec4dd86-d4d0-4461-ab42-a3d36e493c0e",
   "metadata": {},
   "source": [
    "#### **Task 5**: What is the average percentage of delays that is already created before departure? (aka are arrival delays caused by departure delays?) Are airlines able to lower the delay during the flights?"
   ]
  },
  {
   "cell_type": "code",
   "execution_count": 5,
   "id": "0275cdca-6628-4b21-b2aa-ce8db931dae5",
   "metadata": {},
   "outputs": [],
   "source": [
    "total_departure_delays = len(df[df['dep_delay'] > 0])\n",
    "total_both_delays = len(df[(df['dep_delay'] > 0) & (df['arr_delay'] > 0)])"
   ]
  },
  {
   "cell_type": "code",
   "execution_count": 6,
   "id": "4afa5fb8-ea15-40b5-a9c7-8bec2bbfc499",
   "metadata": {},
   "outputs": [],
   "source": [
    "percentage_departure_delays = (total_both_delays / total_departure_delays) * 100"
   ]
  },
  {
   "cell_type": "code",
   "execution_count": 9,
   "id": "9623a52b-e793-4984-8169-6465626d5e0b",
   "metadata": {},
   "outputs": [
    {
     "name": "stdout",
     "output_type": "stream",
     "text": [
      "The percentage of delays caused before departure is : 73.16945017826984\n"
     ]
    }
   ],
   "source": [
    "print(f'The percentage of delays caused before departure is : {percentage_departure_delays}')"
   ]
  },
  {
   "cell_type": "code",
   "execution_count": null,
   "id": "b6d54173-ec16-4e6f-b0ed-e243251f4f74",
   "metadata": {},
   "outputs": [],
   "source": []
  },
  {
   "cell_type": "code",
   "execution_count": 10,
   "id": "e1aaa4b4-fb08-43cb-88ef-56d3b86dba47",
   "metadata": {},
   "outputs": [],
   "source": [
    "correlation = df['dep_delay'].corr(df['arr_delay'])"
   ]
  },
  {
   "cell_type": "code",
   "execution_count": 11,
   "id": "8181eb52-3c5e-416d-bf5c-4cc275c5f156",
   "metadata": {},
   "outputs": [
    {
     "data": {
      "image/png": "[encoded data removed]",
      "text/plain": [
       "<Figure size 640x480 with 1 Axes>"
      ]
     },
     "metadata": {},
     "output_type": "display_data"
    }
   ],
   "source": [
    "import matplotlib.pyplot as plt\n",
    "\n",
    "plt.scatter(df['dep_delay'], df['arr_delay'])\n",
    "plt.xlabel('Departure Delay')\n",
    "plt.ylabel('Arrival Delay')\n",
    "plt.title('Departure Delay vs. Arrival Delay')\n",
    "plt.show()"
   ]
  },
  {
   "cell_type": "markdown",
   "id": "b6b867ac-9991-4a08-9303-5c4c09395979",
   "metadata": {},
   "source": [
    "Scatter plot shows a clear upward trend, it indicates a positive  relationship between departure delays and arrival delays."
   ]
  },
  {
   "cell_type": "code",
   "execution_count": 13,
   "id": "e17af62a-dd02-4458-af32-85cc89c3dc1b",
   "metadata": {},
   "outputs": [],
   "source": [
    "from sklearn.linear_model import LinearRegression\n",
    "\n",
    "X = df['dep_delay'].values.reshape(-1, 1)\n",
    "y = df['arr_delay'].values.reshape(-1, 1)\n",
    "\n",
    "regression = LinearRegression()\n",
    "regression.fit(X, y)\n",
    "\n",
    "impact = regression.coef_[0][0]"
   ]
  },
  {
   "cell_type": "code",
   "execution_count": 14,
   "id": "c6e38fe2-4307-41b8-9207-c5ee6e6222af",
   "metadata": {},
   "outputs": [
    {
     "data": {
      "text/plain": [
       "1.0063950091507086"
      ]
     },
     "execution_count": 14,
     "metadata": {},
     "output_type": "execute_result"
    }
   ],
   "source": [
    "impact"
   ]
  },
  {
   "cell_type": "markdown",
   "id": "665360eb-d35a-42f7-a7c7-a6054185c5c0",
   "metadata": {},
   "source": [
    "The coefficient (impact) obtained from the linear regression represents the estimated impact of departure delays on arrival delays. A positive coefficient indicates that an increase in departure delays is associated with an increase in arrival delays."
   ]
  },
  {
   "cell_type": "code",
   "execution_count": 15,
   "id": "297596dd-c7e2-4540-b6a3-d63f9f16c8e3",
   "metadata": {},
   "outputs": [],
   "source": [
    "delayed_flights = df[(df['dep_delay'] > 0) & (df['arr_delay'] > 0)]"
   ]
  },
  {
   "cell_type": "code",
   "execution_count": 16,
   "id": "21ec1b38-6a61-4f7e-b663-1a0ea2499c0e",
   "metadata": {},
   "outputs": [],
   "source": [
    "total_delayed_flights = delayed_flights.shape[0]"
   ]
  },
  {
   "cell_type": "code",
   "execution_count": 17,
   "id": "af729c88-636e-4505-83e7-ddc71de55a36",
   "metadata": {},
   "outputs": [],
   "source": [
    "arrival_delay_caused_by_departure_delay = delayed_flights[delayed_flights['arr_delay'] > delayed_flights['dep_delay']].shape[0]"
   ]
  },
  {
   "cell_type": "code",
   "execution_count": 18,
   "id": "d305ea23-e413-48a9-842b-0b6d1d492a22",
   "metadata": {},
   "outputs": [],
   "source": [
    "percentage = (arrival_delay_caused_by_departure_delay / total_delayed_flights) * 100"
   ]
  },
  {
   "cell_type": "code",
   "execution_count": 19,
   "id": "9f2de30b-6b9b-45ee-bc19-a43e5b04e472",
   "metadata": {},
   "outputs": [
    {
     "name": "stdout",
     "output_type": "stream",
     "text": [
      "The percentage arrival delay caused by departure delay is : 37.189679934345506\n"
     ]
    }
   ],
   "source": [
    "print(f'The percentage arrival delay caused by departure delay is : {percentage}')"
   ]
  },
  {
   "cell_type": "code",
   "execution_count": null,
   "id": "9e62aa3d-1dd5-4169-abd6-572d5371290e",
   "metadata": {},
   "outputs": [],
   "source": [
    "37.18  is significant percentage of arrival delays are caused by departure delays, airlines can focus on improving their departure processes to reduce the overall delay."
   ]
  }
 ],
 "metadata": {
  "kernelspec": {
   "display_name": "bootcamp",
   "language": "python",
   "name": "bootcamp"
  },
  "language_info": {
   "codemirror_mode": {
    "name": "ipython",
    "version": 3
   },
   "file_extension": ".py",
   "mimetype": "text/x-python",
   "name": "python",
   "nbconvert_exporter": "python",
   "pygments_lexer": "ipython3",
   "version": "3.9.16"
  }
 },
 "nbformat": 4,
 "nbformat_minor": 5
}
