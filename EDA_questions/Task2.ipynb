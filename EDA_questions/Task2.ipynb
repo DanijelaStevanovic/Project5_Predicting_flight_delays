{
 "cells": [
  {
   "cell_type": "code",
   "execution_count": 6,
   "id": "a50eabbd-9f3a-416d-aea7-205c1cb1ef37",
   "metadata": {},
   "outputs": [],
   "source": [
    "#import required libraries\n",
    "import pandas as pd\n",
    "import numpy as np\n",
    "import matplotlib.pyplot as plt\n",
    "import calendar"
   ]
  },
  {
   "cell_type": "code",
   "execution_count": 15,
   "id": "affb352c-a95b-41a6-a5c5-d9f8140e85e7",
   "metadata": {},
   "outputs": [
    {
     "data": {
      "text/html": [
       "<div>\n",
       "<style scoped>\n",
       "    .dataframe tbody tr th:only-of-type {\n",
       "        vertical-align: middle;\n",
       "    }\n",
       "\n",
       "    .dataframe tbody tr th {\n",
       "        vertical-align: top;\n",
       "    }\n",
       "\n",
       "    .dataframe thead th {\n",
       "        text-align: right;\n",
       "    }\n",
       "</style>\n",
       "<table border=\"1\" class=\"dataframe\">\n",
       "  <thead>\n",
       "    <tr style=\"text-align: right;\">\n",
       "      <th></th>\n",
       "      <th>Unnamed: 0</th>\n",
       "      <th>fl_date</th>\n",
       "      <th>mkt_unique_carrier</th>\n",
       "      <th>mkt_carrier_fl_num</th>\n",
       "      <th>op_unique_carrier</th>\n",
       "      <th>tail_num</th>\n",
       "      <th>origin</th>\n",
       "      <th>dest</th>\n",
       "      <th>crs_dep_time</th>\n",
       "      <th>crs_arr_time</th>\n",
       "      <th>distance</th>\n",
       "      <th>dep_delay</th>\n",
       "    </tr>\n",
       "  </thead>\n",
       "  <tbody>\n",
       "    <tr>\n",
       "      <th>0</th>\n",
       "      <td>0</td>\n",
       "      <td>2019-02-12</td>\n",
       "      <td>DL</td>\n",
       "      <td>2070</td>\n",
       "      <td>DL</td>\n",
       "      <td>N915DN</td>\n",
       "      <td>GSP</td>\n",
       "      <td>ATL</td>\n",
       "      <td>1020</td>\n",
       "      <td>1126</td>\n",
       "      <td>153</td>\n",
       "      <td>-3.0</td>\n",
       "    </tr>\n",
       "    <tr>\n",
       "      <th>1</th>\n",
       "      <td>1</td>\n",
       "      <td>2019-05-25</td>\n",
       "      <td>AS</td>\n",
       "      <td>1438</td>\n",
       "      <td>AS</td>\n",
       "      <td>N844VA</td>\n",
       "      <td>LAX</td>\n",
       "      <td>SJC</td>\n",
       "      <td>2005</td>\n",
       "      <td>2130</td>\n",
       "      <td>308</td>\n",
       "      <td>53.0</td>\n",
       "    </tr>\n",
       "    <tr>\n",
       "      <th>2</th>\n",
       "      <td>2</td>\n",
       "      <td>2018-01-02</td>\n",
       "      <td>DL</td>\n",
       "      <td>2297</td>\n",
       "      <td>DL</td>\n",
       "      <td>N922DX</td>\n",
       "      <td>JAX</td>\n",
       "      <td>ATL</td>\n",
       "      <td>1540</td>\n",
       "      <td>1658</td>\n",
       "      <td>270</td>\n",
       "      <td>-5.0</td>\n",
       "    </tr>\n",
       "    <tr>\n",
       "      <th>3</th>\n",
       "      <td>3</td>\n",
       "      <td>2019-11-24</td>\n",
       "      <td>UA</td>\n",
       "      <td>4808</td>\n",
       "      <td>ZW</td>\n",
       "      <td>N419AW</td>\n",
       "      <td>IAD</td>\n",
       "      <td>ALB</td>\n",
       "      <td>1715</td>\n",
       "      <td>1854</td>\n",
       "      <td>325</td>\n",
       "      <td>-11.0</td>\n",
       "    </tr>\n",
       "    <tr>\n",
       "      <th>4</th>\n",
       "      <td>4</td>\n",
       "      <td>2018-07-17</td>\n",
       "      <td>AA</td>\n",
       "      <td>1815</td>\n",
       "      <td>AA</td>\n",
       "      <td>N703UW</td>\n",
       "      <td>CLT</td>\n",
       "      <td>DCA</td>\n",
       "      <td>1310</td>\n",
       "      <td>1437</td>\n",
       "      <td>331</td>\n",
       "      <td>-4.0</td>\n",
       "    </tr>\n",
       "  </tbody>\n",
       "</table>\n",
       "</div>"
      ],
      "text/plain": [
       "   Unnamed: 0     fl_date mkt_unique_carrier  mkt_carrier_fl_num  \\\n",
       "0           0  2019-02-12                 DL                2070   \n",
       "1           1  2019-05-25                 AS                1438   \n",
       "2           2  2018-01-02                 DL                2297   \n",
       "3           3  2019-11-24                 UA                4808   \n",
       "4           4  2018-07-17                 AA                1815   \n",
       "\n",
       "  op_unique_carrier tail_num origin dest  crs_dep_time  crs_arr_time  \\\n",
       "0                DL   N915DN    GSP  ATL          1020          1126   \n",
       "1                AS   N844VA    LAX  SJC          2005          2130   \n",
       "2                DL   N922DX    JAX  ATL          1540          1658   \n",
       "3                ZW   N419AW    IAD  ALB          1715          1854   \n",
       "4                AA   N703UW    CLT  DCA          1310          1437   \n",
       "\n",
       "   distance  dep_delay  \n",
       "0       153       -3.0  \n",
       "1       308       53.0  \n",
       "2       270       -5.0  \n",
       "3       325      -11.0  \n",
       "4       331       -4.0  "
      ]
     },
     "execution_count": 15,
     "metadata": {},
     "output_type": "execute_result"
    }
   ],
   "source": [
    "#Read the flights\n",
    "df = pd.read_csv('data/model_df_version_1.csv')\n",
    "df.head()"
   ]
  },
  {
   "cell_type": "markdown",
   "id": "6d841468-575b-45ef-87f2-1e06de31421c",
   "metadata": {},
   "source": [
    "#### **Task 2**: Is average/median monthly delay different during the year? If yes, which are months with the biggest delays and what could be the reason?"
   ]
  },
  {
   "cell_type": "code",
   "execution_count": 16,
   "id": "b3126c74-85c2-406e-8866-e7a3ad093033",
   "metadata": {},
   "outputs": [
    {
     "data": {
      "text/html": [
       "<div>\n",
       "<style scoped>\n",
       "    .dataframe tbody tr th:only-of-type {\n",
       "        vertical-align: middle;\n",
       "    }\n",
       "\n",
       "    .dataframe tbody tr th {\n",
       "        vertical-align: top;\n",
       "    }\n",
       "\n",
       "    .dataframe thead th {\n",
       "        text-align: right;\n",
       "    }\n",
       "</style>\n",
       "<table border=\"1\" class=\"dataframe\">\n",
       "  <thead>\n",
       "    <tr style=\"text-align: right;\">\n",
       "      <th></th>\n",
       "      <th>Unnamed: 0</th>\n",
       "      <th>fl_date</th>\n",
       "      <th>mkt_unique_carrier</th>\n",
       "      <th>mkt_carrier_fl_num</th>\n",
       "      <th>op_unique_carrier</th>\n",
       "      <th>tail_num</th>\n",
       "      <th>origin</th>\n",
       "      <th>dest</th>\n",
       "      <th>crs_dep_time</th>\n",
       "      <th>crs_arr_time</th>\n",
       "      <th>distance</th>\n",
       "      <th>dep_delay</th>\n",
       "      <th>month</th>\n",
       "      <th>year</th>\n",
       "    </tr>\n",
       "  </thead>\n",
       "  <tbody>\n",
       "    <tr>\n",
       "      <th>0</th>\n",
       "      <td>0</td>\n",
       "      <td>2019-02-12</td>\n",
       "      <td>DL</td>\n",
       "      <td>2070</td>\n",
       "      <td>DL</td>\n",
       "      <td>N915DN</td>\n",
       "      <td>GSP</td>\n",
       "      <td>ATL</td>\n",
       "      <td>1020</td>\n",
       "      <td>1126</td>\n",
       "      <td>153</td>\n",
       "      <td>-3.0</td>\n",
       "      <td>2</td>\n",
       "      <td>2019</td>\n",
       "    </tr>\n",
       "    <tr>\n",
       "      <th>1</th>\n",
       "      <td>1</td>\n",
       "      <td>2019-05-25</td>\n",
       "      <td>AS</td>\n",
       "      <td>1438</td>\n",
       "      <td>AS</td>\n",
       "      <td>N844VA</td>\n",
       "      <td>LAX</td>\n",
       "      <td>SJC</td>\n",
       "      <td>2005</td>\n",
       "      <td>2130</td>\n",
       "      <td>308</td>\n",
       "      <td>53.0</td>\n",
       "      <td>5</td>\n",
       "      <td>2019</td>\n",
       "    </tr>\n",
       "  </tbody>\n",
       "</table>\n",
       "</div>"
      ],
      "text/plain": [
       "   Unnamed: 0     fl_date mkt_unique_carrier  mkt_carrier_fl_num  \\\n",
       "0           0  2019-02-12                 DL                2070   \n",
       "1           1  2019-05-25                 AS                1438   \n",
       "\n",
       "  op_unique_carrier tail_num origin dest  crs_dep_time  crs_arr_time  \\\n",
       "0                DL   N915DN    GSP  ATL          1020          1126   \n",
       "1                AS   N844VA    LAX  SJC          2005          2130   \n",
       "\n",
       "   distance  dep_delay  month  year  \n",
       "0       153       -3.0      2  2019  \n",
       "1       308       53.0      5  2019  "
      ]
     },
     "execution_count": 16,
     "metadata": {},
     "output_type": "execute_result"
    }
   ],
   "source": [
    "df['month'] = pd.DatetimeIndex(df['fl_date']).month\n",
    "df['year'] = pd.DatetimeIndex(df['fl_date']).year\n",
    "df.head(2)"
   ]
  },
  {
   "cell_type": "code",
   "execution_count": 23,
   "id": "c5d7f086-22f6-4f64-b4de-9cf214d17a36",
   "metadata": {},
   "outputs": [],
   "source": [
    "df['month_name']=df['month'].apply(lambda x: calendar.month_abbr[x])"
   ]
  },
  {
   "cell_type": "code",
   "execution_count": 24,
   "id": "20b72714-2fb0-4779-b805-c86573e3d19c",
   "metadata": {},
   "outputs": [
    {
     "data": {
      "text/plain": [
       "year  month_name\n",
       "2018  Apr           6367\n",
       "      Aug           6910\n",
       "      Dec           6381\n",
       "      Feb           5530\n",
       "      Jan           5860\n",
       "      Jul           6926\n",
       "      Jun           6676\n",
       "      Mar           6585\n",
       "      May           6616\n",
       "      Nov           6352\n",
       "      Oct           6554\n",
       "      Sep           6261\n",
       "2019  Apr           6515\n",
       "      Aug           7087\n",
       "      Dec           6837\n",
       "      Feb           5752\n",
       "      Jan           6145\n",
       "      Jul           7084\n",
       "      Jun           6842\n",
       "      Mar           6773\n",
       "      May           6769\n",
       "      Nov           6585\n",
       "      Oct           6767\n",
       "      Sep           6515\n",
       "dtype: int64"
      ]
     },
     "execution_count": 24,
     "metadata": {},
     "output_type": "execute_result"
    }
   ],
   "source": [
    "df.groupby(['year','month_name']).size()"
   ]
  },
  {
   "cell_type": "code",
   "execution_count": 43,
   "id": "1939a578-cf15-4779-9cdf-f93044d97a1b",
   "metadata": {},
   "outputs": [
    {
     "data": {
      "image/png": "[encoded data removed]",
      "text/plain": [
       "<Figure size 800x800 with 1 Axes>"
      ]
     },
     "metadata": {},
     "output_type": "display_data"
    }
   ],
   "source": [
    "\n",
    "# Pivot the DataFrame and calculate the mean dep_delay\n",
    "pivot_df = df.pivot_table(index='month_name', columns='year', values='dep_delay', aggfunc='mean')\n",
    "\n",
    "# Sort the pivot table by dep_delay in descending order\n",
    "pivot_df = pivot_df.sort_values(by=pivot_df.columns.tolist(), ascending=True)\n",
    "\n",
    "# Create the horizontal bar plot\n",
    "pivot_df.plot.barh(stacked=False, figsize=(8, 8))\n",
    "\n",
    "plt.title('AVERAGE DELAYED BY MONTH', fontsize=15)\n",
    "plt.xlabel('Delay in min (average)', fontsize=10)\n",
    "plt.ylabel('Month', fontsize=10)\n",
    "plt.xticks(fontsize=8)\n",
    "plt.yticks(rotation=0, fontsize=8)\n",
    "plt.legend(title='Year')\n",
    "\n",
    "plt.show()"
   ]
  },
  {
   "cell_type": "code",
   "execution_count": 45,
   "id": "a02bc49f-f4bd-416f-bc4f-fcaa4ebc5fc2",
   "metadata": {},
   "outputs": [],
   "source": [
    "#vertically bar graf\n",
    "# # Pivot the DataFrame and calculate the mean dep_delay\n",
    "# pivot_df = df.pivot_table(index='month_name', columns='year', values='dep_delay', aggfunc='mean')\n",
    "\n",
    "# # Sort the pivot table by dep_delay in descending order\n",
    "# pivot_df = pivot_df.sort_values(by=pivot_df.columns.tolist(), ascending=True)\n",
    "\n",
    "# # Create the horizontal bar plot\n",
    "# pivot_df.plot.bar(stacked=False, figsize=(8, 8))\n",
    "\n",
    "# plt.title('AVERAGE DELAYED BY MONTH', fontsize=15)\n",
    "# plt.xlabel('Delay in min (average)', fontsize=10)\n",
    "# plt.ylabel('Month', fontsize=10)\n",
    "# plt.xticks(fontsize=8)\n",
    "# plt.yticks(rotation=0, fontsize=8)\n",
    "# plt.legend(title='Year')\n",
    "\n",
    "# plt.show()"
   ]
  },
  {
   "cell_type": "code",
   "execution_count": 47,
   "id": "5f64ea9d-7bc2-4384-8259-a226f67c841a",
   "metadata": {},
   "outputs": [
    {
     "data": {
      "image/png": "[encoded data removed]",
      "text/plain": [
       "<Figure size 800x800 with 1 Axes>"
      ]
     },
     "metadata": {},
     "output_type": "display_data"
    }
   ],
   "source": [
    "#total per months\n",
    "plt.figure(figsize=(8,8))\n",
    "df.groupby('month_name').dep_delay.mean().sort_values(ascending=False).plot.bar()\n",
    "plt.title('AVERAGE DELAYED BY MONTH', fontsize=15)\n",
    "plt.xlabel('Month', fontsize=10)\n",
    "plt.ylabel('Delay in MINUTES(average)', fontsize=10)\n",
    "plt.rc('xtick',labelsize=8)\n",
    "plt.rc('ytick',labelsize=8)\n",
    "plt.show()"
   ]
  },
  {
   "cell_type": "code",
   "execution_count": null,
   "id": "831b817a-1ca4-41d8-9ea0-f1a6d58ac7da",
   "metadata": {},
   "outputs": [],
   "source": []
  }
 ],
 "metadata": {
  "kernelspec": {
   "display_name": "bootcamp",
   "language": "python",
   "name": "bootcamp"
  },
  "language_info": {
   "codemirror_mode": {
    "name": "ipython",
    "version": 3
   },
   "file_extension": ".py",
   "mimetype": "text/x-python",
   "name": "python",
   "nbconvert_exporter": "python",
   "pygments_lexer": "ipython3",
   "version": "3.9.16"
  }
 },
 "nbformat": 4,
 "nbformat_minor": 5
}
