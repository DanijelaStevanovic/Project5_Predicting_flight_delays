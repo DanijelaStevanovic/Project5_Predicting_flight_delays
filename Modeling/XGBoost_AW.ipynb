{
 "cells": [
  {
   "cell_type": "code",
   "execution_count": 1,
   "id": "4cc52ea3-cbe6-450f-aff0-b1e63d89a9ae",
   "metadata": {},
   "outputs": [],
   "source": [
    "import pandas as pd\n",
    "import numpy as np\n",
    "import matplotlib.pyplot as plt\n",
    "import statsmodels.api as sm\n",
    "from sklearn.model_selection import train_test_split"
   ]
  },
  {
   "cell_type": "code",
   "execution_count": 2,
   "id": "2ae618c0-3ea6-4d56-9531-5c15ff46a6f2",
   "metadata": {},
   "outputs": [],
   "source": [
    "df = pd.read_csv('../CleaningTableFlights/data/model_df_version_1.csv')\n",
    "dep_delay = pd.read_csv('../CleaningTableFlights/data/flights.csv')[['dep_delay','origin']]"
   ]
  },
  {
   "cell_type": "code",
   "execution_count": 3,
   "id": "5dd38e06-f833-4d82-b2e4-0d26dc9a33c5",
   "metadata": {},
   "outputs": [],
   "source": [
    "dep_delay = dep_delay.groupby('origin').mean()\n",
    "dep_delay = dep_delay.rename({'dep_delay':'average_departure_delay_by_ap'},axis=1)"
   ]
  },
  {
   "cell_type": "code",
   "execution_count": 4,
   "id": "1fd5c3b4-42a0-478c-83e7-3505fa6a30cb",
   "metadata": {},
   "outputs": [],
   "source": [
    "arr_delay = df[['dest','arr_delay']]\n",
    "arr_delay = arr_delay.groupby('dest').mean()\n",
    "arr_delay = arr_delay.rename({'arr_delay':'average_arrival_delay_by_ap'},axis=1)"
   ]
  },
  {
   "cell_type": "code",
   "execution_count": 5,
   "id": "845307bf-9984-4d0a-8870-0ea2b448f8dd",
   "metadata": {},
   "outputs": [],
   "source": [
    "df = df.drop(['tail_num','mkt_carrier_fl_num'], axis = 1)"
   ]
  },
  {
   "cell_type": "code",
   "execution_count": 6,
   "id": "0c204628-a65a-4a23-a0a7-ce07d31dff73",
   "metadata": {},
   "outputs": [],
   "source": [
    "pass_fuel_df = pd.read_csv('../EDA_questions/data/passenger_fuel_df.csv')"
   ]
  },
  {
   "cell_type": "code",
   "execution_count": 7,
   "id": "4861d256-f1a1-4313-a530-320c4771cc0d",
   "metadata": {},
   "outputs": [],
   "source": [
    "departures_df = pd.read_csv('../EDA_questions/data/departures_by_airport.csv')\n",
    "departures_df = departures_df.drop('origin_city_name',axis=1)"
   ]
  },
  {
   "cell_type": "code",
   "execution_count": 8,
   "id": "31eeadf5-cd6c-4ccb-a596-fc39df00e803",
   "metadata": {},
   "outputs": [],
   "source": [
    "arrivals_df = pd.read_csv('../EDA_questions/data/arrivals_by_airport.csv')\n",
    "arrivals_df = arrivals_df.drop('dest_city_name',axis=1)"
   ]
  },
  {
   "cell_type": "code",
   "execution_count": 9,
   "id": "8a74f18a-0de7-4a01-a658-484eb16b7db8",
   "metadata": {},
   "outputs": [],
   "source": [
    "month_dest_df = pd.read_csv('data/features_dest_monthly_params.csv')\n",
    "month_origin_df = pd.read_csv('data/features_origin_monthly_params.csv')"
   ]
  },
  {
   "cell_type": "code",
   "execution_count": 10,
   "id": "e55cd118-4d7c-43ca-bebc-dad70a2c4c72",
   "metadata": {},
   "outputs": [],
   "source": [
    "df['month'] = pd.DatetimeIndex(df['fl_date']).month\n",
    "df['weekday'] = pd.DatetimeIndex(df['fl_date']).weekday"
   ]
  },
  {
   "cell_type": "code",
   "execution_count": 11,
   "id": "275260e5-997d-4a7c-96a4-049dd9beaaeb",
   "metadata": {},
   "outputs": [],
   "source": [
    "month_dest_df['combo1']=month_dest_df['dest'].astype('str')+month_dest_df['fl_month'].astype('str')\n",
    "df['combo1']=df['dest'].astype('str')+df['month'].astype('str')\n",
    "\n",
    "month_dest_df = month_dest_df.drop(['fl_month','dest'],axis=1)\n",
    "month_dest_df = month_dest_df.rename(columns={'arr_delay':'avg_arr_delay_by_month_by_dest_ap','cancelled':'cancelled_flights_by_month_by_dest_ap','weather_delay':'avg_weather_delay_by_month_by_dest_ap','security_delay':'security_delay_by_month_by_dest_ap'})"
   ]
  },
  {
   "cell_type": "code",
   "execution_count": 12,
   "id": "ae9a20cb-decf-46d8-b2ea-b5c02e9cdade",
   "metadata": {},
   "outputs": [],
   "source": [
    "month_origin_df['combo2']=month_origin_df['origin'].astype('str')+month_origin_df['fl_month'].astype('str')\n",
    "df['combo2']=df['origin'].astype('str')+df['month'].astype('str')\n",
    "\n",
    "month_origin_df = month_origin_df.drop(['fl_month','origin'],axis=1)\n",
    "month_origin_df = month_origin_df.rename(columns={'arr_delay':'avg_arr_delay_by_month_by_origin_ap','cancelled':'cancelled_flights_by_month_by_origin_ap','weather_delay':'avg_weather_delay_by_month_by_origin_ap','security_delay':'security_delay_by_month_by_origin_ap'})"
   ]
  },
  {
   "cell_type": "code",
   "execution_count": 13,
   "id": "9b402520-9fd3-4f05-b5ad-3660c5adbd75",
   "metadata": {},
   "outputs": [],
   "source": [
    "df = df.drop(['fl_date'],axis=1)"
   ]
  },
  {
   "cell_type": "code",
   "execution_count": 14,
   "id": "48540042-b07b-4828-903a-de762b7d4938",
   "metadata": {},
   "outputs": [],
   "source": [
    "df['crs_arr_time'] = (df['crs_arr_time']//100)*60 + df['crs_arr_time'] - (df['crs_arr_time']//100)*100\n",
    "df['crs_dep_time'] = (df['crs_dep_time']//100)*60 + df['crs_dep_time'] - (df['crs_dep_time']//100)*100"
   ]
  },
  {
   "cell_type": "code",
   "execution_count": 15,
   "id": "cf00946a-e145-4fd2-9412-3d1a48c223fa",
   "metadata": {},
   "outputs": [],
   "source": [
    "#add in fuel and passenger info by carrier\n",
    "df = df.merge(pass_fuel_df, how = 'left', left_on='mkt_unique_carrier',right_on='mkt_unique_carrier')"
   ]
  },
  {
   "cell_type": "code",
   "execution_count": 16,
   "id": "e438a31a-286d-4267-bc8c-885e4059639c",
   "metadata": {},
   "outputs": [],
   "source": [
    "#add in departure and passenger info by airport\n",
    "df = df.merge(departures_df, how = 'left', on = 'origin')\n",
    "\n",
    "#add in arrival and passenger info by arrival airport\n",
    "df = df.merge(arrivals_df, how = 'left', on = 'dest')\n",
    "\n",
    "#add in average departure delay by departure location\n",
    "df = df.merge(dep_delay, how = 'left', left_on = 'origin', right_index = True)\n",
    "\n",
    "#add in average arrival delay by arrival location\n",
    "df = df.merge(arr_delay, how = 'left', left_on = 'origin', right_index = True)\n",
    "\n",
    "#add in monthly data\n",
    "df = df.merge(month_dest_df, how = 'left', on = 'combo1')\n",
    "df = df.merge(month_origin_df, how = 'left', on = 'combo2')"
   ]
  },
  {
   "cell_type": "code",
   "execution_count": 17,
   "id": "11f26c30-b31b-488f-b89c-f4c0ef814c00",
   "metadata": {},
   "outputs": [],
   "source": [
    "#add constant\n",
    "df['constant'] = 1\n",
    "first_column = df.pop('constant')\n",
    "df.insert(0, 'constant', first_column)"
   ]
  },
  {
   "cell_type": "code",
   "execution_count": 18,
   "id": "326fad61-22e7-4e62-be5c-1fbfa1791263",
   "metadata": {},
   "outputs": [],
   "source": [
    "#create variable where 1 if op_carrier different from mkt_carrier\n",
    "df['op_unique_carrier_check'] = df['op_unique_carrier'] != df['mkt_unique_carrier']\n",
    "df['op_unique_carrier_check'] = df['op_unique_carrier_check'].astype('int')"
   ]
  },
  {
   "cell_type": "code",
   "execution_count": 19,
   "id": "81ca4405-1c68-4a63-ade4-328601287cc3",
   "metadata": {},
   "outputs": [],
   "source": [
    "#fill arrival/departure average nans with 0\n",
    "df = df.fillna(0)"
   ]
  },
  {
   "cell_type": "code",
   "execution_count": 20,
   "id": "12ba5216-1945-4225-97bb-c58e8b1d25d6",
   "metadata": {},
   "outputs": [],
   "source": [
    "df = df.drop(['origin','dest','op_unique_carrier','combo1','combo2'],axis=1)"
   ]
  },
  {
   "cell_type": "code",
   "execution_count": 21,
   "id": "bda4df42-963c-4cde-969d-61091945b8f6",
   "metadata": {},
   "outputs": [
    {
     "data": {
      "text/html": [
       "<div>\n",
       "<style scoped>\n",
       "    .dataframe tbody tr th:only-of-type {\n",
       "        vertical-align: middle;\n",
       "    }\n",
       "\n",
       "    .dataframe tbody tr th {\n",
       "        vertical-align: top;\n",
       "    }\n",
       "\n",
       "    .dataframe thead th {\n",
       "        text-align: right;\n",
       "    }\n",
       "</style>\n",
       "<table border=\"1\" class=\"dataframe\">\n",
       "  <thead>\n",
       "    <tr style=\"text-align: right;\">\n",
       "      <th></th>\n",
       "      <th>constant</th>\n",
       "      <th>mkt_unique_carrier</th>\n",
       "      <th>crs_dep_time</th>\n",
       "      <th>crs_arr_time</th>\n",
       "      <th>crs_elapsed_time</th>\n",
       "      <th>distance</th>\n",
       "      <th>arr_delay</th>\n",
       "      <th>cancelled_flights</th>\n",
       "      <th>month</th>\n",
       "      <th>weekday</th>\n",
       "      <th>...</th>\n",
       "      <th>avg_weather_delay_by_month_by_dest_ap</th>\n",
       "      <th>security_delay_by_month_by_dest_ap</th>\n",
       "      <th>dep_delay</th>\n",
       "      <th>cancelled_flights_by_month_by_origin_ap</th>\n",
       "      <th>carrier_delay</th>\n",
       "      <th>nas_delay</th>\n",
       "      <th>late_aircraft_delay</th>\n",
       "      <th>avg_weather_delay_by_month_by_origin_ap</th>\n",
       "      <th>security_delay_by_month_by_origin_ap</th>\n",
       "      <th>op_unique_carrier_check</th>\n",
       "    </tr>\n",
       "  </thead>\n",
       "  <tbody>\n",
       "    <tr>\n",
       "      <th>0</th>\n",
       "      <td>1</td>\n",
       "      <td>AA</td>\n",
       "      <td>1189</td>\n",
       "      <td>1255</td>\n",
       "      <td>66.0</td>\n",
       "      <td>88</td>\n",
       "      <td>0.0</td>\n",
       "      <td>1</td>\n",
       "      <td>9</td>\n",
       "      <td>0</td>\n",
       "      <td>...</td>\n",
       "      <td>0.307875</td>\n",
       "      <td>0.018940</td>\n",
       "      <td>5.271769</td>\n",
       "      <td>0.035496</td>\n",
       "      <td>3.159179</td>\n",
       "      <td>2.154742</td>\n",
       "      <td>3.652801</td>\n",
       "      <td>0.391570</td>\n",
       "      <td>0.000000</td>\n",
       "      <td>1</td>\n",
       "    </tr>\n",
       "    <tr>\n",
       "      <th>1</th>\n",
       "      <td>1</td>\n",
       "      <td>AA</td>\n",
       "      <td>990</td>\n",
       "      <td>1060</td>\n",
       "      <td>70.0</td>\n",
       "      <td>247</td>\n",
       "      <td>0.0</td>\n",
       "      <td>1</td>\n",
       "      <td>5</td>\n",
       "      <td>5</td>\n",
       "      <td>...</td>\n",
       "      <td>0.449975</td>\n",
       "      <td>0.052752</td>\n",
       "      <td>15.296294</td>\n",
       "      <td>0.034971</td>\n",
       "      <td>5.052820</td>\n",
       "      <td>3.096598</td>\n",
       "      <td>7.284020</td>\n",
       "      <td>1.814784</td>\n",
       "      <td>0.003468</td>\n",
       "      <td>1</td>\n",
       "    </tr>\n",
       "    <tr>\n",
       "      <th>2</th>\n",
       "      <td>1</td>\n",
       "      <td>AA</td>\n",
       "      <td>940</td>\n",
       "      <td>1056</td>\n",
       "      <td>116.0</td>\n",
       "      <td>477</td>\n",
       "      <td>0.0</td>\n",
       "      <td>1</td>\n",
       "      <td>5</td>\n",
       "      <td>1</td>\n",
       "      <td>...</td>\n",
       "      <td>1.276755</td>\n",
       "      <td>0.008862</td>\n",
       "      <td>12.747430</td>\n",
       "      <td>0.027785</td>\n",
       "      <td>4.247340</td>\n",
       "      <td>3.378310</td>\n",
       "      <td>6.843642</td>\n",
       "      <td>0.830531</td>\n",
       "      <td>0.009080</td>\n",
       "      <td>1</td>\n",
       "    </tr>\n",
       "    <tr>\n",
       "      <th>3</th>\n",
       "      <td>1</td>\n",
       "      <td>WN</td>\n",
       "      <td>595</td>\n",
       "      <td>670</td>\n",
       "      <td>75.0</td>\n",
       "      <td>417</td>\n",
       "      <td>0.0</td>\n",
       "      <td>1</td>\n",
       "      <td>2</td>\n",
       "      <td>2</td>\n",
       "      <td>...</td>\n",
       "      <td>0.589523</td>\n",
       "      <td>0.033526</td>\n",
       "      <td>9.822994</td>\n",
       "      <td>0.021385</td>\n",
       "      <td>3.519373</td>\n",
       "      <td>2.293352</td>\n",
       "      <td>5.451090</td>\n",
       "      <td>0.210036</td>\n",
       "      <td>0.017362</td>\n",
       "      <td>0</td>\n",
       "    </tr>\n",
       "    <tr>\n",
       "      <th>4</th>\n",
       "      <td>1</td>\n",
       "      <td>UA</td>\n",
       "      <td>600</td>\n",
       "      <td>705</td>\n",
       "      <td>105.0</td>\n",
       "      <td>445</td>\n",
       "      <td>0.0</td>\n",
       "      <td>1</td>\n",
       "      <td>6</td>\n",
       "      <td>5</td>\n",
       "      <td>...</td>\n",
       "      <td>1.949057</td>\n",
       "      <td>0.000331</td>\n",
       "      <td>22.953682</td>\n",
       "      <td>0.030129</td>\n",
       "      <td>5.896596</td>\n",
       "      <td>5.225984</td>\n",
       "      <td>12.579710</td>\n",
       "      <td>1.143489</td>\n",
       "      <td>0.012169</td>\n",
       "      <td>1</td>\n",
       "    </tr>\n",
       "  </tbody>\n",
       "</table>\n",
       "<p>5 rows × 34 columns</p>\n",
       "</div>"
      ],
      "text/plain": [
       "   constant mkt_unique_carrier  crs_dep_time  crs_arr_time  crs_elapsed_time  \\\n",
       "0         1                 AA          1189          1255              66.0   \n",
       "1         1                 AA           990          1060              70.0   \n",
       "2         1                 AA           940          1056             116.0   \n",
       "3         1                 WN           595           670              75.0   \n",
       "4         1                 UA           600           705             105.0   \n",
       "\n",
       "   distance  arr_delay  cancelled_flights  month  weekday  ...  \\\n",
       "0        88        0.0                  1      9        0  ...   \n",
       "1       247        0.0                  1      5        5  ...   \n",
       "2       477        0.0                  1      5        1  ...   \n",
       "3       417        0.0                  1      2        2  ...   \n",
       "4       445        0.0                  1      6        5  ...   \n",
       "\n",
       "   avg_weather_delay_by_month_by_dest_ap  security_delay_by_month_by_dest_ap  \\\n",
       "0                               0.307875                            0.018940   \n",
       "1                               0.449975                            0.052752   \n",
       "2                               1.276755                            0.008862   \n",
       "3                               0.589523                            0.033526   \n",
       "4                               1.949057                            0.000331   \n",
       "\n",
       "   dep_delay  cancelled_flights_by_month_by_origin_ap  carrier_delay  \\\n",
       "0   5.271769                                 0.035496       3.159179   \n",
       "1  15.296294                                 0.034971       5.052820   \n",
       "2  12.747430                                 0.027785       4.247340   \n",
       "3   9.822994                                 0.021385       3.519373   \n",
       "4  22.953682                                 0.030129       5.896596   \n",
       "\n",
       "   nas_delay  late_aircraft_delay  avg_weather_delay_by_month_by_origin_ap  \\\n",
       "0   2.154742             3.652801                                 0.391570   \n",
       "1   3.096598             7.284020                                 1.814784   \n",
       "2   3.378310             6.843642                                 0.830531   \n",
       "3   2.293352             5.451090                                 0.210036   \n",
       "4   5.225984            12.579710                                 1.143489   \n",
       "\n",
       "   security_delay_by_month_by_origin_ap  op_unique_carrier_check  \n",
       "0                              0.000000                        1  \n",
       "1                              0.003468                        1  \n",
       "2                              0.009080                        1  \n",
       "3                              0.017362                        0  \n",
       "4                              0.012169                        1  \n",
       "\n",
       "[5 rows x 34 columns]"
      ]
     },
     "execution_count": 21,
     "metadata": {},
     "output_type": "execute_result"
    }
   ],
   "source": [
    "df.head()"
   ]
  },
  {
   "cell_type": "code",
   "execution_count": 22,
   "id": "bd8937c3-ace7-48ca-88b0-8d15f76b92f2",
   "metadata": {},
   "outputs": [],
   "source": [
    "dummy_df = pd.get_dummies(df,columns=['mkt_unique_carrier','month','weekday'])"
   ]
  },
  {
   "cell_type": "code",
   "execution_count": 23,
   "id": "26948974-dd61-4de1-8b6b-5ccaa085b219",
   "metadata": {},
   "outputs": [],
   "source": [
    "#drop final category of each dummy variable\n",
    "dummy_df = dummy_df.drop(columns=['month_12','weekday_6','mkt_unique_carrier_WN'])"
   ]
  },
  {
   "cell_type": "code",
   "execution_count": 24,
   "id": "88cbdd8c-8db5-4d56-956b-c5461fd36750",
   "metadata": {},
   "outputs": [],
   "source": [
    "X = dummy_df.drop('arr_delay',axis=1)\n",
    "y = dummy_df['arr_delay']"
   ]
  },
  {
   "cell_type": "code",
   "execution_count": 25,
   "id": "2f0ba08f-b203-49df-aab7-cae2acb521b7",
   "metadata": {},
   "outputs": [],
   "source": [
    "X_train, X_test, y_train, y_test = train_test_split(X,y,test_size = .2)"
   ]
  },
  {
   "cell_type": "code",
   "execution_count": 26,
   "id": "33ad9904-dcca-449d-8f4a-e81dc18bbbd9",
   "metadata": {},
   "outputs": [
    {
     "name": "stdout",
     "output_type": "stream",
     "text": [
      "(72751, 57) (18188, 57) (72751,) (18188,)\n"
     ]
    }
   ],
   "source": [
    "print(X_train.shape,X_test.shape,y_train.shape,y_test.shape)"
   ]
  },
  {
   "cell_type": "markdown",
   "id": "f2a35404-0cca-496e-a222-f4cae06af316",
   "metadata": {},
   "source": [
    "XGBoost Regression Model"
   ]
  },
  {
   "cell_type": "code",
   "execution_count": 27,
   "id": "b7be186b-d287-408c-ab5c-625ef9252a62",
   "metadata": {},
   "outputs": [],
   "source": [
    "import xgboost as xgb\n",
    "from sklearn.model_selection import GridSearchCV, cross_val_score\n",
    "from sklearn.metrics import mean_squared_error"
   ]
  },
  {
   "cell_type": "code",
   "execution_count": 28,
   "id": "5f9d2f62-0723-4eb9-8b72-6178a2650cb5",
   "metadata": {},
   "outputs": [],
   "source": [
    "model = xgb.XGBRegressor(random_state = 13)"
   ]
  },
  {
   "cell_type": "code",
   "execution_count": 29,
   "id": "6921fe81-7972-4dc3-bc87-c17240808a1a",
   "metadata": {},
   "outputs": [],
   "source": [
    "parameters = {'nthread':[4], \n",
    "              'objective':['reg:squarederror'],\n",
    "              # 'learning_rate': [.01, .03, 0.05, .07, .09], \n",
    "              'max_depth': [5, 6, 7],\n",
    "              'min_child_weight': [4],\n",
    "              'subsample': [0.7],\n",
    "              'colsample_bytree': [0.7],\n",
    "              'n_estimators': [500],\n",
    "              'alpha': [0,.1,.25,.5,1,2,5]}"
   ]
  },
  {
   "cell_type": "code",
   "execution_count": null,
   "id": "77295b78-95dc-4f13-840a-e5486b52a8b6",
   "metadata": {},
   "outputs": [],
   "source": [
    "# xgb_grid = GridSearchCV(model, parameters, cv=3, n_jobs = 5, verbose = True)\n",
    "\n",
    "# xgb_grid.fit(X_train, y_train)\n",
    "\n",
    "# print(xgb_grid.best_score_)\n",
    "# print(xgb_grid.best_params_)"
   ]
  },
  {
   "cell_type": "code",
   "execution_count": 71,
   "id": "c4959dc7-ab4b-42ed-b37e-de0f2a8e192e",
   "metadata": {},
   "outputs": [],
   "source": [
    "model = xgb.XGBRegressor(colsample_bytree = .7, \n",
    "                         learning_rate = .01, \n",
    "                         max_depth = 5, \n",
    "                         min_child_weight = 4, \n",
    "                         n_estimators = 500, \n",
    "                         nthread=4, \n",
    "                         objective = 'reg:squarederror', \n",
    "                         subsample = .7, random_state=13, \n",
    "                         reg_lambda = 10, alpha = 5, \n",
    "                         gamma=5)"
   ]
  },
  {
   "cell_type": "code",
   "execution_count": 72,
   "id": "736de6af-6bf3-4b5c-aa2d-ff25be3660d4",
   "metadata": {},
   "outputs": [
    {
     "data": {
      "text/html": [
       "<style>#sk-container-id-8 {color: black;background-color: white;}#sk-container-id-8 pre{padding: 0;}#sk-container-id-8 div.sk-toggleable {background-color: white;}#sk-container-id-8 label.sk-toggleable__label {cursor: pointer;display: block;width: 100%;margin-bottom: 0;padding: 0.3em;box-sizing: border-box;text-align: center;}#sk-container-id-8 label.sk-toggleable__label-arrow:before {content: \"▸\";float: left;margin-right: 0.25em;color: #696969;}#sk-container-id-8 label.sk-toggleable__label-arrow:hover:before {color: black;}#sk-container-id-8 div.sk-estimator:hover label.sk-toggleable__label-arrow:before {color: black;}#sk-container-id-8 div.sk-toggleable__content {max-height: 0;max-width: 0;overflow: hidden;text-align: left;background-color: #f0f8ff;}#sk-container-id-8 div.sk-toggleable__content pre {margin: 0.2em;color: black;border-radius: 0.25em;background-color: #f0f8ff;}#sk-container-id-8 input.sk-toggleable__control:checked~div.sk-toggleable__content {max-height: 200px;max-width: 100%;overflow: auto;}#sk-container-id-8 input.sk-toggleable__control:checked~label.sk-toggleable__label-arrow:before {content: \"▾\";}#sk-container-id-8 div.sk-estimator input.sk-toggleable__control:checked~label.sk-toggleable__label {background-color: #d4ebff;}#sk-container-id-8 div.sk-label input.sk-toggleable__control:checked~label.sk-toggleable__label {background-color: #d4ebff;}#sk-container-id-8 input.sk-hidden--visually {border: 0;clip: rect(1px 1px 1px 1px);clip: rect(1px, 1px, 1px, 1px);height: 1px;margin: -1px;overflow: hidden;padding: 0;position: absolute;width: 1px;}#sk-container-id-8 div.sk-estimator {font-family: monospace;background-color: #f0f8ff;border: 1px dotted black;border-radius: 0.25em;box-sizing: border-box;margin-bottom: 0.5em;}#sk-container-id-8 div.sk-estimator:hover {background-color: #d4ebff;}#sk-container-id-8 div.sk-parallel-item::after {content: \"\";width: 100%;border-bottom: 1px solid gray;flex-grow: 1;}#sk-container-id-8 div.sk-label:hover label.sk-toggleable__label {background-color: #d4ebff;}#sk-container-id-8 div.sk-serial::before {content: \"\";position: absolute;border-left: 1px solid gray;box-sizing: border-box;top: 0;bottom: 0;left: 50%;z-index: 0;}#sk-container-id-8 div.sk-serial {display: flex;flex-direction: column;align-items: center;background-color: white;padding-right: 0.2em;padding-left: 0.2em;position: relative;}#sk-container-id-8 div.sk-item {position: relative;z-index: 1;}#sk-container-id-8 div.sk-parallel {display: flex;align-items: stretch;justify-content: center;background-color: white;position: relative;}#sk-container-id-8 div.sk-item::before, #sk-container-id-8 div.sk-parallel-item::before {content: \"\";position: absolute;border-left: 1px solid gray;box-sizing: border-box;top: 0;bottom: 0;left: 50%;z-index: -1;}#sk-container-id-8 div.sk-parallel-item {display: flex;flex-direction: column;z-index: 1;position: relative;background-color: white;}#sk-container-id-8 div.sk-parallel-item:first-child::after {align-self: flex-end;width: 50%;}#sk-container-id-8 div.sk-parallel-item:last-child::after {align-self: flex-start;width: 50%;}#sk-container-id-8 div.sk-parallel-item:only-child::after {width: 0;}#sk-container-id-8 div.sk-dashed-wrapped {border: 1px dashed gray;margin: 0 0.4em 0.5em 0.4em;box-sizing: border-box;padding-bottom: 0.4em;background-color: white;}#sk-container-id-8 div.sk-label label {font-family: monospace;font-weight: bold;display: inline-block;line-height: 1.2em;}#sk-container-id-8 div.sk-label-container {text-align: center;}#sk-container-id-8 div.sk-container {/* jupyter's `normalize.less` sets `[hidden] { display: none; }` but bootstrap.min.css set `[hidden] { display: none !important; }` so we also need the `!important` here to be able to override the default hidden behavior on the sphinx rendered scikit-learn.org. See: https://github.com/scikit-learn/scikit-learn/issues/21755 */display: inline-block !important;position: relative;}#sk-container-id-8 div.sk-text-repr-fallback {display: none;}</style><div id=\"sk-container-id-8\" class=\"sk-top-container\"><div class=\"sk-text-repr-fallback\"><pre>XGBRegressor(alpha=5, base_score=None, booster=None, callbacks=None,\n",
       "             colsample_bylevel=None, colsample_bynode=None,\n",
       "             colsample_bytree=0.7, early_stopping_rounds=None,\n",
       "             enable_categorical=False, eval_metric=None, feature_types=None,\n",
       "             gamma=5, gpu_id=None, grow_policy=None, importance_type=None,\n",
       "             interaction_constraints=None, learning_rate=0.01, max_bin=None,\n",
       "             max_cat_threshold=None, max_cat_to_onehot=None,\n",
       "             max_delta_step=None, max_depth=5, max_leaves=None,\n",
       "             min_child_weight=4, missing=nan, monotone_constraints=None,\n",
       "             n_estimators=500, n_jobs=None, nthread=4, num_parallel_tree=None, ...)</pre><b>In a Jupyter environment, please rerun this cell to show the HTML representation or trust the notebook. <br />On GitHub, the HTML representation is unable to render, please try loading this page with nbviewer.org.</b></div><div class=\"sk-container\" hidden><div class=\"sk-item\"><div class=\"sk-estimator sk-toggleable\"><input class=\"sk-toggleable__control sk-hidden--visually\" id=\"sk-estimator-id-8\" type=\"checkbox\" checked><label for=\"sk-estimator-id-8\" class=\"sk-toggleable__label sk-toggleable__label-arrow\">XGBRegressor</label><div class=\"sk-toggleable__content\"><pre>XGBRegressor(alpha=5, base_score=None, booster=None, callbacks=None,\n",
       "             colsample_bylevel=None, colsample_bynode=None,\n",
       "             colsample_bytree=0.7, early_stopping_rounds=None,\n",
       "             enable_categorical=False, eval_metric=None, feature_types=None,\n",
       "             gamma=5, gpu_id=None, grow_policy=None, importance_type=None,\n",
       "             interaction_constraints=None, learning_rate=0.01, max_bin=None,\n",
       "             max_cat_threshold=None, max_cat_to_onehot=None,\n",
       "             max_delta_step=None, max_depth=5, max_leaves=None,\n",
       "             min_child_weight=4, missing=nan, monotone_constraints=None,\n",
       "             n_estimators=500, n_jobs=None, nthread=4, num_parallel_tree=None, ...)</pre></div></div></div></div></div>"
      ],
      "text/plain": [
       "XGBRegressor(alpha=5, base_score=None, booster=None, callbacks=None,\n",
       "             colsample_bylevel=None, colsample_bynode=None,\n",
       "             colsample_bytree=0.7, early_stopping_rounds=None,\n",
       "             enable_categorical=False, eval_metric=None, feature_types=None,\n",
       "             gamma=5, gpu_id=None, grow_policy=None, importance_type=None,\n",
       "             interaction_constraints=None, learning_rate=0.01, max_bin=None,\n",
       "             max_cat_threshold=None, max_cat_to_onehot=None,\n",
       "             max_delta_step=None, max_depth=5, max_leaves=None,\n",
       "             min_child_weight=4, missing=nan, monotone_constraints=None,\n",
       "             n_estimators=500, n_jobs=None, nthread=4, num_parallel_tree=None, ...)"
      ]
     },
     "execution_count": 72,
     "metadata": {},
     "output_type": "execute_result"
    }
   ],
   "source": [
    "model.fit(X_train,y_train)"
   ]
  },
  {
   "cell_type": "code",
   "execution_count": 73,
   "id": "a5addf91-8fb0-4dd4-bb52-a2eead96c7ee",
   "metadata": {},
   "outputs": [
    {
     "name": "stdout",
     "output_type": "stream",
     "text": [
      "Training Scores:  0.07568226799539812\n"
     ]
    }
   ],
   "source": [
    "score = model.score(X_train,y_train)\n",
    "print(\"Training Scores: \", score)"
   ]
  },
  {
   "cell_type": "code",
   "execution_count": 74,
   "id": "c2c8aa4b-9d46-4870-8cf7-07408d5be47c",
   "metadata": {},
   "outputs": [
    {
     "name": "stdout",
     "output_type": "stream",
     "text": [
      "Testing Scores:  0.03145678761287263\n"
     ]
    }
   ],
   "source": [
    "test_score = model.score(X_test,y_test)\n",
    "print(\"Testing Scores: \", test_score)"
   ]
  },
  {
   "cell_type": "code",
   "execution_count": 75,
   "id": "83583e6f-a922-4ba3-a929-376343475161",
   "metadata": {},
   "outputs": [
    {
     "name": "stdout",
     "output_type": "stream",
     "text": [
      "MSE: 1431.75\n",
      "RMSE: 37.84\n"
     ]
    }
   ],
   "source": [
    "#so far slight improvement over linear model\n",
    "ypred = model.predict(X_test)\n",
    "mse = mean_squared_error(y_test, ypred)\n",
    "print(\"MSE: %.2f\" % mse)\n",
    "print(\"RMSE: %.2f\" % (mse**(1/2.0)))"
   ]
  }
 ],
 "metadata": {
  "kernelspec": {
   "display_name": "LHL_env",
   "language": "python",
   "name": "lhl_env"
  },
  "language_info": {
   "codemirror_mode": {
    "name": "ipython",
    "version": 3
   },
   "file_extension": ".py",
   "mimetype": "text/x-python",
   "name": "python",
   "nbconvert_exporter": "python",
   "pygments_lexer": "ipython3",
   "version": "3.10.9"
  }
 },
 "nbformat": 4,
 "nbformat_minor": 5
}
