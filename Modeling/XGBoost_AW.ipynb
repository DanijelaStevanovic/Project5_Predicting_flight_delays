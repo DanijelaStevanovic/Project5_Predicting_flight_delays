{
 "cells": [
  {
   "cell_type": "code",
   "execution_count": 1,
   "id": "4cc52ea3-cbe6-450f-aff0-b1e63d89a9ae",
   "metadata": {},
   "outputs": [],
   "source": [
    "import pandas as pd\n",
    "import numpy as np\n",
    "import matplotlib.pyplot as plt\n",
    "import statsmodels.api as sm\n",
    "from sklearn.model_selection import train_test_split"
   ]
  },
  {
   "cell_type": "code",
   "execution_count": 108,
   "id": "2ae618c0-3ea6-4d56-9531-5c15ff46a6f2",
   "metadata": {},
   "outputs": [],
   "source": [
    "df = pd.read_csv('../CleaningTableFlights/data/model_df_version_2.csv')\n",
    "dep_delay = pd.read_csv('../CleaningTableFlights/data/flights.csv')[['dep_delay','origin']]"
   ]
  },
  {
   "cell_type": "code",
   "execution_count": 109,
   "id": "5dd38e06-f833-4d82-b2e4-0d26dc9a33c5",
   "metadata": {},
   "outputs": [],
   "source": [
    "dep_delay = dep_delay.groupby('origin').mean()\n",
    "dep_delay = dep_delay.rename({'dep_delay':'average_departure_delay_by_ap'},axis=1)"
   ]
  },
  {
   "cell_type": "code",
   "execution_count": 110,
   "id": "199251ed-b13f-450a-bd25-f1c07cc42397",
   "metadata": {},
   "outputs": [
    {
     "data": {
      "text/html": [
       "<div>\n",
       "<style scoped>\n",
       "    .dataframe tbody tr th:only-of-type {\n",
       "        vertical-align: middle;\n",
       "    }\n",
       "\n",
       "    .dataframe tbody tr th {\n",
       "        vertical-align: top;\n",
       "    }\n",
       "\n",
       "    .dataframe thead th {\n",
       "        text-align: right;\n",
       "    }\n",
       "</style>\n",
       "<table border=\"1\" class=\"dataframe\">\n",
       "  <thead>\n",
       "    <tr style=\"text-align: right;\">\n",
       "      <th></th>\n",
       "      <th>fl_date</th>\n",
       "      <th>mkt_unique_carrier</th>\n",
       "      <th>mkt_carrier_fl_num</th>\n",
       "      <th>op_unique_carrier</th>\n",
       "      <th>tail_num</th>\n",
       "      <th>origin</th>\n",
       "      <th>dest</th>\n",
       "      <th>crs_dep_time</th>\n",
       "      <th>crs_arr_time</th>\n",
       "      <th>crs_elapsed_time</th>\n",
       "      <th>distance</th>\n",
       "      <th>arr_delay</th>\n",
       "      <th>cancelled_flights</th>\n",
       "    </tr>\n",
       "  </thead>\n",
       "  <tbody>\n",
       "    <tr>\n",
       "      <th>0</th>\n",
       "      <td>2019-02-12</td>\n",
       "      <td>DL</td>\n",
       "      <td>2070</td>\n",
       "      <td>DL</td>\n",
       "      <td>N915DN</td>\n",
       "      <td>GSP</td>\n",
       "      <td>ATL</td>\n",
       "      <td>1020</td>\n",
       "      <td>1126</td>\n",
       "      <td>66.0</td>\n",
       "      <td>153</td>\n",
       "      <td>-5.0</td>\n",
       "      <td>0</td>\n",
       "    </tr>\n",
       "    <tr>\n",
       "      <th>1</th>\n",
       "      <td>2019-05-25</td>\n",
       "      <td>AS</td>\n",
       "      <td>1438</td>\n",
       "      <td>AS</td>\n",
       "      <td>N844VA</td>\n",
       "      <td>LAX</td>\n",
       "      <td>SJC</td>\n",
       "      <td>2005</td>\n",
       "      <td>2130</td>\n",
       "      <td>85.0</td>\n",
       "      <td>308</td>\n",
       "      <td>53.0</td>\n",
       "      <td>0</td>\n",
       "    </tr>\n",
       "    <tr>\n",
       "      <th>2</th>\n",
       "      <td>2018-01-02</td>\n",
       "      <td>DL</td>\n",
       "      <td>2297</td>\n",
       "      <td>DL</td>\n",
       "      <td>N922DX</td>\n",
       "      <td>JAX</td>\n",
       "      <td>ATL</td>\n",
       "      <td>1540</td>\n",
       "      <td>1658</td>\n",
       "      <td>78.0</td>\n",
       "      <td>270</td>\n",
       "      <td>-13.0</td>\n",
       "      <td>0</td>\n",
       "    </tr>\n",
       "    <tr>\n",
       "      <th>3</th>\n",
       "      <td>2019-11-24</td>\n",
       "      <td>UA</td>\n",
       "      <td>4808</td>\n",
       "      <td>ZW</td>\n",
       "      <td>N419AW</td>\n",
       "      <td>IAD</td>\n",
       "      <td>ALB</td>\n",
       "      <td>1715</td>\n",
       "      <td>1854</td>\n",
       "      <td>99.0</td>\n",
       "      <td>325</td>\n",
       "      <td>-33.0</td>\n",
       "      <td>0</td>\n",
       "    </tr>\n",
       "    <tr>\n",
       "      <th>4</th>\n",
       "      <td>2018-07-17</td>\n",
       "      <td>AA</td>\n",
       "      <td>1815</td>\n",
       "      <td>AA</td>\n",
       "      <td>N703UW</td>\n",
       "      <td>CLT</td>\n",
       "      <td>DCA</td>\n",
       "      <td>1310</td>\n",
       "      <td>1437</td>\n",
       "      <td>87.0</td>\n",
       "      <td>331</td>\n",
       "      <td>-12.0</td>\n",
       "      <td>0</td>\n",
       "    </tr>\n",
       "    <tr>\n",
       "      <th>...</th>\n",
       "      <td>...</td>\n",
       "      <td>...</td>\n",
       "      <td>...</td>\n",
       "      <td>...</td>\n",
       "      <td>...</td>\n",
       "      <td>...</td>\n",
       "      <td>...</td>\n",
       "      <td>...</td>\n",
       "      <td>...</td>\n",
       "      <td>...</td>\n",
       "      <td>...</td>\n",
       "      <td>...</td>\n",
       "      <td>...</td>\n",
       "    </tr>\n",
       "    <tr>\n",
       "      <th>158777</th>\n",
       "      <td>2019-11-23</td>\n",
       "      <td>B6</td>\n",
       "      <td>746</td>\n",
       "      <td>B6</td>\n",
       "      <td>N966JT</td>\n",
       "      <td>PSE</td>\n",
       "      <td>JFK</td>\n",
       "      <td>319</td>\n",
       "      <td>618</td>\n",
       "      <td>239.0</td>\n",
       "      <td>1617</td>\n",
       "      <td>22.0</td>\n",
       "      <td>0</td>\n",
       "    </tr>\n",
       "    <tr>\n",
       "      <th>158778</th>\n",
       "      <td>2018-04-15</td>\n",
       "      <td>UA</td>\n",
       "      <td>5994</td>\n",
       "      <td>OO</td>\n",
       "      <td>N124SY</td>\n",
       "      <td>DFW</td>\n",
       "      <td>SFO</td>\n",
       "      <td>550</td>\n",
       "      <td>800</td>\n",
       "      <td>250.0</td>\n",
       "      <td>1464</td>\n",
       "      <td>-12.0</td>\n",
       "      <td>0</td>\n",
       "    </tr>\n",
       "    <tr>\n",
       "      <th>158779</th>\n",
       "      <td>2018-11-27</td>\n",
       "      <td>AA</td>\n",
       "      <td>4963</td>\n",
       "      <td>PT</td>\n",
       "      <td>N603KC</td>\n",
       "      <td>RIC</td>\n",
       "      <td>PHL</td>\n",
       "      <td>1703</td>\n",
       "      <td>1814</td>\n",
       "      <td>71.0</td>\n",
       "      <td>198</td>\n",
       "      <td>18.0</td>\n",
       "      <td>0</td>\n",
       "    </tr>\n",
       "    <tr>\n",
       "      <th>158780</th>\n",
       "      <td>2018-10-04</td>\n",
       "      <td>AS</td>\n",
       "      <td>1387</td>\n",
       "      <td>AS</td>\n",
       "      <td>N284VA</td>\n",
       "      <td>SFO</td>\n",
       "      <td>PDX</td>\n",
       "      <td>1805</td>\n",
       "      <td>1951</td>\n",
       "      <td>106.0</td>\n",
       "      <td>550</td>\n",
       "      <td>-10.0</td>\n",
       "      <td>0</td>\n",
       "    </tr>\n",
       "    <tr>\n",
       "      <th>158781</th>\n",
       "      <td>2018-11-16</td>\n",
       "      <td>HA</td>\n",
       "      <td>651</td>\n",
       "      <td>EM</td>\n",
       "      <td>N805HC</td>\n",
       "      <td>JHM</td>\n",
       "      <td>HNL</td>\n",
       "      <td>1041</td>\n",
       "      <td>1117</td>\n",
       "      <td>36.0</td>\n",
       "      <td>84</td>\n",
       "      <td>-10.0</td>\n",
       "      <td>0</td>\n",
       "    </tr>\n",
       "  </tbody>\n",
       "</table>\n",
       "<p>158782 rows × 13 columns</p>\n",
       "</div>"
      ],
      "text/plain": [
       "           fl_date mkt_unique_carrier  mkt_carrier_fl_num op_unique_carrier  \\\n",
       "0       2019-02-12                 DL                2070                DL   \n",
       "1       2019-05-25                 AS                1438                AS   \n",
       "2       2018-01-02                 DL                2297                DL   \n",
       "3       2019-11-24                 UA                4808                ZW   \n",
       "4       2018-07-17                 AA                1815                AA   \n",
       "...            ...                ...                 ...               ...   \n",
       "158777  2019-11-23                 B6                 746                B6   \n",
       "158778  2018-04-15                 UA                5994                OO   \n",
       "158779  2018-11-27                 AA                4963                PT   \n",
       "158780  2018-10-04                 AS                1387                AS   \n",
       "158781  2018-11-16                 HA                 651                EM   \n",
       "\n",
       "       tail_num origin dest  crs_dep_time  crs_arr_time  crs_elapsed_time  \\\n",
       "0        N915DN    GSP  ATL          1020          1126              66.0   \n",
       "1        N844VA    LAX  SJC          2005          2130              85.0   \n",
       "2        N922DX    JAX  ATL          1540          1658              78.0   \n",
       "3        N419AW    IAD  ALB          1715          1854              99.0   \n",
       "4        N703UW    CLT  DCA          1310          1437              87.0   \n",
       "...         ...    ...  ...           ...           ...               ...   \n",
       "158777   N966JT    PSE  JFK           319           618             239.0   \n",
       "158778   N124SY    DFW  SFO           550           800             250.0   \n",
       "158779   N603KC    RIC  PHL          1703          1814              71.0   \n",
       "158780   N284VA    SFO  PDX          1805          1951             106.0   \n",
       "158781   N805HC    JHM  HNL          1041          1117              36.0   \n",
       "\n",
       "        distance  arr_delay  cancelled_flights  \n",
       "0            153       -5.0                  0  \n",
       "1            308       53.0                  0  \n",
       "2            270      -13.0                  0  \n",
       "3            325      -33.0                  0  \n",
       "4            331      -12.0                  0  \n",
       "...          ...        ...                ...  \n",
       "158777      1617       22.0                  0  \n",
       "158778      1464      -12.0                  0  \n",
       "158779       198       18.0                  0  \n",
       "158780       550      -10.0                  0  \n",
       "158781        84      -10.0                  0  \n",
       "\n",
       "[158782 rows x 13 columns]"
      ]
     },
     "execution_count": 110,
     "metadata": {},
     "output_type": "execute_result"
    }
   ],
   "source": [
    "df"
   ]
  },
  {
   "cell_type": "code",
   "execution_count": 111,
   "id": "1fd5c3b4-42a0-478c-83e7-3505fa6a30cb",
   "metadata": {},
   "outputs": [],
   "source": [
    "arr_delay = df[['dest','arr_delay']]\n",
    "arr_delay = arr_delay.groupby('dest').mean()\n",
    "arr_delay = arr_delay.rename({'arr_delay':'average_arrival_delay_by_ap_full'},axis=1)"
   ]
  },
  {
   "cell_type": "code",
   "execution_count": 112,
   "id": "845307bf-9984-4d0a-8870-0ea2b448f8dd",
   "metadata": {},
   "outputs": [],
   "source": [
    "df = df.drop(['tail_num','mkt_carrier_fl_num'], axis = 1)"
   ]
  },
  {
   "cell_type": "code",
   "execution_count": 113,
   "id": "0c204628-a65a-4a23-a0a7-ce07d31dff73",
   "metadata": {},
   "outputs": [],
   "source": [
    "pass_fuel_df = pd.read_csv('data/passenger_fuel_df_full.csv')"
   ]
  },
  {
   "cell_type": "code",
   "execution_count": 114,
   "id": "4861d256-f1a1-4313-a530-320c4771cc0d",
   "metadata": {},
   "outputs": [],
   "source": [
    "departures_df = pd.read_csv('data/departures_by_airport_full.csv')\n",
    "departures_df = departures_df.drop('origin_city_name',axis=1)"
   ]
  },
  {
   "cell_type": "code",
   "execution_count": 115,
   "id": "31eeadf5-cd6c-4ccb-a596-fc39df00e803",
   "metadata": {},
   "outputs": [],
   "source": [
    "arrivals_df = pd.read_csv('data/arrivals_by_airport.csv')\n",
    "arrivals_df = arrivals_df.drop('dest_city_name',axis=1)"
   ]
  },
  {
   "cell_type": "code",
   "execution_count": 116,
   "id": "8a74f18a-0de7-4a01-a658-484eb16b7db8",
   "metadata": {},
   "outputs": [],
   "source": [
    "month_dest_df = pd.read_csv('data/features_dest_monthly_params.csv')\n",
    "month_origin_df = pd.read_csv('data/features_origin_monthly_params.csv')"
   ]
  },
  {
   "cell_type": "code",
   "execution_count": 117,
   "id": "e55cd118-4d7c-43ca-bebc-dad70a2c4c72",
   "metadata": {},
   "outputs": [],
   "source": [
    "df['month'] = pd.DatetimeIndex(df['fl_date']).month\n",
    "df['weekday'] = pd.DatetimeIndex(df['fl_date']).weekday"
   ]
  },
  {
   "cell_type": "code",
   "execution_count": 118,
   "id": "275260e5-997d-4a7c-96a4-049dd9beaaeb",
   "metadata": {},
   "outputs": [],
   "source": [
    "month_dest_df['combo1']=month_dest_df['dest'].astype('str')+month_dest_df['fl_month'].astype('str')\n",
    "df['combo1']=df['dest'].astype('str')+df['month'].astype('str')\n",
    "\n",
    "month_dest_df = month_dest_df.drop(['fl_month','dest'],axis=1)\n",
    "month_dest_df = month_dest_df.rename(columns={'arr_delay':'avg_arr_delay_by_month_by_dest_ap','cancelled':'cancelled_flights_by_month_by_dest_ap','weather_delay':'avg_weather_delay_by_month_by_dest_ap','security_delay':'security_delay_by_month_by_dest_ap'})"
   ]
  },
  {
   "cell_type": "code",
   "execution_count": 119,
   "id": "ae9a20cb-decf-46d8-b2ea-b5c02e9cdade",
   "metadata": {},
   "outputs": [],
   "source": [
    "month_origin_df['combo2']=month_origin_df['origin'].astype('str')+month_origin_df['fl_month'].astype('str')\n",
    "df['combo2']=df['origin'].astype('str')+df['month'].astype('str')\n",
    "\n",
    "month_origin_df = month_origin_df.drop(['fl_month','origin'],axis=1)\n",
    "month_origin_df = month_origin_df.rename(columns={'arr_delay':'avg_arr_delay_by_month_by_origin_ap','cancelled':'cancelled_flights_by_month_by_origin_ap','weather_delay':'avg_weather_delay_by_month_by_origin_ap','security_delay':'security_delay_by_month_by_origin_ap'})"
   ]
  },
  {
   "cell_type": "code",
   "execution_count": 120,
   "id": "9b402520-9fd3-4f05-b5ad-3660c5adbd75",
   "metadata": {},
   "outputs": [],
   "source": [
    "df = df.drop(['fl_date'],axis=1)"
   ]
  },
  {
   "cell_type": "code",
   "execution_count": 121,
   "id": "48540042-b07b-4828-903a-de762b7d4938",
   "metadata": {},
   "outputs": [],
   "source": [
    "df['crs_arr_time'] = (df['crs_arr_time']//100)*60 + df['crs_arr_time'] - (df['crs_arr_time']//100)*100\n",
    "df['crs_dep_time'] = (df['crs_dep_time']//100)*60 + df['crs_dep_time'] - (df['crs_dep_time']//100)*100"
   ]
  },
  {
   "cell_type": "code",
   "execution_count": 122,
   "id": "cf00946a-e145-4fd2-9412-3d1a48c223fa",
   "metadata": {},
   "outputs": [],
   "source": [
    "#add in fuel and passenger info by carrier\n",
    "df = df.merge(pass_fuel_df, how = 'left', left_on='mkt_unique_carrier',right_on='mkt_unique_carrier')"
   ]
  },
  {
   "cell_type": "code",
   "execution_count": 123,
   "id": "e438a31a-286d-4267-bc8c-885e4059639c",
   "metadata": {},
   "outputs": [],
   "source": [
    "#add in departure and passenger info by airport\n",
    "df = df.merge(departures_df, how = 'left', on = 'origin')\n",
    "\n",
    "#add in arrival and passenger info by arrival airport\n",
    "df = df.merge(arrivals_df, how = 'left', on = 'dest')\n",
    "\n",
    "#add in average departure delay by departure location\n",
    "df = df.merge(dep_delay, how = 'left', left_on = 'origin', right_index = True)\n",
    "\n",
    "#add in average arrival delay by arrival location\n",
    "df = df.merge(arr_delay, how = 'left', left_on = 'origin', right_index = True)\n",
    "\n",
    "#add in monthly data\n",
    "df = df.merge(month_dest_df, how = 'left', on = 'combo1')\n",
    "df = df.merge(month_origin_df, how = 'left', on = 'combo2')"
   ]
  },
  {
   "cell_type": "code",
   "execution_count": 124,
   "id": "11f26c30-b31b-488f-b89c-f4c0ef814c00",
   "metadata": {},
   "outputs": [],
   "source": [
    "#add constant\n",
    "df['constant'] = 1\n",
    "first_column = df.pop('constant')\n",
    "df.insert(0, 'constant', first_column)"
   ]
  },
  {
   "cell_type": "code",
   "execution_count": 125,
   "id": "326fad61-22e7-4e62-be5c-1fbfa1791263",
   "metadata": {},
   "outputs": [],
   "source": [
    "#create variable where 1 if op_carrier different from mkt_carrier\n",
    "df['op_unique_carrier_check'] = df['op_unique_carrier'] != df['mkt_unique_carrier']\n",
    "df['op_unique_carrier_check'] = df['op_unique_carrier_check'].astype('int')"
   ]
  },
  {
   "cell_type": "code",
   "execution_count": 126,
   "id": "81ca4405-1c68-4a63-ade4-328601287cc3",
   "metadata": {},
   "outputs": [],
   "source": [
    "#fill arrival/departure average nans with 0\n",
    "df = df.fillna(0)"
   ]
  },
  {
   "cell_type": "code",
   "execution_count": 127,
   "id": "12ba5216-1945-4225-97bb-c58e8b1d25d6",
   "metadata": {},
   "outputs": [],
   "source": [
    "df = df.drop(['origin','dest','op_unique_carrier','combo1','combo2','cancelled_flights'],axis=1)"
   ]
  },
  {
   "cell_type": "code",
   "execution_count": 128,
   "id": "5a324937-f34c-49be-b5df-b7b65a310c18",
   "metadata": {},
   "outputs": [
    {
     "data": {
      "text/plain": [
       "Index(['constant', 'mkt_unique_carrier', 'crs_dep_time', 'crs_arr_time',\n",
       "       'crs_elapsed_time', 'distance', 'arr_delay', 'month', 'weekday',\n",
       "       'avg_distance_per_month_by_carrier', 'avg_dep_delay_by_carrier',\n",
       "       'total_gallons', 'passengers_by_carrier_per_month',\n",
       "       'monthly_distance_per_passenger', 'avgfuel_percustomer_perdistance',\n",
       "       'yearly_departures_per_ap', 'yearly_passengers_per_ap',\n",
       "       'yearly_arrivals_per_ap', 'yearly_arriving_passengers_per_ap',\n",
       "       'average_departure_delay_by_ap', 'average_arrival_delay_by_ap_full',\n",
       "       'avg_arr_delay_by_month_by_dest_ap', 'carrier_delay_x', 'nas_delay_x',\n",
       "       'late_aircraft_delay_x', 'avg_weather_delay_by_month_by_dest_ap',\n",
       "       'security_delay_by_month_by_dest_ap',\n",
       "       'cancelled_flights_by_month_by_dest_ap', 'dep_delay',\n",
       "       'avg_arr_delay_by_month_by_origin_ap', 'carrier_delay_y', 'nas_delay_y',\n",
       "       'late_aircraft_delay_y', 'avg_weather_delay_by_month_by_origin_ap',\n",
       "       'security_delay_by_month_by_origin_ap',\n",
       "       'cancelled_flights_by_month_by_origin_ap', 'op_unique_carrier_check'],\n",
       "      dtype='object')"
      ]
     },
     "execution_count": 128,
     "metadata": {},
     "output_type": "execute_result"
    }
   ],
   "source": [
    "df.columns"
   ]
  },
  {
   "cell_type": "code",
   "execution_count": 129,
   "id": "bda4df42-963c-4cde-969d-61091945b8f6",
   "metadata": {},
   "outputs": [
    {
     "data": {
      "text/html": [
       "<div>\n",
       "<style scoped>\n",
       "    .dataframe tbody tr th:only-of-type {\n",
       "        vertical-align: middle;\n",
       "    }\n",
       "\n",
       "    .dataframe tbody tr th {\n",
       "        vertical-align: top;\n",
       "    }\n",
       "\n",
       "    .dataframe thead th {\n",
       "        text-align: right;\n",
       "    }\n",
       "</style>\n",
       "<table border=\"1\" class=\"dataframe\">\n",
       "  <thead>\n",
       "    <tr style=\"text-align: right;\">\n",
       "      <th></th>\n",
       "      <th>constant</th>\n",
       "      <th>mkt_unique_carrier</th>\n",
       "      <th>crs_dep_time</th>\n",
       "      <th>crs_arr_time</th>\n",
       "      <th>crs_elapsed_time</th>\n",
       "      <th>distance</th>\n",
       "      <th>arr_delay</th>\n",
       "      <th>month</th>\n",
       "      <th>weekday</th>\n",
       "      <th>avg_distance_per_month_by_carrier</th>\n",
       "      <th>...</th>\n",
       "      <th>cancelled_flights_by_month_by_dest_ap</th>\n",
       "      <th>dep_delay</th>\n",
       "      <th>avg_arr_delay_by_month_by_origin_ap</th>\n",
       "      <th>carrier_delay_y</th>\n",
       "      <th>nas_delay_y</th>\n",
       "      <th>late_aircraft_delay_y</th>\n",
       "      <th>avg_weather_delay_by_month_by_origin_ap</th>\n",
       "      <th>security_delay_by_month_by_origin_ap</th>\n",
       "      <th>cancelled_flights_by_month_by_origin_ap</th>\n",
       "      <th>op_unique_carrier_check</th>\n",
       "    </tr>\n",
       "  </thead>\n",
       "  <tbody>\n",
       "    <tr>\n",
       "      <th>0</th>\n",
       "      <td>1</td>\n",
       "      <td>DL</td>\n",
       "      <td>620</td>\n",
       "      <td>686</td>\n",
       "      <td>66.0</td>\n",
       "      <td>153</td>\n",
       "      <td>-5.0</td>\n",
       "      <td>2</td>\n",
       "      <td>1</td>\n",
       "      <td>1.014802e+08</td>\n",
       "      <td>...</td>\n",
       "      <td>0.006185</td>\n",
       "      <td>11.312448</td>\n",
       "      <td>4.526793</td>\n",
       "      <td>3.995054</td>\n",
       "      <td>3.525556</td>\n",
       "      <td>6.062242</td>\n",
       "      <td>0.645507</td>\n",
       "      <td>0.000000</td>\n",
       "      <td>0.028854</td>\n",
       "      <td>0</td>\n",
       "    </tr>\n",
       "    <tr>\n",
       "      <th>1</th>\n",
       "      <td>1</td>\n",
       "      <td>AS</td>\n",
       "      <td>1205</td>\n",
       "      <td>1290</td>\n",
       "      <td>85.0</td>\n",
       "      <td>308</td>\n",
       "      <td>53.0</td>\n",
       "      <td>5</td>\n",
       "      <td>5</td>\n",
       "      <td>3.493391e+07</td>\n",
       "      <td>...</td>\n",
       "      <td>0.019439</td>\n",
       "      <td>8.986239</td>\n",
       "      <td>1.990982</td>\n",
       "      <td>3.388559</td>\n",
       "      <td>2.506986</td>\n",
       "      <td>4.166428</td>\n",
       "      <td>0.081394</td>\n",
       "      <td>0.010356</td>\n",
       "      <td>0.010262</td>\n",
       "      <td>0</td>\n",
       "    </tr>\n",
       "    <tr>\n",
       "      <th>2</th>\n",
       "      <td>1</td>\n",
       "      <td>DL</td>\n",
       "      <td>940</td>\n",
       "      <td>1018</td>\n",
       "      <td>78.0</td>\n",
       "      <td>270</td>\n",
       "      <td>-13.0</td>\n",
       "      <td>1</td>\n",
       "      <td>1</td>\n",
       "      <td>1.014802e+08</td>\n",
       "      <td>...</td>\n",
       "      <td>0.005505</td>\n",
       "      <td>9.814683</td>\n",
       "      <td>3.909325</td>\n",
       "      <td>3.649802</td>\n",
       "      <td>3.181944</td>\n",
       "      <td>5.326984</td>\n",
       "      <td>0.321429</td>\n",
       "      <td>0.000000</td>\n",
       "      <td>0.012103</td>\n",
       "      <td>0</td>\n",
       "    </tr>\n",
       "    <tr>\n",
       "      <th>3</th>\n",
       "      <td>1</td>\n",
       "      <td>UA</td>\n",
       "      <td>1035</td>\n",
       "      <td>1134</td>\n",
       "      <td>99.0</td>\n",
       "      <td>325</td>\n",
       "      <td>-33.0</td>\n",
       "      <td>11</td>\n",
       "      <td>6</td>\n",
       "      <td>1.013686e+08</td>\n",
       "      <td>...</td>\n",
       "      <td>0.014629</td>\n",
       "      <td>9.555175</td>\n",
       "      <td>5.925672</td>\n",
       "      <td>4.845193</td>\n",
       "      <td>2.577689</td>\n",
       "      <td>5.778856</td>\n",
       "      <td>0.577055</td>\n",
       "      <td>0.000000</td>\n",
       "      <td>0.007230</td>\n",
       "      <td>1</td>\n",
       "    </tr>\n",
       "    <tr>\n",
       "      <th>4</th>\n",
       "      <td>1</td>\n",
       "      <td>AA</td>\n",
       "      <td>790</td>\n",
       "      <td>877</td>\n",
       "      <td>87.0</td>\n",
       "      <td>331</td>\n",
       "      <td>-12.0</td>\n",
       "      <td>7</td>\n",
       "      <td>1</td>\n",
       "      <td>1.198062e+08</td>\n",
       "      <td>...</td>\n",
       "      <td>0.037967</td>\n",
       "      <td>14.977925</td>\n",
       "      <td>11.530916</td>\n",
       "      <td>4.291598</td>\n",
       "      <td>3.141092</td>\n",
       "      <td>7.255694</td>\n",
       "      <td>1.582681</td>\n",
       "      <td>0.049149</td>\n",
       "      <td>0.021958</td>\n",
       "      <td>0</td>\n",
       "    </tr>\n",
       "  </tbody>\n",
       "</table>\n",
       "<p>5 rows × 37 columns</p>\n",
       "</div>"
      ],
      "text/plain": [
       "   constant mkt_unique_carrier  crs_dep_time  crs_arr_time  crs_elapsed_time  \\\n",
       "0         1                 DL           620           686              66.0   \n",
       "1         1                 AS          1205          1290              85.0   \n",
       "2         1                 DL           940          1018              78.0   \n",
       "3         1                 UA          1035          1134              99.0   \n",
       "4         1                 AA           790           877              87.0   \n",
       "\n",
       "   distance  arr_delay  month  weekday  avg_distance_per_month_by_carrier  \\\n",
       "0       153       -5.0      2        1                       1.014802e+08   \n",
       "1       308       53.0      5        5                       3.493391e+07   \n",
       "2       270      -13.0      1        1                       1.014802e+08   \n",
       "3       325      -33.0     11        6                       1.013686e+08   \n",
       "4       331      -12.0      7        1                       1.198062e+08   \n",
       "\n",
       "   ...  cancelled_flights_by_month_by_dest_ap  dep_delay  \\\n",
       "0  ...                               0.006185  11.312448   \n",
       "1  ...                               0.019439   8.986239   \n",
       "2  ...                               0.005505   9.814683   \n",
       "3  ...                               0.014629   9.555175   \n",
       "4  ...                               0.037967  14.977925   \n",
       "\n",
       "   avg_arr_delay_by_month_by_origin_ap  carrier_delay_y  nas_delay_y  \\\n",
       "0                             4.526793         3.995054     3.525556   \n",
       "1                             1.990982         3.388559     2.506986   \n",
       "2                             3.909325         3.649802     3.181944   \n",
       "3                             5.925672         4.845193     2.577689   \n",
       "4                            11.530916         4.291598     3.141092   \n",
       "\n",
       "   late_aircraft_delay_y  avg_weather_delay_by_month_by_origin_ap  \\\n",
       "0               6.062242                                 0.645507   \n",
       "1               4.166428                                 0.081394   \n",
       "2               5.326984                                 0.321429   \n",
       "3               5.778856                                 0.577055   \n",
       "4               7.255694                                 1.582681   \n",
       "\n",
       "   security_delay_by_month_by_origin_ap  \\\n",
       "0                              0.000000   \n",
       "1                              0.010356   \n",
       "2                              0.000000   \n",
       "3                              0.000000   \n",
       "4                              0.049149   \n",
       "\n",
       "   cancelled_flights_by_month_by_origin_ap  op_unique_carrier_check  \n",
       "0                                 0.028854                        0  \n",
       "1                                 0.010262                        0  \n",
       "2                                 0.012103                        0  \n",
       "3                                 0.007230                        1  \n",
       "4                                 0.021958                        0  \n",
       "\n",
       "[5 rows x 37 columns]"
      ]
     },
     "execution_count": 129,
     "metadata": {},
     "output_type": "execute_result"
    }
   ],
   "source": [
    "df.head()"
   ]
  },
  {
   "cell_type": "code",
   "execution_count": 130,
   "id": "bd8937c3-ace7-48ca-88b0-8d15f76b92f2",
   "metadata": {},
   "outputs": [],
   "source": [
    "dummy_df = pd.get_dummies(df,columns=['mkt_unique_carrier','month','weekday'])"
   ]
  },
  {
   "cell_type": "code",
   "execution_count": 131,
   "id": "26948974-dd61-4de1-8b6b-5ccaa085b219",
   "metadata": {},
   "outputs": [],
   "source": [
    "#drop final category of each dummy variable\n",
    "dummy_df = dummy_df.drop(columns=['month_12','weekday_6','mkt_unique_carrier_WN'])"
   ]
  },
  {
   "cell_type": "code",
   "execution_count": 132,
   "id": "88cbdd8c-8db5-4d56-956b-c5461fd36750",
   "metadata": {},
   "outputs": [],
   "source": [
    "X = dummy_df.drop('arr_delay',axis=1)\n",
    "y = dummy_df['arr_delay']"
   ]
  },
  {
   "cell_type": "code",
   "execution_count": 133,
   "id": "2f0ba08f-b203-49df-aab7-cae2acb521b7",
   "metadata": {},
   "outputs": [],
   "source": [
    "X_train, X_test, y_train, y_test = train_test_split(X,y,test_size = .2)"
   ]
  },
  {
   "cell_type": "code",
   "execution_count": 134,
   "id": "33ad9904-dcca-449d-8f4a-e81dc18bbbd9",
   "metadata": {},
   "outputs": [
    {
     "name": "stdout",
     "output_type": "stream",
     "text": [
      "(127035, 60) (31759, 60) (127035,) (31759,)\n"
     ]
    }
   ],
   "source": [
    "print(X_train.shape,X_test.shape,y_train.shape,y_test.shape)"
   ]
  },
  {
   "cell_type": "markdown",
   "id": "f2a35404-0cca-496e-a222-f4cae06af316",
   "metadata": {},
   "source": [
    "XGBoost Regression Model"
   ]
  },
  {
   "cell_type": "code",
   "execution_count": 135,
   "id": "b7be186b-d287-408c-ab5c-625ef9252a62",
   "metadata": {},
   "outputs": [],
   "source": [
    "import xgboost as xgb\n",
    "from sklearn.model_selection import GridSearchCV, cross_val_score\n",
    "from sklearn.metrics import mean_squared_error"
   ]
  },
  {
   "cell_type": "code",
   "execution_count": 136,
   "id": "5f9d2f62-0723-4eb9-8b72-6178a2650cb5",
   "metadata": {},
   "outputs": [],
   "source": [
    "model = xgb.XGBRegressor(random_state = 13)"
   ]
  },
  {
   "cell_type": "code",
   "execution_count": 137,
   "id": "6921fe81-7972-4dc3-bc87-c17240808a1a",
   "metadata": {},
   "outputs": [],
   "source": [
    "parameters = {'nthread':[4], \n",
    "              'objective':['reg:squarederror'],\n",
    "              'learning_rate': [.01, .03, 0.05, .07, .09], \n",
    "              'max_depth': [5, 6, 7],\n",
    "              'min_child_weight': [4],\n",
    "              'subsample': [0.7],\n",
    "              'colsample_bytree': [0.7],\n",
    "              'n_estimators': [500],\n",
    "              'alpha': [0,.1,.25,.5,1,2,5]}"
   ]
  },
  {
   "cell_type": "code",
   "execution_count": 138,
   "id": "77295b78-95dc-4f13-840a-e5486b52a8b6",
   "metadata": {},
   "outputs": [],
   "source": [
    "# xgb_grid = GridSearchCV(model, parameters, cv=3, n_jobs = 5, verbose = True)\n",
    "\n",
    "# xgb_grid.fit(X_train, y_train)\n",
    "\n",
    "# print(xgb_grid.best_score_)\n",
    "# print(xgb_grid.best_params_)"
   ]
  },
  {
   "cell_type": "code",
   "execution_count": 185,
   "id": "c4959dc7-ab4b-42ed-b37e-de0f2a8e192e",
   "metadata": {},
   "outputs": [],
   "source": [
    "model = xgb.XGBRegressor(colsample_bytree = .7, \n",
    "                         learning_rate = .01, \n",
    "                         max_depth = 5, \n",
    "                         min_child_weight = 4, \n",
    "                         n_estimators = 500, \n",
    "                         nthread=4, \n",
    "                         objective = 'reg:squarederror', \n",
    "                         subsample = .5, random_state=13, \n",
    "                         reg_lambda = 50, \n",
    "                         )"
   ]
  },
  {
   "cell_type": "code",
   "execution_count": 186,
   "id": "736de6af-6bf3-4b5c-aa2d-ff25be3660d4",
   "metadata": {},
   "outputs": [
    {
     "data": {
      "text/html": [
       "<style>#sk-container-id-15 {color: black;background-color: white;}#sk-container-id-15 pre{padding: 0;}#sk-container-id-15 div.sk-toggleable {background-color: white;}#sk-container-id-15 label.sk-toggleable__label {cursor: pointer;display: block;width: 100%;margin-bottom: 0;padding: 0.3em;box-sizing: border-box;text-align: center;}#sk-container-id-15 label.sk-toggleable__label-arrow:before {content: \"▸\";float: left;margin-right: 0.25em;color: #696969;}#sk-container-id-15 label.sk-toggleable__label-arrow:hover:before {color: black;}#sk-container-id-15 div.sk-estimator:hover label.sk-toggleable__label-arrow:before {color: black;}#sk-container-id-15 div.sk-toggleable__content {max-height: 0;max-width: 0;overflow: hidden;text-align: left;background-color: #f0f8ff;}#sk-container-id-15 div.sk-toggleable__content pre {margin: 0.2em;color: black;border-radius: 0.25em;background-color: #f0f8ff;}#sk-container-id-15 input.sk-toggleable__control:checked~div.sk-toggleable__content {max-height: 200px;max-width: 100%;overflow: auto;}#sk-container-id-15 input.sk-toggleable__control:checked~label.sk-toggleable__label-arrow:before {content: \"▾\";}#sk-container-id-15 div.sk-estimator input.sk-toggleable__control:checked~label.sk-toggleable__label {background-color: #d4ebff;}#sk-container-id-15 div.sk-label input.sk-toggleable__control:checked~label.sk-toggleable__label {background-color: #d4ebff;}#sk-container-id-15 input.sk-hidden--visually {border: 0;clip: rect(1px 1px 1px 1px);clip: rect(1px, 1px, 1px, 1px);height: 1px;margin: -1px;overflow: hidden;padding: 0;position: absolute;width: 1px;}#sk-container-id-15 div.sk-estimator {font-family: monospace;background-color: #f0f8ff;border: 1px dotted black;border-radius: 0.25em;box-sizing: border-box;margin-bottom: 0.5em;}#sk-container-id-15 div.sk-estimator:hover {background-color: #d4ebff;}#sk-container-id-15 div.sk-parallel-item::after {content: \"\";width: 100%;border-bottom: 1px solid gray;flex-grow: 1;}#sk-container-id-15 div.sk-label:hover label.sk-toggleable__label {background-color: #d4ebff;}#sk-container-id-15 div.sk-serial::before {content: \"\";position: absolute;border-left: 1px solid gray;box-sizing: border-box;top: 0;bottom: 0;left: 50%;z-index: 0;}#sk-container-id-15 div.sk-serial {display: flex;flex-direction: column;align-items: center;background-color: white;padding-right: 0.2em;padding-left: 0.2em;position: relative;}#sk-container-id-15 div.sk-item {position: relative;z-index: 1;}#sk-container-id-15 div.sk-parallel {display: flex;align-items: stretch;justify-content: center;background-color: white;position: relative;}#sk-container-id-15 div.sk-item::before, #sk-container-id-15 div.sk-parallel-item::before {content: \"\";position: absolute;border-left: 1px solid gray;box-sizing: border-box;top: 0;bottom: 0;left: 50%;z-index: -1;}#sk-container-id-15 div.sk-parallel-item {display: flex;flex-direction: column;z-index: 1;position: relative;background-color: white;}#sk-container-id-15 div.sk-parallel-item:first-child::after {align-self: flex-end;width: 50%;}#sk-container-id-15 div.sk-parallel-item:last-child::after {align-self: flex-start;width: 50%;}#sk-container-id-15 div.sk-parallel-item:only-child::after {width: 0;}#sk-container-id-15 div.sk-dashed-wrapped {border: 1px dashed gray;margin: 0 0.4em 0.5em 0.4em;box-sizing: border-box;padding-bottom: 0.4em;background-color: white;}#sk-container-id-15 div.sk-label label {font-family: monospace;font-weight: bold;display: inline-block;line-height: 1.2em;}#sk-container-id-15 div.sk-label-container {text-align: center;}#sk-container-id-15 div.sk-container {/* jupyter's `normalize.less` sets `[hidden] { display: none; }` but bootstrap.min.css set `[hidden] { display: none !important; }` so we also need the `!important` here to be able to override the default hidden behavior on the sphinx rendered scikit-learn.org. See: https://github.com/scikit-learn/scikit-learn/issues/21755 */display: inline-block !important;position: relative;}#sk-container-id-15 div.sk-text-repr-fallback {display: none;}</style><div id=\"sk-container-id-15\" class=\"sk-top-container\"><div class=\"sk-text-repr-fallback\"><pre>XGBRegressor(base_score=None, booster=None, callbacks=None,\n",
       "             colsample_bylevel=None, colsample_bynode=None,\n",
       "             colsample_bytree=0.7, early_stopping_rounds=None,\n",
       "             enable_categorical=False, eval_metric=None, feature_types=None,\n",
       "             gamma=None, gpu_id=None, grow_policy=None, importance_type=None,\n",
       "             interaction_constraints=None, learning_rate=0.01, max_bin=None,\n",
       "             max_cat_threshold=None, max_cat_to_onehot=None,\n",
       "             max_delta_step=None, max_depth=5, max_leaves=None,\n",
       "             min_child_weight=4, missing=nan, monotone_constraints=None,\n",
       "             n_estimators=500, n_jobs=None, nthread=4, num_parallel_tree=None,\n",
       "             predictor=None, ...)</pre><b>In a Jupyter environment, please rerun this cell to show the HTML representation or trust the notebook. <br />On GitHub, the HTML representation is unable to render, please try loading this page with nbviewer.org.</b></div><div class=\"sk-container\" hidden><div class=\"sk-item\"><div class=\"sk-estimator sk-toggleable\"><input class=\"sk-toggleable__control sk-hidden--visually\" id=\"sk-estimator-id-15\" type=\"checkbox\" checked><label for=\"sk-estimator-id-15\" class=\"sk-toggleable__label sk-toggleable__label-arrow\">XGBRegressor</label><div class=\"sk-toggleable__content\"><pre>XGBRegressor(base_score=None, booster=None, callbacks=None,\n",
       "             colsample_bylevel=None, colsample_bynode=None,\n",
       "             colsample_bytree=0.7, early_stopping_rounds=None,\n",
       "             enable_categorical=False, eval_metric=None, feature_types=None,\n",
       "             gamma=None, gpu_id=None, grow_policy=None, importance_type=None,\n",
       "             interaction_constraints=None, learning_rate=0.01, max_bin=None,\n",
       "             max_cat_threshold=None, max_cat_to_onehot=None,\n",
       "             max_delta_step=None, max_depth=5, max_leaves=None,\n",
       "             min_child_weight=4, missing=nan, monotone_constraints=None,\n",
       "             n_estimators=500, n_jobs=None, nthread=4, num_parallel_tree=None,\n",
       "             predictor=None, ...)</pre></div></div></div></div></div>"
      ],
      "text/plain": [
       "XGBRegressor(base_score=None, booster=None, callbacks=None,\n",
       "             colsample_bylevel=None, colsample_bynode=None,\n",
       "             colsample_bytree=0.7, early_stopping_rounds=None,\n",
       "             enable_categorical=False, eval_metric=None, feature_types=None,\n",
       "             gamma=None, gpu_id=None, grow_policy=None, importance_type=None,\n",
       "             interaction_constraints=None, learning_rate=0.01, max_bin=None,\n",
       "             max_cat_threshold=None, max_cat_to_onehot=None,\n",
       "             max_delta_step=None, max_depth=5, max_leaves=None,\n",
       "             min_child_weight=4, missing=nan, monotone_constraints=None,\n",
       "             n_estimators=500, n_jobs=None, nthread=4, num_parallel_tree=None,\n",
       "             predictor=None, ...)"
      ]
     },
     "execution_count": 186,
     "metadata": {},
     "output_type": "execute_result"
    }
   ],
   "source": [
    "model.fit(X_train,y_train)"
   ]
  },
  {
   "cell_type": "code",
   "execution_count": 187,
   "id": "a5addf91-8fb0-4dd4-bb52-a2eead96c7ee",
   "metadata": {},
   "outputs": [
    {
     "name": "stdout",
     "output_type": "stream",
     "text": [
      "Training Scores:  0.05010389022846751\n"
     ]
    }
   ],
   "source": [
    "score = model.score(X_train,y_train)\n",
    "print(\"Training Scores: \", score)"
   ]
  },
  {
   "cell_type": "code",
   "execution_count": 188,
   "id": "c2c8aa4b-9d46-4870-8cf7-07408d5be47c",
   "metadata": {},
   "outputs": [
    {
     "name": "stdout",
     "output_type": "stream",
     "text": [
      "Testing Scores:  0.02803082909344634\n"
     ]
    }
   ],
   "source": [
    "test_score = model.score(X_test,y_test)\n",
    "print(\"Testing Scores: \", test_score)"
   ]
  },
  {
   "cell_type": "code",
   "execution_count": 189,
   "id": "83583e6f-a922-4ba3-a929-376343475161",
   "metadata": {},
   "outputs": [
    {
     "name": "stdout",
     "output_type": "stream",
     "text": [
      "MSE: 2410.18\n",
      "RMSE: 49.09\n"
     ]
    }
   ],
   "source": [
    "#so far slight improvement over linear model\n",
    "ypred = model.predict(X_test)\n",
    "mse = mean_squared_error(y_test, ypred)\n",
    "print(\"MSE: %.2f\" % mse)\n",
    "print(\"RMSE: %.2f\" % (mse**(1/2.0)))"
   ]
  },
  {
   "cell_type": "code",
   "execution_count": 190,
   "id": "b5fd8416-ff09-4848-a3b6-6fadf41e71c0",
   "metadata": {},
   "outputs": [
    {
     "name": "stdout",
     "output_type": "stream",
     "text": [
      "Total Scores:  0.04571008677214217\n"
     ]
    }
   ],
   "source": [
    "score = model.score(X,y)\n",
    "print(\"Total Scores: \", score)"
   ]
  },
  {
   "cell_type": "code",
   "execution_count": 191,
   "id": "d95b2b87-e085-46ff-8cca-eba1d2c53d7d",
   "metadata": {},
   "outputs": [
    {
     "name": "stdout",
     "output_type": "stream",
     "text": [
      "MSE: 2376.74\n",
      "RMSE: 48.75\n"
     ]
    }
   ],
   "source": [
    "ypred = model.predict(X)\n",
    "mse = mean_squared_error(y, ypred)\n",
    "print(\"MSE: %.2f\" % mse)\n",
    "print(\"RMSE: %.2f\" % (mse**(1/2.0)))"
   ]
  },
  {
   "cell_type": "code",
   "execution_count": null,
   "id": "f5b9f72c-cf43-4f04-bfc9-65184979a6c8",
   "metadata": {},
   "outputs": [],
   "source": []
  }
 ],
 "metadata": {
  "kernelspec": {
   "display_name": "LHL_env",
   "language": "python",
   "name": "lhl_env"
  },
  "language_info": {
   "codemirror_mode": {
    "name": "ipython",
    "version": 3
   },
   "file_extension": ".py",
   "mimetype": "text/x-python",
   "name": "python",
   "nbconvert_exporter": "python",
   "pygments_lexer": "ipython3",
   "version": "3.10.9"
  }
 },
 "nbformat": 4,
 "nbformat_minor": 5
}
