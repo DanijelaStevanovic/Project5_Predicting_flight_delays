{
 "cells": [
  {
   "cell_type": "markdown",
   "id": "58ade702",
   "metadata": {},
   "source": [
    "## Multi Class Classifier\n",
    "**Task**: Create a multi-classifier that if a delay has occured, it will predict what is the cause of the delay based off the duration of the delay. \n",
    "\n",
    "Steps:\n",
    "- Generating training set from features developed in previous Features Engineering notebook. **Note**: This notebook discusses the features engineering process. Find details about feature enginering in [Features_Engineering](Features_Engineering.ipynb)\n",
    "\n",
    "- Train and fit models.\n",
    "\n",
    "Models tested:\n",
    "\n",
    "1. Logistic Regression.\n",
    "2. Random Forest Classifier\n",
    "3. Naive Bayes Gaussian NB"
   ]
  },
  {
   "cell_type": "code",
   "execution_count": 1,
   "id": "ed89ae5a",
   "metadata": {},
   "outputs": [],
   "source": [
    "import numpy as np\n",
    "import pandas as pd\n",
    "import matplotlib.pyplot as plt\n",
    "import seaborn as sns\n",
    "import warnings\n",
    "warnings.filterwarnings('ignore')\n",
    "pd.set_option('display.max_columns', None)"
   ]
  },
  {
   "cell_type": "code",
   "execution_count": 4,
   "id": "b1839bd0",
   "metadata": {},
   "outputs": [],
   "source": [
    "# importing the full dataset\n",
    "# (note that flights_train is not available in github due to size. only in local repository)\n",
    "chunk = pd.read_csv('../datasets/flights_train_set.csv', \n",
    "#                     usecols = usecols, \n",
    "                    chunksize=1000000, \n",
    "                    low_memory=False)\n",
    "df_full = pd.concat(chunk)"
   ]
  },
  {
   "cell_type": "code",
   "execution_count": null,
   "id": "7b485955",
   "metadata": {},
   "outputs": [],
   "source": [
    "# importing processing files \n",
    "import sys\n",
    "sys.path.insert(0, '../py_scripts/')\n",
    "from dataset_processing import *\n",
    "from feature_generation_for_multiclass import *\n",
    "from training_and_testing_prep import *"
   ]
  },
  {
   "cell_type": "markdown",
   "id": "cf1182b6",
   "metadata": {},
   "source": [
    "# Model Building"
   ]
  },
  {
   "cell_type": "code",
   "execution_count": 7,
   "id": "6259a36f",
   "metadata": {},
   "outputs": [],
   "source": [
    "# df_full.head(2)\n",
    "df_full.drop(columns = 'Unnamed: 0', inplace=True)\n",
    "df_full.head(2)\n",
    "df_full_ = df_full.copy() # saving a copy to use for training later "
   ]
  },
  {
   "cell_type": "code",
   "execution_count": 8,
   "id": "07010172",
   "metadata": {},
   "outputs": [
    {
     "data": {
      "text/plain": [
       "(            fl_date mkt_unique_carrier branded_code_share mkt_carrier  \\\n",
       " 0        2018-07-14                 NK                 NK          NK   \n",
       " 9        2018-07-14                 NK                 NK          NK   \n",
       " 10       2018-07-14                 NK                 NK          NK   \n",
       " 15       2018-07-14                 NK                 NK          NK   \n",
       " 16       2018-07-14                 NK                 NK          NK   \n",
       " ...             ...                ...                ...         ...   \n",
       " 12015537 2018-07-14                 AA       AA_CODESHARE          AA   \n",
       " 12015544 2018-07-14                 NK                 NK          NK   \n",
       " 12015547 2018-07-14                 NK                 NK          NK   \n",
       " 12015548 2018-07-14                 NK                 NK          NK   \n",
       " 12015553 2018-07-14                 NK                 NK          NK   \n",
       " \n",
       "           mkt_carrier_fl_num op_unique_carrier tail_num  op_carrier_fl_num  \\\n",
       " 0                        424                NK   N684NK                424   \n",
       " 9                        441                NK   N673NK                441   \n",
       " 10                       442                NK   N673NK                442   \n",
       " 15                       452                NK   N506NK                452   \n",
       " 16                       456                NK   N659NK                456   \n",
       " ...                      ...               ...      ...                ...   \n",
       " 12015537                3654                MQ   N644AE               3654   \n",
       " 12015544                 388                NK   N668NK                388   \n",
       " 12015547                 403                NK   N621NK                403   \n",
       " 12015548                 403                NK   N621NK                403   \n",
       " 12015553                 409                NK   N649NK                409   \n",
       " \n",
       "           origin_airport_id origin origin_city_name  dest_airport_id dest  \\\n",
       " 0                     12892    LAX  Los Angeles, CA            13487  MSP   \n",
       " 9                     13930    ORD      Chicago, IL            14747  SEA   \n",
       " 10                    14747    SEA      Seattle, WA            13930  ORD   \n",
       " 15                    13495    MSY  New Orleans, LA            10397  ATL   \n",
       " 16                    12889    LAS    Las Vegas, NV            13930  ORD   \n",
       " ...                     ...    ...              ...              ...  ...   \n",
       " 12015537              11637    FAR        Fargo, ND            13930  ORD   \n",
       " 12015544              11433    DTW      Detroit, MI            11697  FLL   \n",
       " 12015547              10397    ATL      Atlanta, GA            11697  FLL   \n",
       " 12015548              12892    LAX  Los Angeles, CA            10397  ATL   \n",
       " 12015553              13930    ORD      Chicago, IL            11697  FLL   \n",
       " \n",
       "                dest_city_name  crs_dep_time  dep_time  dep_delay  taxi_out  \\\n",
       " 0             Minneapolis, MN          1828    1834.0        6.0      17.0   \n",
       " 9                 Seattle, WA          2034    2203.0       89.0      15.0   \n",
       " 10                Chicago, IL          2354     120.0       86.0       9.0   \n",
       " 15                Atlanta, GA           640     634.0       -6.0      26.0   \n",
       " 16                Chicago, IL            50     106.0       16.0      23.0   \n",
       " ...                       ...           ...       ...        ...       ...   \n",
       " 12015537          Chicago, IL           554     619.0       25.0      11.0   \n",
       " 12015544  Fort Lauderdale, FL          1907    1912.0        5.0      12.0   \n",
       " 12015547  Fort Lauderdale, FL          1915    2031.0       76.0      12.0   \n",
       " 12015548          Atlanta, GA          1049    1042.0       -7.0      34.0   \n",
       " 12015553  Fort Lauderdale, FL           515     653.0       98.0      13.0   \n",
       " \n",
       "           taxi_in  crs_arr_time  arr_time  arr_delay  cancelled  \\\n",
       " 0             5.0          2359    2358.0       -1.0          0   \n",
       " 9            12.0          2254      23.0       89.0          0   \n",
       " 10           18.0           549     707.0       78.0          0   \n",
       " 15           13.0           912     919.0        7.0          0   \n",
       " 16           20.0           624     705.0       41.0          0   \n",
       " ...           ...           ...       ...        ...        ...   \n",
       " 12015537     25.0           750     828.0       38.0          0   \n",
       " 12015544      7.0          2203    2158.0       -5.0          0   \n",
       " 12015547      6.0          2111    2213.0       62.0          0   \n",
       " 12015548     13.0          1825    1912.0       47.0          0   \n",
       " 12015553     16.0           916    1054.0       98.0          0   \n",
       " \n",
       "           crs_elapsed_time  actual_elapsed_time  air_time  flights  distance  \\\n",
       " 0                    211.0                204.0     182.0        1      1535   \n",
       " 9                    260.0                260.0     233.0        1      1721   \n",
       " 10                   235.0                227.0     200.0        1      1721   \n",
       " 15                    92.0                105.0      66.0        1       425   \n",
       " 16                   214.0                239.0     196.0        1      1514   \n",
       " ...                    ...                  ...       ...      ...       ...   \n",
       " 12015537             116.0                129.0      93.0        1       557   \n",
       " 12015544             176.0                166.0     147.0        1      1127   \n",
       " 12015547             116.0                102.0      84.0        1       581   \n",
       " 12015548             276.0                330.0     283.0        1      1947   \n",
       " 12015553             181.0                181.0     152.0        1      1182   \n",
       " \n",
       "           carrier_delay  weather_delay  nas_delay  security_delay  \\\n",
       " 0                   0.0            0.0        0.0             0.0   \n",
       " 9                   0.0            0.0       89.0             0.0   \n",
       " 10                  0.0            0.0       78.0             0.0   \n",
       " 15                  0.0            0.0        0.0             0.0   \n",
       " 16                  0.0            0.0       25.0             0.0   \n",
       " ...                 ...            ...        ...             ...   \n",
       " 12015537           25.0            0.0       13.0             0.0   \n",
       " 12015544            0.0            0.0        0.0             0.0   \n",
       " 12015547            0.0            0.0       62.0             0.0   \n",
       " 12015548            0.0            0.0       47.0             0.0   \n",
       " 12015553           98.0            0.0        0.0             0.0   \n",
       " \n",
       "           late_aircraft_delay  isDelay   target_delay  isCraft  isCarrier  \\\n",
       " 0                         0.0      1.0  carrier_delay        0          1   \n",
       " 9                         0.0      1.0      nas_delay        0          0   \n",
       " 10                        0.0      1.0      nas_delay        0          0   \n",
       " 15                        0.0      1.0  carrier_delay        0          1   \n",
       " 16                       16.0      1.0      nas_delay        0          0   \n",
       " ...                       ...      ...            ...      ...        ...   \n",
       " 12015537                  0.0      1.0  carrier_delay        0          1   \n",
       " 12015544                  0.0      1.0  carrier_delay        0          1   \n",
       " 12015547                  0.0      1.0      nas_delay        0          0   \n",
       " 12015548                  0.0      1.0      nas_delay        0          0   \n",
       " 12015553                  0.0      1.0  carrier_delay        0          1   \n",
       " \n",
       "           dep_hour  arr_hour  branded_share  fl_month  isWeather  isSecurity  \\\n",
       " 0               18        24              0         7          0           0   \n",
       " 9               20        23              0         7          0           0   \n",
       " 10              24         5              0         7          0           0   \n",
       " 15               6         9              0         7          0           0   \n",
       " 16               0         6              0         7          0           0   \n",
       " ...            ...       ...            ...       ...        ...         ...   \n",
       " 12015537         6         8              1         7          0           0   \n",
       " 12015544        19        22              0         7          0           0   \n",
       " 12015547        19        21              0         7          0           0   \n",
       " 12015548        10        18              0         7          0           0   \n",
       " 12015553         5         9              0         7          0           0   \n",
       " \n",
       "           holidate  fl_dayofweek  \n",
       " 0                0             5  \n",
       " 9                0             5  \n",
       " 10               0             5  \n",
       " 15               0             5  \n",
       " 16               0             5  \n",
       " ...            ...           ...  \n",
       " 12015537         0             5  \n",
       " 12015544         0             5  \n",
       " 12015547         0             5  \n",
       " 12015548         0             5  \n",
       " 12015553         0             5  \n",
       " \n",
       " [5299551 rows x 45 columns],\n",
       "           dep_delay  arr_delay   isCraft  isCarrier\n",
       " tail_num                                           \n",
       " 215NV          13.0       14.0  0.217772   0.655820\n",
       " 216NV          13.0       15.0  0.218301   0.626144\n",
       " 217NV          12.0       14.0  0.230488   0.654878\n",
       " 218NV          13.0       15.0  0.231707   0.641463\n",
       " 219NV          14.0       15.0  0.217274   0.642375\n",
       " ...             ...        ...       ...        ...\n",
       " N999DN          8.0        6.0  0.113424   0.764828\n",
       " N999FR         15.0       26.0  0.285714   0.428571\n",
       " N999JB         12.5       14.0  0.209677   0.677419\n",
       " N999JQ         17.0       14.0  0.208469   0.638436\n",
       " SS25           23.0       29.0  0.000000   1.000000\n",
       " \n",
       " [6478 rows x 4 columns],\n",
       "                    dep_delay  carrier_delay  late_aircraft_delay   isCraft  \\\n",
       " tail_num dep_hour                                                            \n",
       " 215NV    6               5.0            0.0                  0.0  0.000000   \n",
       "          7               5.0            0.0                  0.0  0.000000   \n",
       "          8               1.5            0.0                  0.0  0.000000   \n",
       "          9              11.0            0.0                  0.0  0.138889   \n",
       "          10             15.0            0.0                  0.0  0.127273   \n",
       " ...                      ...            ...                  ...       ...   \n",
       " N999JQ   22             30.0            1.0                 12.0  0.416667   \n",
       "          23             32.0            0.0                  0.0  0.357143   \n",
       "          24             27.0            0.0                  0.0  0.333333   \n",
       " SS25     9              23.0           21.0                  0.0  0.000000   \n",
       "          17             23.0           23.0                  0.0  0.000000   \n",
       " \n",
       "                    isCarrier  \n",
       " tail_num dep_hour             \n",
       " 215NV    6          0.868852  \n",
       "          7          0.727273  \n",
       "          8          0.722222  \n",
       "          9          0.722222  \n",
       "          10         0.709091  \n",
       " ...                      ...  \n",
       " N999JQ   22         0.375000  \n",
       "          23         0.500000  \n",
       "          24         0.666667  \n",
       " SS25     9          1.000000  \n",
       "          17         1.000000  \n",
       " \n",
       " [123804 rows x 5 columns],\n",
       "                    arr_delay  carrier_delay  late_aircraft_delay   isCraft  \\\n",
       " tail_num arr_hour                                                            \n",
       " 215NV    0              -2.0            0.0                  0.0  0.000000   \n",
       "          7               7.0            3.5                  0.0  0.000000   \n",
       "          8               8.0            0.0                  0.0  0.000000   \n",
       "          9              10.0            0.0                  0.0  0.027778   \n",
       "          10              9.0            0.0                  0.0  0.000000   \n",
       " ...                      ...            ...                  ...       ...   \n",
       " N999JQ   22             20.5            0.0                  0.0  0.147059   \n",
       "          23             47.5            0.0                  0.0  0.300000   \n",
       "          24            161.0            2.0                159.0  1.000000   \n",
       " SS25     13             21.0           21.0                  0.0  0.000000   \n",
       "          21             37.0           23.0                  0.0  0.000000   \n",
       " \n",
       "                    isCarrier  \n",
       " tail_num arr_hour             \n",
       " 215NV    0          1.000000  \n",
       "          7          0.500000  \n",
       "          8          0.821429  \n",
       "          9          0.777778  \n",
       "          10         0.769231  \n",
       " ...                      ...  \n",
       " N999JQ   22         0.588235  \n",
       "          23         0.400000  \n",
       "          24         0.000000  \n",
       " SS25     13         1.000000  \n",
       "          21         1.000000  \n",
       " \n",
       " [133250 rows x 5 columns],\n",
       "                                               dep_delay  arr_delay  \\\n",
       " op_unique_carrier branded_share fl_dayofweek                         \n",
       " 9E                1             0                  16.0       17.0   \n",
       "                                 1                  14.0       17.0   \n",
       "                                 2                  13.0       15.0   \n",
       "                                 3                  14.0       16.0   \n",
       "                                 4                  15.0       17.0   \n",
       " ...                                                 ...        ...   \n",
       " ZW                1             2                  11.0       17.0   \n",
       "                                 3                  13.0       18.0   \n",
       "                                 4                  11.0       17.0   \n",
       "                                 5                  13.0       17.0   \n",
       "                                 6                  13.0       19.0   \n",
       " \n",
       "                                               carrier_delay  \\\n",
       " op_unique_carrier branded_share fl_dayofweek                  \n",
       " 9E                1             0                       0.0   \n",
       "                                 1                       0.0   \n",
       "                                 2                       0.0   \n",
       "                                 3                       0.0   \n",
       "                                 4                       0.0   \n",
       " ...                                                     ...   \n",
       " ZW                1             2                       0.0   \n",
       "                                 3                       0.0   \n",
       "                                 4                       0.0   \n",
       "                                 5                       0.0   \n",
       "                                 6                       0.0   \n",
       " \n",
       "                                               late_aircraft_delay  isCarrier  \n",
       " op_unique_carrier branded_share fl_dayofweek                                  \n",
       " 9E                1             0                             0.0   0.590727  \n",
       "                                 1                             0.0   0.587495  \n",
       "                                 2                             0.0   0.602048  \n",
       "                                 3                             0.0   0.590678  \n",
       "                                 4                             0.0   0.578915  \n",
       " ...                                                           ...        ...  \n",
       " ZW                1             2                             0.0   0.598306  \n",
       "                                 3                             0.0   0.584496  \n",
       "                                 4                             0.0   0.607812  \n",
       "                                 5                             0.0   0.614631  \n",
       "                                 6                             0.0   0.588265  \n",
       " \n",
       " [196 rows x 5 columns],\n",
       "                           arr_delay  carrier_delay  nas_delay  \\\n",
       " dest_airport_id fl_month                                        \n",
       " 10135           1              15.0            0.0        0.0   \n",
       "                 2              14.0            0.0        0.0   \n",
       "                 3              11.0            0.0        0.0   \n",
       "                 4              13.0            0.0        0.0   \n",
       "                 5              13.0            0.0        0.0   \n",
       " ...                             ...            ...        ...   \n",
       " 16218           11              7.5            0.0        0.0   \n",
       "                 12             11.5            0.0        0.0   \n",
       " 16869           10             14.0            0.0        0.0   \n",
       "                 11             11.0            0.0        0.0   \n",
       "                 12             22.0            0.0        0.0   \n",
       " \n",
       "                           late_aircraft_delay  weather_delay  security_delay  \\\n",
       " dest_airport_id fl_month                                                       \n",
       " 10135           1                         0.0            0.0             0.0   \n",
       "                 2                         0.0            0.0             0.0   \n",
       "                 3                         0.0            0.0             0.0   \n",
       "                 4                         0.0            0.0             0.0   \n",
       "                 5                         0.0            0.0             0.0   \n",
       " ...                                       ...            ...             ...   \n",
       " 16218           11                        0.0            0.0             0.0   \n",
       "                 12                        0.0            0.0             0.0   \n",
       " 16869           10                        0.0            0.0             0.0   \n",
       "                 11                        0.0            0.0             0.0   \n",
       "                 12                        0.0            0.0             0.0   \n",
       " \n",
       "                           isWeather  isSecurity  \n",
       " dest_airport_id fl_month                         \n",
       " 10135           1          0.025926    0.000000  \n",
       "                 2          0.022026    0.000000  \n",
       "                 3          0.012097    0.000000  \n",
       "                 4          0.019544    0.000000  \n",
       "                 5          0.035971    0.000000  \n",
       " ...                             ...         ...  \n",
       " 16218           11         0.000000    0.000000  \n",
       "                 12         0.000000    0.000000  \n",
       " 16869           10         0.051282    0.000000  \n",
       "                 11         0.045455    0.000000  \n",
       "                 12         0.000000    0.021739  \n",
       " \n",
       " [4403 rows x 8 columns],\n",
       "                             dep_delay  arr_delay  carrier_delay  nas_delay  \\\n",
       " origin_airport_id fl_month                                                   \n",
       " 10135             1              10.0       14.0            0.0        0.0   \n",
       "                   2               9.0       15.0            0.0        0.0   \n",
       "                   3               6.0       15.0            0.0        0.0   \n",
       "                   4               8.0       13.0            0.0        0.0   \n",
       "                   5              12.0       12.0            0.0        0.0   \n",
       " ...                               ...        ...            ...        ...   \n",
       " 16218             11              0.0        6.0            0.0        0.0   \n",
       "                   12              9.0       10.5            0.0        0.0   \n",
       " 16869             10              6.5       10.0            0.0        0.0   \n",
       "                   11             16.5       21.5            0.0        0.0   \n",
       "                   12             19.0       14.0            0.0        0.0   \n",
       " \n",
       "                             late_aircraft_delay  weather_delay  \\\n",
       " origin_airport_id fl_month                                       \n",
       " 10135             1                         0.0            0.0   \n",
       "                   2                         0.0            0.0   \n",
       "                   3                         0.0            0.0   \n",
       "                   4                         0.0            0.0   \n",
       "                   5                         0.0            0.0   \n",
       " ...                                         ...            ...   \n",
       " 16218             11                        0.0            0.0   \n",
       "                   12                        0.0            0.0   \n",
       " 16869             10                        0.0            0.0   \n",
       "                   11                        0.0            0.0   \n",
       "                   12                        0.0            0.0   \n",
       " \n",
       "                             security_delay  isWeather  isSecurity  \n",
       " origin_airport_id fl_month                                         \n",
       " 10135             1                    0.0   0.007634    0.000000  \n",
       "                   2                    0.0   0.018182    0.000000  \n",
       "                   3                    0.0   0.016447    0.000000  \n",
       "                   4                    0.0   0.005970    0.000000  \n",
       "                   5                    0.0   0.022814    0.000000  \n",
       " ...                                    ...        ...         ...  \n",
       " 16218             11                   0.0   0.000000    0.000000  \n",
       "                   12                   0.0   0.000000    0.000000  \n",
       " 16869             10                   0.0   0.000000    0.026316  \n",
       "                   11                   0.0   0.083333    0.033333  \n",
       "                   12                   0.0   0.081967    0.016393  \n",
       " \n",
       " [4407 rows x 9 columns],\n",
       "                                             dep_delay  arr_delay  \\\n",
       " holidate origin_airport_id dest_airport_id                         \n",
       " 0        10135             10397                  5.0       12.0   \n",
       "                            10693                 57.0       63.0   \n",
       "                            11057                  6.0        9.0   \n",
       "                            11433                 11.0       11.0   \n",
       "                            11697                 18.0       22.0   \n",
       " ...                                               ...        ...   \n",
       " 1        16133             14112                111.0      141.0   \n",
       "          16218             11298                 29.0       27.0   \n",
       "                            14107                  4.0       10.0   \n",
       "          16869             11292                 20.0       29.0   \n",
       "                            13487                 21.5       19.5   \n",
       " \n",
       "                                             carrier_delay  nas_delay  \\\n",
       " holidate origin_airport_id dest_airport_id                             \n",
       " 0        10135             10397                      0.0        0.0   \n",
       "                            10693                      0.0        6.0   \n",
       "                            11057                      0.0        0.0   \n",
       "                            11433                      0.0        0.0   \n",
       "                            11697                      0.0        0.0   \n",
       " ...                                                   ...        ...   \n",
       " 1        16133             14112                      0.0       37.0   \n",
       "          16218             11298                      0.0        0.0   \n",
       "                            14107                      0.0        0.0   \n",
       "          16869             11292                      0.0        0.0   \n",
       "                            13487                      0.0        0.0   \n",
       " \n",
       "                                             late_aircraft_delay  \\\n",
       " holidate origin_airport_id dest_airport_id                        \n",
       " 0        10135             10397                            0.0   \n",
       "                            10693                           42.0   \n",
       "                            11057                            0.0   \n",
       "                            11433                            0.0   \n",
       "                            11697                            0.0   \n",
       " ...                                                         ...   \n",
       " 1        16133             14112                          104.0   \n",
       "          16218             11298                            0.0   \n",
       "                            14107                            0.0   \n",
       "          16869             11292                            0.0   \n",
       "                            13487                            0.0   \n",
       " \n",
       "                                             weather_delay  security_delay  \\\n",
       " holidate origin_airport_id dest_airport_id                                  \n",
       " 0        10135             10397                      0.0             0.0   \n",
       "                            10693                      0.0             0.0   \n",
       "                            11057                      0.0             0.0   \n",
       "                            11433                      0.0             0.0   \n",
       "                            11697                      0.0             0.0   \n",
       " ...                                                   ...             ...   \n",
       " 1        16133             14112                      0.0             0.0   \n",
       "          16218             11298                      0.0             0.0   \n",
       "                            14107                      0.0             0.0   \n",
       "          16869             11292                      0.0             0.0   \n",
       "                            13487                      0.0             0.0   \n",
       " \n",
       "                                             isWeather  isSecurity  \n",
       " holidate origin_airport_id dest_airport_id                         \n",
       " 0        10135             10397             0.013011    0.000000  \n",
       "                            10693             0.090909    0.000000  \n",
       "                            11057             0.011257    0.000000  \n",
       "                            11433             0.021739    0.001812  \n",
       "                            11697             0.052632    0.000000  \n",
       " ...                                               ...         ...  \n",
       " 1        16133             14112             0.000000    0.000000  \n",
       "          16218             11298             0.000000    0.000000  \n",
       "                            14107             0.000000    0.000000  \n",
       "          16869             11292             0.047619    0.000000  \n",
       "                            13487             0.250000    0.000000  \n",
       " \n",
       " [13521 rows x 9 columns],\n",
       "                                                 dep_delay  arr_delay  \\\n",
       " origin_airport_id dest_airport_id fl_dayofweek                         \n",
       " 10135             10397           0                   7.0       13.0   \n",
       "                                   1                   4.0       12.0   \n",
       "                                   2                   2.5       15.0   \n",
       "                                   3                   3.0        8.0   \n",
       "                                   4                   6.0        8.0   \n",
       " ...                                                   ...        ...   \n",
       " 16869             13487           2                  24.0       21.0   \n",
       "                                   3                   6.0      -11.0   \n",
       "                                   4                   5.0        0.0   \n",
       "                                   5                  16.0       18.0   \n",
       "                                   6                  11.0       17.5   \n",
       " \n",
       "                                                 carrier_delay  nas_delay  \\\n",
       " origin_airport_id dest_airport_id fl_dayofweek                             \n",
       " 10135             10397           0                       0.0        0.0   \n",
       "                                   1                       0.0        0.0   \n",
       "                                   2                       0.0        0.0   \n",
       "                                   3                       0.0        0.0   \n",
       "                                   4                       0.0        0.0   \n",
       " ...                                                       ...        ...   \n",
       " 16869             13487           2                       0.0        0.0   \n",
       "                                   3                       0.0        0.0   \n",
       "                                   4                       0.0        0.0   \n",
       "                                   5                       0.0        0.0   \n",
       "                                   6                       0.0        0.0   \n",
       " \n",
       "                                                 late_aircraft_delay  \\\n",
       " origin_airport_id dest_airport_id fl_dayofweek                        \n",
       " 10135             10397           0                             0.0   \n",
       "                                   1                             0.0   \n",
       "                                   2                             0.0   \n",
       "                                   3                             0.0   \n",
       "                                   4                             0.0   \n",
       " ...                                                             ...   \n",
       " 16869             13487           2                             0.0   \n",
       "                                   3                             0.0   \n",
       "                                   4                             0.0   \n",
       "                                   5                             0.0   \n",
       "                                   6                             0.0   \n",
       " \n",
       "                                                 weather_delay  security_delay  \\\n",
       " origin_airport_id dest_airport_id fl_dayofweek                                  \n",
       " 10135             10397           0                       0.0             0.0   \n",
       "                                   1                       0.0             0.0   \n",
       "                                   2                       0.0             0.0   \n",
       "                                   3                       0.0             0.0   \n",
       "                                   4                       0.0             0.0   \n",
       " ...                                                       ...             ...   \n",
       " 16869             13487           2                       0.0             0.0   \n",
       "                                   3                       0.0             0.0   \n",
       "                                   4                       0.0             0.0   \n",
       "                                   5                       0.0             0.0   \n",
       "                                   6                       0.0             0.0   \n",
       " \n",
       "                                                 isCarrier  traffic  \n",
       " origin_airport_id dest_airport_id fl_dayofweek                      \n",
       " 10135             10397           0              0.613861      101  \n",
       "                                   1              0.617978       89  \n",
       "                                   2              0.566667       90  \n",
       "                                   3              0.691489       94  \n",
       "                                   4              0.701149       87  \n",
       " ...                                                   ...      ...  \n",
       " 16869             13487           2              0.666667        9  \n",
       "                                   3              0.857143        7  \n",
       "                                   4              0.818182       11  \n",
       "                                   5              0.750000        8  \n",
       "                                   6              0.375000        8  \n",
       " \n",
       " [43385 rows x 9 columns])"
      ]
     },
     "execution_count": 8,
     "metadata": {},
     "output_type": "execute_result"
    }
   ],
   "source": [
    "feature_generation(df_full, 0)\n",
    "# this function calls the necessary functions to clean the dataset \n",
    "# and generate the aggregate features for model training\n",
    "# save_features = True saves the files into the local directory, save_features False returns them"
   ]
  },
  {
   "cell_type": "markdown",
   "id": "561e6e1f",
   "metadata": {},
   "source": [
    "## Step 1: Testing on a sample dataset"
   ]
  },
  {
   "cell_type": "code",
   "execution_count": null,
   "id": "06745654",
   "metadata": {},
   "outputs": [],
   "source": [
    "# reload full dataset\n",
    "chunk = pd.read_csv('../datasets/flights_train_set.csv', \n",
    "#                     usecols = usecols, \n",
    "                    chunksize=1000000, \n",
    "                    low_memory=False)\n",
    "df_full = pd.concat(chunk)\n",
    "df_full.drop(columns = 'Unnamed: 0', inplace=True)"
   ]
  },
  {
   "cell_type": "code",
   "execution_count": 10,
   "id": "62ab33d7",
   "metadata": {},
   "outputs": [],
   "source": [
    "# get the features generated by aggregating the dataset values\n",
    "\n",
    "features_2 = pd.read_csv('../data/features_tailnum_delay_taxi_multiclass_params.csv')\n",
    "features_3 = pd.read_csv('../data/features_tailnum_hourly_delays_multiclass_params_dep.csv')\n",
    "features_4 = pd.read_csv('../data/features_tailnum_hourly_delays_multiclass_params_arr.csv')\n",
    "features_5 = pd.read_csv('../data/features_carrier_branded_dayofweek_delay_multiclass_params.csv')\n",
    "features_6 = pd.read_csv('../data/features_dest_monthly_multiclass_params.csv')\n",
    "features_7 = pd.read_csv('../data/features_origin_monthly_multiclass_params.csv')\n",
    "features_8 = pd.read_csv('../data/features_holiday_multiclass_params.csv')\n",
    "features_9 = pd.read_csv('../data/features_origin_dest_route_dayofweek_multiclass_params.csv')"
   ]
  },
  {
   "cell_type": "markdown",
   "id": "4840825f",
   "metadata": {},
   "source": [
    "### Preparing the training dataset"
   ]
  },
  {
   "cell_type": "code",
   "execution_count": 88,
   "id": "be230e85",
   "metadata": {},
   "outputs": [],
   "source": [
    "# get a sample\n",
    "df_sample = df_full.sample(n=100000)\n",
    "\n",
    "# getting the target and value datasets\n",
    "tmp_train_batch = preprocessing_dataset(df_sample)\n",
    "y_batch, X_batch = preparing_training_df(tmp_train_batch)"
   ]
  },
  {
   "cell_type": "code",
   "execution_count": 89,
   "id": "62bbf18d",
   "metadata": {},
   "outputs": [
    {
     "data": {
      "text/plain": [
       "((40503,), (40503, 59))"
      ]
     },
     "execution_count": 89,
     "metadata": {},
     "output_type": "execute_result"
    }
   ],
   "source": [
    "y_batch.shape, X_batch.shape # check shape"
   ]
  },
  {
   "cell_type": "code",
   "execution_count": 90,
   "id": "c6dacb25",
   "metadata": {},
   "outputs": [
    {
     "data": {
      "text/plain": [
       "carrier_delay          27301\n",
       "late_aircraft_delay     7079\n",
       "nas_delay               5513\n",
       "weather_delay            567\n",
       "security_delay            43\n",
       "Name: target_delay, dtype: int64"
      ]
     },
     "execution_count": 90,
     "metadata": {},
     "output_type": "execute_result"
    }
   ],
   "source": [
    "y_batch.value_counts()"
   ]
  },
  {
   "cell_type": "markdown",
   "id": "a28c489b",
   "metadata": {},
   "source": [
    "Due to the unbalanced classes, we have to strategically create sample data for training.\n",
    "\n",
    "We will try 2 strategies: \n",
    "\n",
    "1. underbalancing the bigger classes or \n",
    "\n",
    "2. overbalancing the smaller classes."
   ]
  },
  {
   "cell_type": "code",
   "execution_count": 91,
   "id": "7c7cde9a",
   "metadata": {},
   "outputs": [],
   "source": [
    "# creating filters for the target classes\n",
    "Y_carrier = y_batch == 'carrier_delay'\n",
    "Y_aircraft = y_batch == 'late_aircraft_delay'\n",
    "Y_nas = y_batch == 'nas_delay'\n",
    "Y_weather = y_batch == 'weather_delay'\n",
    "Y_security = y_batch == 'security_delay'\n",
    "\n",
    "# to get the indices of the records\n",
    "y_carrier_index = y_batch[Y_carrier].index\n",
    "y_security_index = y_batch[Y_security].index\n",
    "y_nas_index = y_batch[Y_nas].index\n",
    "y_weather_index = y_batch[Y_weather].index\n",
    "y_aircraft_index = y_batch[Y_aircraft].index"
   ]
  },
  {
   "cell_type": "markdown",
   "id": "c7081987",
   "metadata": {},
   "source": [
    "#### 1. underbalancing the bigger classes"
   ]
  },
  {
   "cell_type": "code",
   "execution_count": null,
   "id": "25133337",
   "metadata": {},
   "outputs": [],
   "source": [
    "# resize the sample size of the classes so they're equal\n",
    "y_security_training_index = y_security_index\n",
    "y_nas_training_index = np.random.choice(y_nas_index, size = 324)\n",
    "y_weather_training_index = np.random.choice(y_weather_index, size = 324)\n",
    "y_carrier_training_index = np.random.choice(y_carrier_index, size = 324)\n",
    "y_air_training_index = np.random.choice(y_aircraft_index, size = 324)\n",
    "\n",
    "\n",
    "# add them together and shuffle\n",
    "shuffle_index = np.concatenate((y_security_training_index,\n",
    "                  y_nas_training_index,\n",
    "                  y_weather_training_index,\n",
    "                  y_carrier_training_index,\n",
    "                  y_air_training_index))\n",
    "np.random.shuffle(shuffle_index)\n",
    "np.random.shuffle(shuffle_index) # to be doubly sure\n",
    "\n",
    "# make X, the parameters based on the shuffle_index\n",
    "\n",
    "X_train = X_batch.iloc[shuffle_index]\n",
    "y_train = y_batch.iloc[shuffle_index] "
   ]
  },
  {
   "cell_type": "code",
   "execution_count": null,
   "id": "87939dc7",
   "metadata": {},
   "outputs": [],
   "source": [
    "y_train.value_counts()"
   ]
  },
  {
   "cell_type": "markdown",
   "id": "705713ae",
   "metadata": {},
   "source": [
    "**Note**: That a separate test_dataset was reserved before feature generation to avoid data leak. So we will not be using `train test split` to split off from the training dataset, but collecting our test data from a portion of the original `flights.csv` file that was split off before the aggregations were generated."
   ]
  },
  {
   "cell_type": "markdown",
   "id": "6c5597ad",
   "metadata": {},
   "source": [
    "### Preparing the testing dataset"
   ]
  },
  {
   "cell_type": "code",
   "execution_count": 17,
   "id": "a7a4b16e",
   "metadata": {},
   "outputs": [],
   "source": [
    "# prepare test data with train test split\n",
    "# import numpy as np\n",
    "# from sklearn.model_selection import train_test_split\n",
    "# X_train, X_test, y_train, y_test = train_test_split(\n",
    "#     X, y, test_size=0.20, random_state=88)\n",
    "\n",
    "test_full = preprocessing_dataset(pd.read_csv('../datasets/flights_test_set.csv'))"
   ]
  },
  {
   "cell_type": "code",
   "execution_count": 130,
   "id": "9a7a2e1a",
   "metadata": {},
   "outputs": [
    {
     "data": {
      "text/plain": [
       "((2251, 59), (277996, 59), (2251,), (277996,))"
      ]
     },
     "execution_count": 130,
     "metadata": {},
     "output_type": "execute_result"
    }
   ],
   "source": [
    "test_batch = test_full\n",
    "y_test, X_test = preparing_training_df(test_batch)\n",
    "X_train.shape, X_test.shape, y_train.shape, y_test.shape # checking they're shaped the same way"
   ]
  },
  {
   "cell_type": "code",
   "execution_count": 131,
   "id": "29845824",
   "metadata": {},
   "outputs": [
    {
     "data": {
      "text/plain": [
       "carrier_delay          189444\n",
       "late_aircraft_delay     47703\n",
       "nas_delay               36659\n",
       "weather_delay            3990\n",
       "security_delay            200\n",
       "Name: target_delay, dtype: int64"
      ]
     },
     "execution_count": 131,
     "metadata": {},
     "output_type": "execute_result"
    }
   ],
   "source": [
    "y_test.value_counts() # checking that it has all the labels we need"
   ]
  },
  {
   "cell_type": "markdown",
   "id": "a546b8b1",
   "metadata": {},
   "source": [
    "* Now that the datasets are ready, model training and testing starts here...\n",
    "* Our first model is Linear Regression"
   ]
  },
  {
   "cell_type": "code",
   "execution_count": 132,
   "id": "66746194",
   "metadata": {},
   "outputs": [
    {
     "data": {
      "text/html": [
       "<style>#sk-container-id-1 {color: black;background-color: white;}#sk-container-id-1 pre{padding: 0;}#sk-container-id-1 div.sk-toggleable {background-color: white;}#sk-container-id-1 label.sk-toggleable__label {cursor: pointer;display: block;width: 100%;margin-bottom: 0;padding: 0.3em;box-sizing: border-box;text-align: center;}#sk-container-id-1 label.sk-toggleable__label-arrow:before {content: \"▸\";float: left;margin-right: 0.25em;color: #696969;}#sk-container-id-1 label.sk-toggleable__label-arrow:hover:before {color: black;}#sk-container-id-1 div.sk-estimator:hover label.sk-toggleable__label-arrow:before {color: black;}#sk-container-id-1 div.sk-toggleable__content {max-height: 0;max-width: 0;overflow: hidden;text-align: left;background-color: #f0f8ff;}#sk-container-id-1 div.sk-toggleable__content pre {margin: 0.2em;color: black;border-radius: 0.25em;background-color: #f0f8ff;}#sk-container-id-1 input.sk-toggleable__control:checked~div.sk-toggleable__content {max-height: 200px;max-width: 100%;overflow: auto;}#sk-container-id-1 input.sk-toggleable__control:checked~label.sk-toggleable__label-arrow:before {content: \"▾\";}#sk-container-id-1 div.sk-estimator input.sk-toggleable__control:checked~label.sk-toggleable__label {background-color: #d4ebff;}#sk-container-id-1 div.sk-label input.sk-toggleable__control:checked~label.sk-toggleable__label {background-color: #d4ebff;}#sk-container-id-1 input.sk-hidden--visually {border: 0;clip: rect(1px 1px 1px 1px);clip: rect(1px, 1px, 1px, 1px);height: 1px;margin: -1px;overflow: hidden;padding: 0;position: absolute;width: 1px;}#sk-container-id-1 div.sk-estimator {font-family: monospace;background-color: #f0f8ff;border: 1px dotted black;border-radius: 0.25em;box-sizing: border-box;margin-bottom: 0.5em;}#sk-container-id-1 div.sk-estimator:hover {background-color: #d4ebff;}#sk-container-id-1 div.sk-parallel-item::after {content: \"\";width: 100%;border-bottom: 1px solid gray;flex-grow: 1;}#sk-container-id-1 div.sk-label:hover label.sk-toggleable__label {background-color: #d4ebff;}#sk-container-id-1 div.sk-serial::before {content: \"\";position: absolute;border-left: 1px solid gray;box-sizing: border-box;top: 0;bottom: 0;left: 50%;z-index: 0;}#sk-container-id-1 div.sk-serial {display: flex;flex-direction: column;align-items: center;background-color: white;padding-right: 0.2em;padding-left: 0.2em;position: relative;}#sk-container-id-1 div.sk-item {position: relative;z-index: 1;}#sk-container-id-1 div.sk-parallel {display: flex;align-items: stretch;justify-content: center;background-color: white;position: relative;}#sk-container-id-1 div.sk-item::before, #sk-container-id-1 div.sk-parallel-item::before {content: \"\";position: absolute;border-left: 1px solid gray;box-sizing: border-box;top: 0;bottom: 0;left: 50%;z-index: -1;}#sk-container-id-1 div.sk-parallel-item {display: flex;flex-direction: column;z-index: 1;position: relative;background-color: white;}#sk-container-id-1 div.sk-parallel-item:first-child::after {align-self: flex-end;width: 50%;}#sk-container-id-1 div.sk-parallel-item:last-child::after {align-self: flex-start;width: 50%;}#sk-container-id-1 div.sk-parallel-item:only-child::after {width: 0;}#sk-container-id-1 div.sk-dashed-wrapped {border: 1px dashed gray;margin: 0 0.4em 0.5em 0.4em;box-sizing: border-box;padding-bottom: 0.4em;background-color: white;}#sk-container-id-1 div.sk-label label {font-family: monospace;font-weight: bold;display: inline-block;line-height: 1.2em;}#sk-container-id-1 div.sk-label-container {text-align: center;}#sk-container-id-1 div.sk-container {/* jupyter's `normalize.less` sets `[hidden] { display: none; }` but bootstrap.min.css set `[hidden] { display: none !important; }` so we also need the `!important` here to be able to override the default hidden behavior on the sphinx rendered scikit-learn.org. See: https://github.com/scikit-learn/scikit-learn/issues/21755 */display: inline-block !important;position: relative;}#sk-container-id-1 div.sk-text-repr-fallback {display: none;}</style><div id=\"sk-container-id-1\" class=\"sk-top-container\"><div class=\"sk-text-repr-fallback\"><pre>LogisticRegression(max_iter=1500, random_state=88)</pre><b>In a Jupyter environment, please rerun this cell to show the HTML representation or trust the notebook. <br />On GitHub, the HTML representation is unable to render, please try loading this page with nbviewer.org.</b></div><div class=\"sk-container\" hidden><div class=\"sk-item\"><div class=\"sk-estimator sk-toggleable\"><input class=\"sk-toggleable__control sk-hidden--visually\" id=\"sk-estimator-id-1\" type=\"checkbox\" checked><label for=\"sk-estimator-id-1\" class=\"sk-toggleable__label sk-toggleable__label-arrow\">LogisticRegression</label><div class=\"sk-toggleable__content\"><pre>LogisticRegression(max_iter=1500, random_state=88)</pre></div></div></div></div></div>"
      ],
      "text/plain": [
       "LogisticRegression(max_iter=1500, random_state=88)"
      ]
     },
     "execution_count": 132,
     "metadata": {},
     "output_type": "execute_result"
    }
   ],
   "source": [
    "# scale the data\n",
    "from sklearn import preprocessing\n",
    "\n",
    "scaler = preprocessing.StandardScaler().fit(X_train)\n",
    "X_scaled = scaler.transform(X_train)\n",
    "\n",
    "# train model\n",
    "from sklearn.linear_model import LogisticRegression\n",
    "clf = LogisticRegression(random_state=88, max_iter=1500)\n",
    "clf.fit(X_scaled, y_train)"
   ]
  },
  {
   "cell_type": "code",
   "execution_count": 133,
   "id": "045303ae",
   "metadata": {},
   "outputs": [
    {
     "data": {
      "text/plain": [
       "0.21708585735046548"
      ]
     },
     "execution_count": 133,
     "metadata": {},
     "output_type": "execute_result"
    }
   ],
   "source": [
    "# testing the test data\n",
    "X_test_scaled = scaler.transform(X_test)\n",
    "y_pred = clf.predict(X_test_scaled)\n",
    "clf.score(X_test_scaled, y_test)"
   ]
  },
  {
   "cell_type": "code",
   "execution_count": 136,
   "id": "18002a52",
   "metadata": {},
   "outputs": [
    {
     "name": "stdout",
     "output_type": "stream",
     "text": [
      "                     precision    recall  f1-score   support\n",
      "\n",
      "      carrier_delay       0.75      0.18      0.29    189444\n",
      "late_aircraft_delay       0.27      0.33      0.30     47703\n",
      "          nas_delay       0.24      0.25      0.24     36659\n",
      "     security_delay       0.00      0.54      0.00       200\n",
      "      weather_delay       0.04      0.27      0.07      3990\n",
      "\n",
      "           accuracy                           0.22    277996\n",
      "          macro avg       0.26      0.31      0.18    277996\n",
      "       weighted avg       0.59      0.22      0.28    277996\n",
      "\n"
     ]
    }
   ],
   "source": [
    "from sklearn.metrics import classification_report\n",
    "print(classification_report(y_test, y_pred))"
   ]
  },
  {
   "cell_type": "markdown",
   "id": "18008ef4",
   "metadata": {},
   "source": [
    "#### 2. overbalancing the smaller classes"
   ]
  },
  {
   "cell_type": "code",
   "execution_count": 92,
   "id": "75b86660",
   "metadata": {},
   "outputs": [
    {
     "data": {
      "text/plain": [
       "carrier_delay          27301\n",
       "late_aircraft_delay     7079\n",
       "nas_delay               5513\n",
       "weather_delay            567\n",
       "security_delay            43\n",
       "Name: target_delay, dtype: int64"
      ]
     },
     "execution_count": 92,
     "metadata": {},
     "output_type": "execute_result"
    }
   ],
   "source": [
    "y_batch.value_counts()"
   ]
  },
  {
   "cell_type": "code",
   "execution_count": 93,
   "id": "c939be5f",
   "metadata": {},
   "outputs": [],
   "source": [
    "# resize the sample size of the classes so they're equal\n",
    "# y_carrier_training_index = y_carrier_index\n",
    "# y_nas_training_index = np.random.choice(y_nas_index, size = 102820)\n",
    "# y_weather_training_index = np.random.choice(y_weather_index, size = 102820)\n",
    "y_carrier_training_index = np.random.choice(y_carrier_index, size = 6000)\n",
    "# y_air_training_index = np.random.choice(y_aircraft_index, size = 57791)\n",
    "y_nas_training_index = y_nas_index\n",
    "y_air_training_index = y_aircraft_index\n",
    "\n",
    "# tmp = [] # create an empty list then append rhe class index as many times as needed\n",
    "# for i in range (4):\n",
    "#     tmp.extend(y_aircraft_index)\n",
    "# y_air_training_index = tmp\n",
    "\n",
    "# tmp = []\n",
    "# for i in range (5):\n",
    "#     tmp.extend(y_nas_index)\n",
    "# y_nas_training_index = tmp\n",
    "\n",
    "\n",
    "tmp = []\n",
    "for i in range (10):\n",
    "    tmp.extend(y_weather_index)\n",
    "y_weather_training_index = tmp\n",
    "\n",
    "# tmp = []\n",
    "# for i in range (200):\n",
    "#     tmp.extend(y_security_index)\n",
    "# y_security_training_index = tmp"
   ]
  },
  {
   "cell_type": "code",
   "execution_count": null,
   "id": "d85b2d69",
   "metadata": {},
   "outputs": [],
   "source": [
    "import numpy as np\n",
    "# add them together and shuffle\n",
    "shuffle_index = np.concatenate((y_security_training_index,\n",
    "                  y_nas_training_index,\n",
    "                  y_weather_training_index,\n",
    "                  y_carrier_training_index,\n",
    "                  y_air_training_index))\n",
    "np.random.shuffle(shuffle_index)\n",
    "np.random.shuffle(shuffle_index)\n",
    "# make X, the parameters based on the shuffle_index\n",
    "\n",
    "X_train = X_batch.iloc[shuffle_index]\n",
    "y_train = y_batch.iloc[shuffle_index] \n",
    "y_train.value_counts()"
   ]
  },
  {
   "cell_type": "code",
   "execution_count": 140,
   "id": "d7671789",
   "metadata": {},
   "outputs": [
    {
     "data": {
      "text/plain": [
       "0.3535230722744212"
      ]
     },
     "execution_count": 140,
     "metadata": {},
     "output_type": "execute_result"
    }
   ],
   "source": [
    "# scale and train model\n",
    "from sklearn import preprocessing\n",
    "\n",
    "scaler = preprocessing.StandardScaler().fit(X_train)\n",
    "X_scaled = scaler.transform(X_train)\n",
    "\n",
    "from sklearn.linear_model import LogisticRegression\n",
    "clf = LogisticRegression(random_state=88, max_iter=1000)\n",
    "clf.fit(X_scaled, y_train)\n",
    "\n",
    "# testing the test data\n",
    "X_test_scaled = scaler.transform(X_test)\n",
    "y_pred = clf.predict(X_test_scaled)\n",
    "clf.score(X_test_scaled, y_test)"
   ]
  },
  {
   "cell_type": "code",
   "execution_count": 141,
   "id": "b22b8ab8",
   "metadata": {},
   "outputs": [
    {
     "name": "stdout",
     "output_type": "stream",
     "text": [
      "                     precision    recall  f1-score   support\n",
      "\n",
      "      carrier_delay       0.78      0.35      0.48    189444\n",
      "late_aircraft_delay       0.27      0.40      0.32     47703\n",
      "          nas_delay       0.24      0.33      0.28     36659\n",
      "     security_delay       0.00      0.28      0.00       200\n",
      "      weather_delay       0.04      0.38      0.06      3990\n",
      "\n",
      "           accuracy                           0.35    277996\n",
      "          macro avg       0.27      0.35      0.23    277996\n",
      "       weighted avg       0.61      0.35      0.42    277996\n",
      "\n"
     ]
    }
   ],
   "source": [
    "from sklearn.metrics import classification_report\n",
    "print(classification_report(y_test, y_pred))"
   ]
  },
  {
   "cell_type": "code",
   "execution_count": 30,
   "id": "52608090",
   "metadata": {},
   "outputs": [
    {
     "data": {
      "text/plain": [
       "0.6769672364380337"
      ]
     },
     "execution_count": 30,
     "metadata": {},
     "output_type": "execute_result"
    }
   ],
   "source": [
    "from sklearn.metrics import roc_auc_score\n",
    "roc_auc_score(y_test, clf.predict_proba(X_test_scaled), multi_class = 'ovo')"
   ]
  },
  {
   "cell_type": "markdown",
   "id": "addbe3f8",
   "metadata": {},
   "source": [
    "## Step 2: Testing on the entire dataset"
   ]
  },
  {
   "cell_type": "code",
   "execution_count": 11,
   "id": "dfe1325b",
   "metadata": {},
   "outputs": [
    {
     "data": {
      "text/plain": [
       "((4877259,),\n",
       " (4877259, 59),\n",
       " carrier_delay          3306244\n",
       " late_aircraft_delay     845768\n",
       " nas_delay               650651\n",
       " weather_delay            71051\n",
       " security_delay            3545\n",
       " Name: target_delay, dtype: int64)"
      ]
     },
     "execution_count": 11,
     "metadata": {},
     "output_type": "execute_result"
    }
   ],
   "source": [
    "# get full\n",
    "df_sample = df_full\n",
    "\n",
    "# getting the target and value datasets\n",
    "tmp_train_batch = preprocessing_dataset(df_sample)\n",
    "y_batch, X_batch = preparing_training_df(tmp_train_batch)\n",
    "y_batch.shape, X_batch.shape, y_batch.value_counts()"
   ]
  },
  {
   "cell_type": "markdown",
   "id": "5035f58a",
   "metadata": {},
   "source": [
    "(What happened?! Why is the dataset so small? Because this model is trained on the sample of flights that have already been delayed. Only a small portion of the entire 16M flights were actually delayed flights)"
   ]
  },
  {
   "cell_type": "code",
   "execution_count": 13,
   "id": "7f13e960",
   "metadata": {},
   "outputs": [],
   "source": [
    "# once again, we have to overbalance the smaller classes...\n",
    "# creating filters for the target classes\n",
    "Y_carrier = y_batch == 'carrier_delay'\n",
    "Y_aircraft = y_batch == 'late_aircraft_delay'\n",
    "Y_nas = y_batch == 'nas_delay'\n",
    "Y_weather = y_batch == 'weather_delay'\n",
    "Y_security = y_batch == 'security_delay'\n",
    "\n",
    "# to get the indices of the records\n",
    "y_carrier_index = y_batch[Y_carrier].index\n",
    "y_security_index = y_batch[Y_security].index\n",
    "y_nas_index = y_batch[Y_nas].index\n",
    "y_weather_index = y_batch[Y_weather].index\n",
    "y_aircraft_index = y_batch[Y_aircraft].index"
   ]
  },
  {
   "cell_type": "code",
   "execution_count": 23,
   "id": "14ff3322",
   "metadata": {},
   "outputs": [
    {
     "data": {
      "text/plain": [
       "weather_delay          3552550\n",
       "security_delay         3545000\n",
       "late_aircraft_delay    3383072\n",
       "carrier_delay          3306244\n",
       "nas_delay              3253255\n",
       "Name: target_delay, dtype: int64"
      ]
     },
     "execution_count": 23,
     "metadata": {},
     "output_type": "execute_result"
    }
   ],
   "source": [
    "# resize the sample size of the classes so they're equal\n",
    "y_carrier_training_index = y_carrier_index\n",
    "# y_nas_training_index = np.random.choice(y_nas_index, size = 102820)\n",
    "# y_weather_training_index = np.random.choice(y_weather_index, size = 102820)\n",
    "# y_carrier_training_index = np.random.choice(y_carrier_index, size = 57791)\n",
    "# y_air_training_index = np.random.choice(y_aircraft_index, size = 57791)\n",
    "# y_nas_training_index = y_nas_index\n",
    "\n",
    "tmp = [] # create an empty list then append rhe class index as many times as needed\n",
    "for i in range (4):\n",
    "    tmp.extend(y_aircraft_index)\n",
    "y_air_training_index = tmp\n",
    "\n",
    "tmp = []\n",
    "for i in range (5):\n",
    "    tmp.extend(y_nas_index)\n",
    "y_nas_training_index = tmp\n",
    "\n",
    "\n",
    "tmp = []\n",
    "for i in range (50):\n",
    "    tmp.extend(y_weather_index)\n",
    "y_weather_training_index = tmp\n",
    "\n",
    "tmp = []\n",
    "for i in range (1000):\n",
    "    tmp.extend(y_security_index)\n",
    "y_security_training_index = tmp\n",
    "\n",
    "\n",
    "import numpy as np\n",
    "# add them together and shuffle\n",
    "shuffle_index = np.concatenate((y_security_training_index,\n",
    "                  y_nas_training_index,\n",
    "                  y_weather_training_index,\n",
    "                  y_carrier_training_index,\n",
    "                  y_air_training_index))\n",
    "np.random.shuffle(shuffle_index)\n",
    "np.random.shuffle(shuffle_index)\n",
    "# make X, the parameters based on the shuffle_index\n",
    "\n",
    "X_train = X_batch.iloc[shuffle_index]\n",
    "y_train = y_batch.iloc[shuffle_index] \n",
    "y_train.value_counts()"
   ]
  },
  {
   "cell_type": "code",
   "execution_count": 83,
   "id": "5368ff83",
   "metadata": {},
   "outputs": [
    {
     "data": {
      "text/plain": [
       "57405      True\n",
       "66725     False\n",
       "108650    False\n",
       "203053     True\n",
       "138657     True\n",
       "          ...  \n",
       "157957    False\n",
       "62509     False\n",
       "472        True\n",
       "178374    False\n",
       "42083     False\n",
       "Name: target_delay, Length: 156437, dtype: bool"
      ]
     },
     "execution_count": 83,
     "metadata": {},
     "output_type": "execute_result"
    }
   ],
   "source": []
  },
  {
   "cell_type": "code",
   "execution_count": null,
   "id": "217a4f02",
   "metadata": {},
   "outputs": [],
   "source": [
    "# scale and train model\n",
    "from sklearn import preprocessing\n",
    "\n",
    "scaler = preprocessing.StandardScaler().fit(X_train)\n",
    "X_scaled = scaler.transform(X_train)\n",
    "\n",
    "from sklearn.linear_model import LogisticRegression\n",
    "clf = LogisticRegression(random_state=88, max_iter=1000)\n",
    "clf.fit(X_scaled, y_train)"
   ]
  },
  {
   "cell_type": "code",
   "execution_count": 84,
   "id": "e7f3c938",
   "metadata": {},
   "outputs": [
    {
     "ename": "SyntaxError",
     "evalue": "invalid syntax (4177813563.py, line 1)",
     "output_type": "error",
     "traceback": [
      "\u001b[0;36m  Cell \u001b[0;32mIn[84], line 1\u001b[0;36m\u001b[0m\n\u001b[0;31m    filter =\u001b[0m\n\u001b[0m             ^\u001b[0m\n\u001b[0;31mSyntaxError\u001b[0m\u001b[0;31m:\u001b[0m invalid syntax\n"
     ]
    }
   ],
   "source": [
    "filter = y_train == 'security_delay'\n",
    "y_train[filter].index\n",
    "y_ = y_train[~filter].copy()\n",
    "X_ = X_train[~filter].copy()\n",
    "X_.shape, y_.shape"
   ]
  },
  {
   "cell_type": "code",
   "execution_count": 19,
   "id": "ab1240b5",
   "metadata": {},
   "outputs": [
    {
     "data": {
      "text/plain": [
       "0.23565171586319916"
      ]
     },
     "execution_count": 19,
     "metadata": {},
     "output_type": "execute_result"
    }
   ],
   "source": [
    "# testing the test data\n",
    "X_test_scaled = scaler.transform(X_test)\n",
    "y_pred = clf.predict(X_test_scaled)\n",
    "clf.score(X_test_scaled, y_test)"
   ]
  },
  {
   "cell_type": "code",
   "execution_count": 20,
   "id": "b7128459",
   "metadata": {},
   "outputs": [
    {
     "name": "stdout",
     "output_type": "stream",
     "text": [
      "                     precision    recall  f1-score   support\n",
      "\n",
      "      carrier_delay       0.77      0.16      0.27    174097\n",
      "late_aircraft_delay       0.28      0.41      0.33     44522\n",
      "          nas_delay       0.24      0.36      0.28     33842\n",
      "     security_delay       0.00      0.43      0.00       182\n",
      "      weather_delay       0.03      0.39      0.06      3642\n",
      "\n",
      "           accuracy                           0.24    256285\n",
      "          macro avg       0.26      0.35      0.19    256285\n",
      "       weighted avg       0.60      0.24      0.28    256285\n",
      "\n"
     ]
    }
   ],
   "source": [
    "from sklearn.metrics import classification_report\n",
    "print(classification_report(y_test, y_pred))"
   ]
  },
  {
   "cell_type": "code",
   "execution_count": 28,
   "id": "058f6a70",
   "metadata": {},
   "outputs": [
    {
     "data": {
      "text/plain": [
       "0.6769672364380337"
      ]
     },
     "execution_count": 28,
     "metadata": {},
     "output_type": "execute_result"
    }
   ],
   "source": [
    "from sklearn.metrics import roc_auc_score\n",
    "roc_auc_score(y_test, clf.predict_proba(X_test_scaled), multi_class = 'ovo')"
   ]
  },
  {
   "cell_type": "code",
   "execution_count": null,
   "id": "c66a2c96",
   "metadata": {},
   "outputs": [],
   "source": [
    "y_pred = clf.predict(X_test_scaled)\n",
    "from sklearn.metrics import confusion_matrix\n",
    "\n",
    "plt.figure(figsize = (18,8))\n",
    "sns.heatmap(confusion_matrix(y_test, y_pred), \n",
    "            annot = True, xticklabels = y_test.unique(), yticklabels = y_test.unique(), cmap = 'summer')\n",
    "plt.xlabel('Predicted Labels')\n",
    "plt.ylabel('True Labels')\n",
    "plt.tight_layout()\n",
    "\n",
    "plt.show()"
   ]
  },
  {
   "cell_type": "markdown",
   "id": "8e4707e0",
   "metadata": {},
   "source": [
    "## Random Forest Classifier"
   ]
  },
  {
   "cell_type": "code",
   "execution_count": 43,
   "id": "d05f4bf0",
   "metadata": {},
   "outputs": [
    {
     "data": {
      "text/html": [
       "<style>#sk-container-id-1 {color: black;background-color: white;}#sk-container-id-1 pre{padding: 0;}#sk-container-id-1 div.sk-toggleable {background-color: white;}#sk-container-id-1 label.sk-toggleable__label {cursor: pointer;display: block;width: 100%;margin-bottom: 0;padding: 0.3em;box-sizing: border-box;text-align: center;}#sk-container-id-1 label.sk-toggleable__label-arrow:before {content: \"▸\";float: left;margin-right: 0.25em;color: #696969;}#sk-container-id-1 label.sk-toggleable__label-arrow:hover:before {color: black;}#sk-container-id-1 div.sk-estimator:hover label.sk-toggleable__label-arrow:before {color: black;}#sk-container-id-1 div.sk-toggleable__content {max-height: 0;max-width: 0;overflow: hidden;text-align: left;background-color: #f0f8ff;}#sk-container-id-1 div.sk-toggleable__content pre {margin: 0.2em;color: black;border-radius: 0.25em;background-color: #f0f8ff;}#sk-container-id-1 input.sk-toggleable__control:checked~div.sk-toggleable__content {max-height: 200px;max-width: 100%;overflow: auto;}#sk-container-id-1 input.sk-toggleable__control:checked~label.sk-toggleable__label-arrow:before {content: \"▾\";}#sk-container-id-1 div.sk-estimator input.sk-toggleable__control:checked~label.sk-toggleable__label {background-color: #d4ebff;}#sk-container-id-1 div.sk-label input.sk-toggleable__control:checked~label.sk-toggleable__label {background-color: #d4ebff;}#sk-container-id-1 input.sk-hidden--visually {border: 0;clip: rect(1px 1px 1px 1px);clip: rect(1px, 1px, 1px, 1px);height: 1px;margin: -1px;overflow: hidden;padding: 0;position: absolute;width: 1px;}#sk-container-id-1 div.sk-estimator {font-family: monospace;background-color: #f0f8ff;border: 1px dotted black;border-radius: 0.25em;box-sizing: border-box;margin-bottom: 0.5em;}#sk-container-id-1 div.sk-estimator:hover {background-color: #d4ebff;}#sk-container-id-1 div.sk-parallel-item::after {content: \"\";width: 100%;border-bottom: 1px solid gray;flex-grow: 1;}#sk-container-id-1 div.sk-label:hover label.sk-toggleable__label {background-color: #d4ebff;}#sk-container-id-1 div.sk-serial::before {content: \"\";position: absolute;border-left: 1px solid gray;box-sizing: border-box;top: 0;bottom: 0;left: 50%;z-index: 0;}#sk-container-id-1 div.sk-serial {display: flex;flex-direction: column;align-items: center;background-color: white;padding-right: 0.2em;padding-left: 0.2em;position: relative;}#sk-container-id-1 div.sk-item {position: relative;z-index: 1;}#sk-container-id-1 div.sk-parallel {display: flex;align-items: stretch;justify-content: center;background-color: white;position: relative;}#sk-container-id-1 div.sk-item::before, #sk-container-id-1 div.sk-parallel-item::before {content: \"\";position: absolute;border-left: 1px solid gray;box-sizing: border-box;top: 0;bottom: 0;left: 50%;z-index: -1;}#sk-container-id-1 div.sk-parallel-item {display: flex;flex-direction: column;z-index: 1;position: relative;background-color: white;}#sk-container-id-1 div.sk-parallel-item:first-child::after {align-self: flex-end;width: 50%;}#sk-container-id-1 div.sk-parallel-item:last-child::after {align-self: flex-start;width: 50%;}#sk-container-id-1 div.sk-parallel-item:only-child::after {width: 0;}#sk-container-id-1 div.sk-dashed-wrapped {border: 1px dashed gray;margin: 0 0.4em 0.5em 0.4em;box-sizing: border-box;padding-bottom: 0.4em;background-color: white;}#sk-container-id-1 div.sk-label label {font-family: monospace;font-weight: bold;display: inline-block;line-height: 1.2em;}#sk-container-id-1 div.sk-label-container {text-align: center;}#sk-container-id-1 div.sk-container {/* jupyter's `normalize.less` sets `[hidden] { display: none; }` but bootstrap.min.css set `[hidden] { display: none !important; }` so we also need the `!important` here to be able to override the default hidden behavior on the sphinx rendered scikit-learn.org. See: https://github.com/scikit-learn/scikit-learn/issues/21755 */display: inline-block !important;position: relative;}#sk-container-id-1 div.sk-text-repr-fallback {display: none;}</style><div id=\"sk-container-id-1\" class=\"sk-top-container\"><div class=\"sk-text-repr-fallback\"><pre>RandomForestClassifier(random_state=0)</pre><b>In a Jupyter environment, please rerun this cell to show the HTML representation or trust the notebook. <br />On GitHub, the HTML representation is unable to render, please try loading this page with nbviewer.org.</b></div><div class=\"sk-container\" hidden><div class=\"sk-item\"><div class=\"sk-estimator sk-toggleable\"><input class=\"sk-toggleable__control sk-hidden--visually\" id=\"sk-estimator-id-1\" type=\"checkbox\" checked><label for=\"sk-estimator-id-1\" class=\"sk-toggleable__label sk-toggleable__label-arrow\">RandomForestClassifier</label><div class=\"sk-toggleable__content\"><pre>RandomForestClassifier(random_state=0)</pre></div></div></div></div></div>"
      ],
      "text/plain": [
       "RandomForestClassifier(random_state=0)"
      ]
     },
     "execution_count": 43,
     "metadata": {},
     "output_type": "execute_result"
    }
   ],
   "source": [
    "# scale and train model\n",
    "from sklearn import preprocessing\n",
    "\n",
    "scaler = preprocessing.StandardScaler().fit(X_train)\n",
    "X_scaled = scaler.transform(X_train)\n",
    "\n",
    "from sklearn.ensemble import RandomForestClassifier\n",
    "\n",
    "rfc = RandomForestClassifier(random_state=0)\n",
    "rfc.fit(X_scaled, y_train)"
   ]
  },
  {
   "cell_type": "code",
   "execution_count": 44,
   "id": "2b902168",
   "metadata": {},
   "outputs": [
    {
     "data": {
      "text/plain": [
       "0.4567337144194939"
      ]
     },
     "execution_count": 44,
     "metadata": {},
     "output_type": "execute_result"
    }
   ],
   "source": [
    "# testing the test data\n",
    "X_test_scaled = scaler.transform(X_test)\n",
    "y_pred = rfc.predict(X_test_scaled)\n",
    "rfc.score(X_test_scaled, y_test)"
   ]
  },
  {
   "cell_type": "code",
   "execution_count": 45,
   "id": "70cdbe67",
   "metadata": {},
   "outputs": [
    {
     "name": "stdout",
     "output_type": "stream",
     "text": [
      "                     precision    recall  f1-score   support\n",
      "\n",
      "      carrier_delay       0.78      0.45      0.57    174097\n",
      "late_aircraft_delay       0.25      0.65      0.36     44522\n",
      "          nas_delay       0.25      0.30      0.27     33842\n",
      "     security_delay       0.10      0.01      0.01       182\n",
      "      weather_delay       0.09      0.01      0.02      3642\n",
      "\n",
      "           accuracy                           0.46    256285\n",
      "          macro avg       0.29      0.28      0.25    256285\n",
      "       weighted avg       0.61      0.46      0.49    256285\n",
      "\n"
     ]
    }
   ],
   "source": [
    "print(classification_report(y_test, y_pred))"
   ]
  },
  {
   "cell_type": "code",
   "execution_count": 46,
   "id": "d694b968",
   "metadata": {},
   "outputs": [
    {
     "data": {
      "text/plain": [
       "0.6395943498764755"
      ]
     },
     "execution_count": 46,
     "metadata": {},
     "output_type": "execute_result"
    }
   ],
   "source": [
    "from sklearn.metrics import roc_auc_score\n",
    "roc_auc_score(y_test, rfc.predict_proba(X_test_scaled), multi_class = 'ovo')"
   ]
  },
  {
   "cell_type": "code",
   "execution_count": 96,
   "id": "4eafa813",
   "metadata": {},
   "outputs": [
    {
     "data": {
      "image/png": "[encoded data removed]",
      "text/plain": [
       "<Figure size 700x400 with 2 Axes>"
      ]
     },
     "metadata": {},
     "output_type": "display_data"
    }
   ],
   "source": [
    "y_pred = clf.predict(X_test_scaled)\n",
    "from sklearn.metrics import confusion_matrix\n",
    "\n",
    "plt.figure(figsize = (7,4))\n",
    "sns.heatmap(confusion_matrix(y_test, y_pred), \n",
    "            annot = True, xticklabels = y_test.unique(), yticklabels = y_test.unique(), cmap = 'PiYG')\n",
    "plt.xlabel('Predicted Labels')\n",
    "plt.ylabel('True Labels')\n",
    "plt.tight_layout()\n",
    "\n",
    "plt.show()"
   ]
  },
  {
   "cell_type": "code",
   "execution_count": 95,
   "id": "34d539d1",
   "metadata": {},
   "outputs": [
    {
     "name": "stdout",
     "output_type": "stream",
     "text": [
      "                     precision    recall  f1-score   support\n",
      "\n",
      "      carrier_delay       0.77      0.16      0.27    174097\n",
      "late_aircraft_delay       0.28      0.41      0.33     44522\n",
      "          nas_delay       0.24      0.35      0.28     33842\n",
      "     security_delay       0.00      0.43      0.00       182\n",
      "      weather_delay       0.03      0.43      0.06      3642\n",
      "\n",
      "           accuracy                           0.23    256285\n",
      "          macro avg       0.26      0.35      0.19    256285\n",
      "       weighted avg       0.60      0.23      0.28    256285\n",
      "\n"
     ]
    }
   ],
   "source": [
    "from sklearn.metrics import classification_report\n",
    "print(classification_report(y_test, y_pred))"
   ]
  },
  {
   "cell_type": "markdown",
   "id": "3215e4fd",
   "metadata": {},
   "source": [
    "## Model: Naive Bayes GaussianNB"
   ]
  },
  {
   "cell_type": "code",
   "execution_count": 24,
   "id": "2ff301d4",
   "metadata": {},
   "outputs": [
    {
     "data": {
      "text/plain": [
       "0.028807772596913594"
      ]
     },
     "execution_count": 24,
     "metadata": {},
     "output_type": "execute_result"
    }
   ],
   "source": [
    "# scale and train model\n",
    "from sklearn import preprocessing\n",
    "\n",
    "scaler = preprocessing.StandardScaler().fit(X_train)\n",
    "X_scaled = scaler.transform(X_train)\n",
    "\n",
    "\n",
    "from sklearn.naive_bayes import GaussianNB\n",
    "\n",
    "# Build a Gaussian Classifier\n",
    "nbG = GaussianNB()\n",
    "\n",
    "# Model training\n",
    "nbG.fit(X_scaled, y_train)\n",
    "\n",
    "\n",
    "# testing the test data\n",
    "X_test_scaled = scaler.transform(X_test)\n",
    "nbG.score(X_test_scaled, y_test)"
   ]
  },
  {
   "cell_type": "code",
   "execution_count": 25,
   "id": "50dcc2de",
   "metadata": {},
   "outputs": [
    {
     "name": "stdout",
     "output_type": "stream",
     "text": [
      "                     precision    recall  f1-score   support\n",
      "\n",
      "      carrier_delay       1.00      0.00      0.00    174097\n",
      "late_aircraft_delay       0.25      0.00      0.00     44522\n",
      "          nas_delay       0.23      0.15      0.18     33842\n",
      "     security_delay       0.00      0.63      0.00       182\n",
      "      weather_delay       0.02      0.62      0.04      3642\n",
      "\n",
      "           accuracy                           0.03    256285\n",
      "          macro avg       0.30      0.28      0.04    256285\n",
      "       weighted avg       0.75      0.03      0.02    256285\n",
      "\n"
     ]
    }
   ],
   "source": [
    "y_pred = nbG.predict(X_test_scaled)\n",
    "print(classification_report(y_test, y_pred))"
   ]
  },
  {
   "cell_type": "code",
   "execution_count": 29,
   "id": "74763477",
   "metadata": {},
   "outputs": [
    {
     "data": {
      "text/plain": [
       "0.6248401476757677"
      ]
     },
     "execution_count": 29,
     "metadata": {},
     "output_type": "execute_result"
    }
   ],
   "source": [
    "from sklearn.metrics import roc_auc_score\n",
    "roc_auc_score(y_test, nbG.predict_proba(X_test_scaled), multi_class = 'ovo')"
   ]
  },
  {
   "cell_type": "markdown",
   "id": "dc8ae4ec",
   "metadata": {},
   "source": [
    "## Testing on Submission Data"
   ]
  },
  {
   "cell_type": "code",
   "execution_count": 74,
   "id": "bf19e2ed",
   "metadata": {},
   "outputs": [
    {
     "data": {
      "text/html": [
       "<div>\n",
       "<style scoped>\n",
       "    .dataframe tbody tr th:only-of-type {\n",
       "        vertical-align: middle;\n",
       "    }\n",
       "\n",
       "    .dataframe tbody tr th {\n",
       "        vertical-align: top;\n",
       "    }\n",
       "\n",
       "    .dataframe thead th {\n",
       "        text-align: right;\n",
       "    }\n",
       "</style>\n",
       "<table border=\"1\" class=\"dataframe\">\n",
       "  <thead>\n",
       "    <tr style=\"text-align: right;\">\n",
       "      <th></th>\n",
       "      <th>fl_date</th>\n",
       "      <th>mkt_unique_carrier</th>\n",
       "      <th>branded_code_share</th>\n",
       "      <th>mkt_carrier</th>\n",
       "      <th>mkt_carrier_fl_num</th>\n",
       "      <th>op_unique_carrier</th>\n",
       "      <th>tail_num</th>\n",
       "      <th>op_carrier_fl_num</th>\n",
       "      <th>origin_airport_id</th>\n",
       "      <th>origin</th>\n",
       "      <th>origin_city_name</th>\n",
       "      <th>dest_airport_id</th>\n",
       "      <th>dest</th>\n",
       "      <th>dest_city_name</th>\n",
       "      <th>crs_dep_time</th>\n",
       "      <th>crs_arr_time</th>\n",
       "      <th>dup</th>\n",
       "      <th>crs_elapsed_time</th>\n",
       "      <th>flights</th>\n",
       "      <th>distance</th>\n",
       "    </tr>\n",
       "  </thead>\n",
       "  <tbody>\n",
       "    <tr>\n",
       "      <th>0</th>\n",
       "      <td>2020-01-01 00:00:00</td>\n",
       "      <td>WN</td>\n",
       "      <td>WN</td>\n",
       "      <td>WN</td>\n",
       "      <td>5888</td>\n",
       "      <td>WN</td>\n",
       "      <td>N951WN</td>\n",
       "      <td>5888</td>\n",
       "      <td>13891</td>\n",
       "      <td>ONT</td>\n",
       "      <td>Ontario, CA</td>\n",
       "      <td>14771</td>\n",
       "      <td>SFO</td>\n",
       "      <td>San Francisco, CA</td>\n",
       "      <td>1810</td>\n",
       "      <td>1945</td>\n",
       "      <td>N</td>\n",
       "      <td>95</td>\n",
       "      <td>1</td>\n",
       "      <td>363</td>\n",
       "    </tr>\n",
       "    <tr>\n",
       "      <th>1</th>\n",
       "      <td>2020-01-01 00:00:00</td>\n",
       "      <td>WN</td>\n",
       "      <td>WN</td>\n",
       "      <td>WN</td>\n",
       "      <td>6276</td>\n",
       "      <td>WN</td>\n",
       "      <td>N467WN</td>\n",
       "      <td>6276</td>\n",
       "      <td>13891</td>\n",
       "      <td>ONT</td>\n",
       "      <td>Ontario, CA</td>\n",
       "      <td>14771</td>\n",
       "      <td>SFO</td>\n",
       "      <td>San Francisco, CA</td>\n",
       "      <td>1150</td>\n",
       "      <td>1320</td>\n",
       "      <td>N</td>\n",
       "      <td>90</td>\n",
       "      <td>1</td>\n",
       "      <td>363</td>\n",
       "    </tr>\n",
       "    <tr>\n",
       "      <th>2</th>\n",
       "      <td>2020-01-01 00:00:00</td>\n",
       "      <td>WN</td>\n",
       "      <td>WN</td>\n",
       "      <td>WN</td>\n",
       "      <td>4598</td>\n",
       "      <td>WN</td>\n",
       "      <td>N7885A</td>\n",
       "      <td>4598</td>\n",
       "      <td>13891</td>\n",
       "      <td>ONT</td>\n",
       "      <td>Ontario, CA</td>\n",
       "      <td>14831</td>\n",
       "      <td>SJC</td>\n",
       "      <td>San Jose, CA</td>\n",
       "      <td>2020</td>\n",
       "      <td>2130</td>\n",
       "      <td>N</td>\n",
       "      <td>70</td>\n",
       "      <td>1</td>\n",
       "      <td>333</td>\n",
       "    </tr>\n",
       "    <tr>\n",
       "      <th>3</th>\n",
       "      <td>2020-01-01 00:00:00</td>\n",
       "      <td>WN</td>\n",
       "      <td>WN</td>\n",
       "      <td>WN</td>\n",
       "      <td>4761</td>\n",
       "      <td>WN</td>\n",
       "      <td>N551WN</td>\n",
       "      <td>4761</td>\n",
       "      <td>13891</td>\n",
       "      <td>ONT</td>\n",
       "      <td>Ontario, CA</td>\n",
       "      <td>14831</td>\n",
       "      <td>SJC</td>\n",
       "      <td>San Jose, CA</td>\n",
       "      <td>1340</td>\n",
       "      <td>1455</td>\n",
       "      <td>N</td>\n",
       "      <td>75</td>\n",
       "      <td>1</td>\n",
       "      <td>333</td>\n",
       "    </tr>\n",
       "    <tr>\n",
       "      <th>4</th>\n",
       "      <td>2020-01-01 00:00:00</td>\n",
       "      <td>WN</td>\n",
       "      <td>WN</td>\n",
       "      <td>WN</td>\n",
       "      <td>5162</td>\n",
       "      <td>WN</td>\n",
       "      <td>N968WN</td>\n",
       "      <td>5162</td>\n",
       "      <td>13891</td>\n",
       "      <td>ONT</td>\n",
       "      <td>Ontario, CA</td>\n",
       "      <td>14831</td>\n",
       "      <td>SJC</td>\n",
       "      <td>San Jose, CA</td>\n",
       "      <td>915</td>\n",
       "      <td>1035</td>\n",
       "      <td>N</td>\n",
       "      <td>80</td>\n",
       "      <td>1</td>\n",
       "      <td>333</td>\n",
       "    </tr>\n",
       "  </tbody>\n",
       "</table>\n",
       "</div>"
      ],
      "text/plain": [
       "               fl_date mkt_unique_carrier branded_code_share mkt_carrier  \\\n",
       "0  2020-01-01 00:00:00                 WN                 WN          WN   \n",
       "1  2020-01-01 00:00:00                 WN                 WN          WN   \n",
       "2  2020-01-01 00:00:00                 WN                 WN          WN   \n",
       "3  2020-01-01 00:00:00                 WN                 WN          WN   \n",
       "4  2020-01-01 00:00:00                 WN                 WN          WN   \n",
       "\n",
       "   mkt_carrier_fl_num op_unique_carrier tail_num  op_carrier_fl_num  \\\n",
       "0                5888                WN   N951WN               5888   \n",
       "1                6276                WN   N467WN               6276   \n",
       "2                4598                WN   N7885A               4598   \n",
       "3                4761                WN   N551WN               4761   \n",
       "4                5162                WN   N968WN               5162   \n",
       "\n",
       "   origin_airport_id origin origin_city_name  dest_airport_id dest  \\\n",
       "0              13891    ONT      Ontario, CA            14771  SFO   \n",
       "1              13891    ONT      Ontario, CA            14771  SFO   \n",
       "2              13891    ONT      Ontario, CA            14831  SJC   \n",
       "3              13891    ONT      Ontario, CA            14831  SJC   \n",
       "4              13891    ONT      Ontario, CA            14831  SJC   \n",
       "\n",
       "      dest_city_name  crs_dep_time  crs_arr_time dup  crs_elapsed_time  \\\n",
       "0  San Francisco, CA          1810          1945   N                95   \n",
       "1  San Francisco, CA          1150          1320   N                90   \n",
       "2       San Jose, CA          2020          2130   N                70   \n",
       "3       San Jose, CA          1340          1455   N                75   \n",
       "4       San Jose, CA           915          1035   N                80   \n",
       "\n",
       "   flights  distance  \n",
       "0        1       363  \n",
       "1        1       363  \n",
       "2        1       333  \n",
       "3        1       333  \n",
       "4        1       333  "
      ]
     },
     "execution_count": 74,
     "metadata": {},
     "output_type": "execute_result"
    }
   ],
   "source": [
    "test = pd.read_csv('../datasets/flights_test.csv')\n",
    "test.head()"
   ]
  },
  {
   "cell_type": "code",
   "execution_count": 75,
   "id": "2934cb0c",
   "metadata": {},
   "outputs": [],
   "source": [
    "# preprocess the data\n",
    "X_testing = preparing_test_dataset(test)\n",
    "\n",
    "# apply scaling\n",
    "X_testing_scaled = scaler.transform(X_testing)\n",
    "\n",
    "# load the saved model\n",
    "# test the data\n",
    "y_testing = clf.predict(X_testing_scaled)"
   ]
  },
  {
   "cell_type": "code",
   "execution_count": 78,
   "id": "cde49e26",
   "metadata": {},
   "outputs": [
    {
     "data": {
      "text/plain": [
       "array(['late_aircraft_delay', 'security_delay', 'security_delay', ...,\n",
       "       'carrier_delay', 'carrier_delay', 'carrier_delay'], dtype=object)"
      ]
     },
     "execution_count": 78,
     "metadata": {},
     "output_type": "execute_result"
    }
   ],
   "source": [
    "y_testing"
   ]
  },
  {
   "cell_type": "code",
   "execution_count": 82,
   "id": "b542ae63",
   "metadata": {},
   "outputs": [],
   "source": [
    "pd.DataFrame(y_testing).to_csv('flights_test_results.csv')"
   ]
  },
  {
   "cell_type": "code",
   "execution_count": null,
   "id": "5124d20b",
   "metadata": {},
   "outputs": [],
   "source": []
  },
  {
   "cell_type": "code",
   "execution_count": null,
   "id": "9fa7e690",
   "metadata": {},
   "outputs": [],
   "source": []
  },
  {
   "cell_type": "code",
   "execution_count": null,
   "id": "134a69b8",
   "metadata": {},
   "outputs": [],
   "source": []
  }
 ],
 "metadata": {
  "kernelspec": {
   "display_name": "Python 3 (ipykernel)",
   "language": "python",
   "name": "python3"
  },
  "language_info": {
   "codemirror_mode": {
    "name": "ipython",
    "version": 3
   },
   "file_extension": ".py",
   "mimetype": "text/x-python",
   "name": "python",
   "nbconvert_exporter": "python",
   "pygments_lexer": "ipython3",
   "version": "3.8.16"
  }
 },
 "nbformat": 4,
 "nbformat_minor": 5
}
